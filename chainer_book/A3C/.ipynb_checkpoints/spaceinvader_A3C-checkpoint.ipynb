{
 "cells": [
  {
   "cell_type": "code",
   "execution_count": 1,
   "metadata": {
    "ExecuteTime": {
     "end_time": "2019-08-03T13:29:14.206607Z",
     "start_time": "2019-08-03T13:29:13.255253Z"
    },
    "colab": {},
    "colab_type": "code",
    "id": "vO0VmhXRlW-h"
   },
   "outputs": [],
   "source": [
    "from __future__ import print_function\n",
    "import chainer\n",
    "import chainer.functions as F\n",
    "import chainer.links as L\n",
    "import chainerrl\n",
    "import numpy as np\n",
    "import gym\n",
    "import logging"
   ]
  },
  {
   "cell_type": "code",
   "execution_count": 2,
   "metadata": {
    "ExecuteTime": {
     "end_time": "2019-08-03T13:29:18.003154Z",
     "start_time": "2019-08-03T13:29:17.985648Z"
    },
    "colab": {},
    "colab_type": "code",
    "id": "UcXbGmmamCZf"
   },
   "outputs": [],
   "source": [
    "from tqdm import tqdm"
   ]
  },
  {
   "cell_type": "code",
   "execution_count": 3,
   "metadata": {
    "ExecuteTime": {
     "end_time": "2019-08-03T13:29:21.935371Z",
     "start_time": "2019-08-03T13:29:21.924731Z"
    },
    "colab": {},
    "colab_type": "code",
    "id": "LzKMkKxpmavK"
   },
   "outputs": [],
   "source": [
    "def phi(obs):\n",
    "    return obs.astype(np.float32)"
   ]
  },
  {
   "cell_type": "code",
   "execution_count": 4,
   "metadata": {
    "ExecuteTime": {
     "end_time": "2019-08-03T13:29:23.777407Z",
     "start_time": "2019-08-03T13:29:23.760171Z"
    },
    "colab": {},
    "colab_type": "code",
    "id": "jfVPSLz-mjvb"
   },
   "outputs": [],
   "source": [
    "class A3CLSTMSoftmax(chainer.Chain, chainerrl.agents.a3c.A3CModel, chainerrl.recurrent.RecurrentChainMixin):\n",
    "    def __init__(self):\n",
    "        super(A3CLSTMSoftmax, self).__init__()\n",
    "        with self.init_scope():\n",
    "            self.conv1 = L.Convolution2D(3, 16, (11, 9), 1, 0)\n",
    "            self.conv2 = L.Convolution2D(16, 32, (11, 9), 1, 0)\n",
    "            self.conv3 = L.Convolution2D(32, 64, (10, 9), 1, 0)\n",
    "            self.l4p = L.LSTM(14976, 1024) # ポリシーネットワーク\n",
    "            self.l4v = L.LSTM(14976, 1024) # バリューネットワーク\n",
    "            self.l5p = L.Linear(1024, 1024)\n",
    "            self.l5v = L.Linear(1024, 1024)\n",
    "            self.pi = chainerrl.policies.SoftmaxPolicy(L.Linear(1024, 6))\n",
    "            self.v = L.Linear(1024, 1)\n",
    "            \n",
    "    def pi_and_v(self, state):\n",
    "        state = np.asarray(state.transpose(0, 3, 1, 2), dtype=np.float32)\n",
    "        h1 = F.max_pooling_2d(F.relu(self.conv1(state)), ksize=2, stride=2)\n",
    "        h2 = F.max_pooling_2d(F.relu(self.conv2(h1)), ksize=2, stride=2) \n",
    "        h3 = F.max_pooling_2d(F.relu(self.conv3(h2)), ksize=2, stride=2)\n",
    "        h4p = self.l4p(h3)\n",
    "        h4v = self.l4v(h3)\n",
    "        h5p = F.relu(self.l5p(h4p))\n",
    "        h5v = F.relu(self.l5v(h4v))\n",
    "        pout = self.pi(h5p) # ポリシーネットワークの出力\n",
    "        vout = self.v(h5v) # バリューネットワークの出力\n",
    "        return pout, vout"
   ]
  },
  {
   "cell_type": "code",
   "execution_count": 5,
   "metadata": {
    "ExecuteTime": {
     "end_time": "2019-08-03T13:29:25.240243Z",
     "start_time": "2019-08-03T13:29:25.236684Z"
    },
    "colab": {},
    "colab_type": "code",
    "id": "jYsJYt1fs6O1"
   },
   "outputs": [],
   "source": [
    "n_process = 8\n",
    "outdir = 'result'\n",
    "chainerrl.misc.set_random_seed(0)\n",
    "process_seeds = np.arange(n_process)"
   ]
  },
  {
   "cell_type": "code",
   "execution_count": 6,
   "metadata": {
    "ExecuteTime": {
     "end_time": "2019-08-03T13:29:26.885689Z",
     "start_time": "2019-08-03T13:29:26.880307Z"
    },
    "colab": {},
    "colab_type": "code",
    "id": "sTTOg_ZEtGv9"
   },
   "outputs": [],
   "source": [
    "def make_env(process_idx, test=False):\n",
    "    env = gym.make('SpaceInvaders-v0')\n",
    "    process_seed = int(process_seeds[process_idx])\n",
    "    if not test:\n",
    "        chainerrl.misc.env_modifiers.make_reward_filtered(env, lambda x: x*0.01)\n",
    "    if process_idx == 0 and not test:\n",
    "        env = gym.wrappers.Monitor(env, outdir)\n",
    "    env_seed = 2 ** 32 - 1 - process_seed if test else process_seed\n",
    "    env.seed(env_seed)\n",
    "    return env"
   ]
  },
  {
   "cell_type": "code",
   "execution_count": 7,
   "metadata": {
    "ExecuteTime": {
     "end_time": "2019-08-03T13:29:31.476146Z",
     "start_time": "2019-08-03T13:29:31.473145Z"
    },
    "colab": {},
    "colab_type": "code",
    "id": "YOuY3ZvNv19t"
   },
   "outputs": [],
   "source": [
    "num_episodes = 100000"
   ]
  },
  {
   "cell_type": "code",
   "execution_count": 8,
   "metadata": {
    "ExecuteTime": {
     "end_time": "2019-08-03T13:29:43.559439Z",
     "start_time": "2019-08-03T13:29:36.602686Z"
    },
    "colab": {
     "base_uri": "https://localhost:8080/",
     "height": 34
    },
    "colab_type": "code",
    "executionInfo": {
     "elapsed": 8747,
     "status": "ok",
     "timestamp": 1564804199373,
     "user": {
      "displayName": "八島諒汰",
      "photoUrl": "",
      "userId": "01084465765645554068"
     },
     "user_tz": -540
    },
    "id": "Pc_J0OcjwHiO",
    "outputId": "44a67153-4919-4bda-c713-9fd16a9d4071"
   },
   "outputs": [
    {
     "data": {
      "text/plain": [
       "<chainerrl.optimizers.rmsprop_async.RMSpropAsync at 0x7f4a4ef035c0>"
      ]
     },
     "execution_count": 8,
     "metadata": {},
     "output_type": "execute_result"
    }
   ],
   "source": [
    "model = A3CLSTMSoftmax()\n",
    "optimizer = chainerrl.optimizers.rmsprop_async.RMSpropAsync(lr=0.001, eps=0.1, alpha=0.99)\n",
    "optimizer.setup(model)"
   ]
  },
  {
   "cell_type": "code",
   "execution_count": 9,
   "metadata": {
    "ExecuteTime": {
     "end_time": "2019-08-03T13:29:47.398038Z",
     "start_time": "2019-08-03T13:29:47.072849Z"
    },
    "colab": {},
    "colab_type": "code",
    "id": "Q_inpp0bwiwO"
   },
   "outputs": [],
   "source": [
    "agent = chainerrl.agents.a3c.A3C(\n",
    "    model, \n",
    "    optimizer, \n",
    "    t_max = 8,\n",
    "    gamma = 0.995,\n",
    "    beta = 0.1,\n",
    "    phi = phi,\n",
    ")"
   ]
  },
  {
   "cell_type": "code",
   "execution_count": 10,
   "metadata": {
    "ExecuteTime": {
     "end_time": "2019-08-03T13:29:48.453615Z",
     "start_time": "2019-08-03T13:29:48.450268Z"
    },
    "colab": {},
    "colab_type": "code",
    "id": "7KTON9wcw3fy"
   },
   "outputs": [],
   "source": [
    "gym.logger.set_level(0)\n",
    "logging.basicConfig(level=logging.DEBUG)"
   ]
  },
  {
   "cell_type": "code",
   "execution_count": 0,
   "metadata": {
    "colab": {
     "base_uri": "https://localhost:8080/",
     "height": 593
    },
    "colab_type": "code",
    "id": "k4fmAfCmy3Ao",
    "outputId": "856875b3-69d4-42b4-92cd-fd99539d5c63"
   },
   "outputs": [
    {
     "name": "stdout",
     "output_type": "stream",
     "text": [
      "INFO: Making new env: SpaceInvaders-v0\n",
      "INFO: Making new env: SpaceInvaders-v0\n",
      "INFO: Making new env: SpaceInvaders-v0\n",
      "INFO: Making new env: SpaceInvaders-v0\n",
      "INFO: Making new env: SpaceInvaders-v0\n",
      "INFO: Making new env: SpaceInvaders-v0\n",
      "INFO: Making new env: SpaceInvaders-v0\n",
      "INFO: Making new env: SpaceInvaders-v0\n",
      "INFO: Creating monitor directory result\n",
      "INFO: Starting new video recorder writing to /content/result/openaigym.video.0.210.video000000.mp4\n",
      "DEBUG: Capturing video frame: path=/content/result/openaigym.video.0.210.video000000.mp4\n",
      "DEBUG: Starting ffmpeg with \"ffmpeg -nostats -loglevel error -y -r 30 -f rawvideo -s:v 160x210 -pix_fmt rgb24 -i - -vcodec libx264 -pix_fmt yuv420p /content/result/openaigym.video.0.210.video000000.mp4\"\n"
     ]
    },
    {
     "name": "stderr",
     "output_type": "stream",
     "text": [
      "DEBUG:chainerrl.agents.a3c:t:1 r:0 a:4 pout:SoftmaxDistribution(beta=1.0, min_prob=0.0) logits:[[ 0.10047702 -0.03848258 -0.063296   -0.23922749 -0.17477234 -0.46331877]] probs:[[0.21010141 0.18284352 0.17836238 0.14958815 0.15954737 0.11955714]] entropy:[1.7769206]\n"
     ]
    },
    {
     "name": "stdout",
     "output_type": "stream",
     "text": [
      "DEBUG: Capturing video frame: path=/content/result/openaigym.video.0.210.video000000.mp4\n"
     ]
    },
    {
     "name": "stderr",
     "output_type": "stream",
     "text": [
      "DEBUG:chainerrl.agents.a3c:t:2 r:0.0 a:0 pout:SoftmaxDistribution(beta=1.0, min_prob=0.0) logits:[[ 0.17721948 -0.10529566 -0.08396527 -0.24916878 -0.17999867 -0.5354867 ]] probs:[[0.22899948 0.17263931 0.17636134 0.14950524 0.16021259 0.11228199]] entropy:[1.7698739]\n"
     ]
    },
    {
     "name": "stdout",
     "output_type": "stream",
     "text": [
      "DEBUG: Capturing video frame: path=/content/result/openaigym.video.0.210.video000000.mp4\n"
     ]
    },
    {
     "name": "stderr",
     "output_type": "stream",
     "text": [
      "DEBUG:chainerrl.agents.a3c:t:3 r:0.0 a:4 pout:SoftmaxDistribution(beta=1.0, min_prob=0.0) logits:[[ 0.15943252 -0.13753036 -0.08677285 -0.23704201 -0.18496138 -0.5467509 ]] probs:[[0.22728851 0.16889164 0.17768544 0.15289412 0.16106795 0.11217237]] entropy:[1.7707405]\n"
     ]
    },
    {
     "name": "stdout",
     "output_type": "stream",
     "text": [
      "DEBUG: Capturing video frame: path=/content/result/openaigym.video.0.210.video000000.mp4\n"
     ]
    },
    {
     "name": "stderr",
     "output_type": "stream",
     "text": [
      "DEBUG:chainerrl.agents.a3c:t:4 r:0.0 a:4 pout:SoftmaxDistribution(beta=1.0, min_prob=0.0) logits:[[ 0.07777552 -0.17124036 -0.0807454  -0.22030777 -0.21522921 -0.49890226]] probs:[[0.21353868 0.16646783 0.182235   0.15849684 0.15930383 0.11995782]] entropy:[1.7773774]\n"
     ]
    },
    {
     "name": "stdout",
     "output_type": "stream",
     "text": [
      "DEBUG: Capturing video frame: path=/content/result/openaigym.video.0.210.video000000.mp4\n"
     ]
    },
    {
     "name": "stderr",
     "output_type": "stream",
     "text": [
      "DEBUG:chainerrl.agents.a3c:t:5 r:0.0 a:0 pout:SoftmaxDistribution(beta=1.0, min_prob=0.0) logits:[[ 0.06859897 -0.17762242 -0.08160009 -0.21894354 -0.21987191 -0.49692038]] probs:[[0.21232034 0.16598125 0.18270944 0.15926248 0.1591147  0.12061177]] entropy:[1.7778729]\n"
     ]
    },
    {
     "name": "stdout",
     "output_type": "stream",
     "text": [
      "DEBUG: Capturing video frame: path=/content/result/openaigym.video.0.210.video000000.mp4\n"
     ]
    },
    {
     "name": "stderr",
     "output_type": "stream",
     "text": [
      "DEBUG:chainerrl.agents.a3c:t:6 r:0.0 a:4 pout:SoftmaxDistribution(beta=1.0, min_prob=0.0) logits:[[ 0.06144023 -0.18308373 -0.07998002 -0.21936794 -0.22319332 -0.4950864 ]] probs:[[0.21133333 0.16549033 0.18346363 0.15959327 0.15898393 0.12113553]] entropy:[1.7782129]\n"
     ]
    },
    {
     "name": "stdout",
     "output_type": "stream",
     "text": [
      "DEBUG: Capturing video frame: path=/content/result/openaigym.video.0.210.video000000.mp4\n"
     ]
    },
    {
     "name": "stderr",
     "output_type": "stream",
     "text": [
      "DEBUG:chainerrl.agents.a3c:t:7 r:0.0 a:4 pout:SoftmaxDistribution(beta=1.0, min_prob=0.0) logits:[[ 0.12597479 -0.16489074 -0.08105923 -0.23151934 -0.19576657 -0.5424179 ]] probs:[[0.22234808 0.16623102 0.18076721 0.15551622 0.16117693 0.11396045]] entropy:[1.7729106]\n"
     ]
    },
    {
     "name": "stdout",
     "output_type": "stream",
     "text": [
      "DEBUG: Capturing video frame: path=/content/result/openaigym.video.0.210.video000000.mp4\n"
     ]
    },
    {
     "name": "stderr",
     "output_type": "stream",
     "text": [
      "DEBUG:chainerrl.agents.a3c:t:8 r:0.0 a:1 pout:SoftmaxDistribution(beta=1.0, min_prob=0.0) logits:[[ 0.12220032 -0.17342998 -0.07492602 -0.23524088 -0.19677885 -0.5447308 ]] probs:[[0.22198617 0.16517156 0.18226993 0.1552713  0.16135968 0.11394138]] entropy:[1.772862]\n"
     ]
    },
    {
     "name": "stdout",
     "output_type": "stream",
     "text": [
      "DEBUG: Capturing video frame: path=/content/result/openaigym.video.0.210.video000000.mp4\n"
     ]
    },
    {
     "name": "stderr",
     "output_type": "stream",
     "text": [
      "DEBUG:chainerrl.agents.a3c:pi_loss:[-1.5852811] v_loss:[[0.00061139]]\n",
      "DEBUG:chainerrl.agents.a3c:grad norm:322.08468898218257\n",
      "/usr/local/lib/python3.6/dist-packages/chainerrl/misc/async_.py:151: AbnormalExitWarning: Process #0 (pid=210) was terminated by signal 9\n",
      "  category=AbnormalExitWarning,\n"
     ]
    }
   ],
   "source": [
    "env = gym.\n",
    "chainerrl.experiments.train_agent_async(\n",
    "    agent = agent,\n",
    "    outdir = outdir,\n",
    "    processes = n_process,\n",
    "    make_env = make_env,\n",
    "    profile = True,\n",
    "    steps = 1000000,\n",
    "    eval_interval = None,\n",
    "    max_episode_len = num_episodes,\n",
    "    logger = gym.logger\n",
    ")"
   ]
  },
  {
   "cell_type": "code",
   "execution_count": 0,
   "metadata": {
    "colab": {},
    "colab_type": "code",
    "id": "TjuBB-1g0Rtr"
   },
   "outputs": [],
   "source": [
    "#-*- coding: utf-8 -*-\n",
    "\"\"\"\n",
    "スペースインベーダーゲームの学習（A3Cバージョン）\n",
    "Copyright(c) Hiromitsu Nishizaki and Koji Makino All Rrights Reserved.\n",
    "\"\"\"\n",
    "from __future__ import print_function\n",
    "import chainer\n",
    "import chainer.functions as F\n",
    "import chainer.links as L\n",
    "import chainerrl\n",
    "import numpy as np\n",
    "import gym\n",
    "import logging\n",
    "\n",
    "# 型変換用関数\n",
    "def phi(obs):\n",
    "    return obs.astype(np.float32)\n",
    "\n",
    "# A3C FeedForward Softmax\n",
    "class A3CLSTMSoftmax(chainer.Chain, chainerrl.agents.a3c.A3CModel, chainerrl.recurrent.RecurrentChainMixin):\n",
    "    \n",
    "    # ポリシーネットワークと評価関数でCNN部分は共通化する\n",
    "    def __init__(self):\n",
    "        super(A3CLSTMSoftmax, self).__init__()        \n",
    "        with self.init_scope():\n",
    "            self.conv1 = L.Convolution2D(3, 16, (11, 9), 1, 0)  # 1層目の畳み込み層（チャンネル数は16）\n",
    "            self.conv2 = L.Convolution2D(16, 32, (11, 9), 1, 0) # 2層目の畳み込み層（チャンネル数は32）\n",
    "            self.conv3 = L.Convolution2D(32, 64, (10, 9), 1, 0) # 2層目の畳み込み層（チャンネル数は64）\n",
    "            self.l4p = L.LSTM(14976, 1024) #ポリシーネットワーク\n",
    "            self.l4v = L.LSTM(14976, 1024) #バリューネットワーク\n",
    "            self.l5p = L.Linear(1024, 1024)\n",
    "            self.l5v = L.Linear(1024, 1024)            \n",
    "            self.pi = chainerrl.policies.SoftmaxPolicy(L.Linear(1024, 6)) # ポリシーネットワーク\n",
    "            self.v = L.Linear(1024, 1) # バリューネットワーク\n",
    "\n",
    "    def pi_and_v(self, state):\n",
    "        state = np.asarray(state.transpose(0, 3, 1, 2), dtype=np.float32)\n",
    "        h1 = F.max_pooling_2d(F.relu(self.conv1(state)), ksize=2, stride=2)\n",
    "        h2 = F.max_pooling_2d(F.relu(self.conv2(h1)), ksize=2, stride=2) \n",
    "        h3 = F.max_pooling_2d(F.relu(self.conv3(h2)), ksize=2, stride=2) #ここまでは共通\n",
    "        h4p = self.l4p(h3)\n",
    "        h4v = self.l4v(h3)\n",
    "        h5p = F.relu(self.l5p(h4p)) \n",
    "        h5v = F.relu(self.l5p(h4v))\n",
    "        pout = self.pi(h5p) #ポリシーネットワークの出力\n",
    "        vout = self.v(h5v) #バリューネットワークの出力\n",
    "        return pout, vout\n",
    "\n",
    "\n",
    "# メイン関数\n",
    "def main():    \n",
    "\n",
    "    # 初期設定（プロセス数は8）\n",
    "    n_process = 4\n",
    "    outdir = 'result'\n",
    "\n",
    "    # スペースインベーダー環境の設定\n",
    "    chainerrl.misc.set_random_seed(0)\n",
    "    process_seeds = np.arange(n_process)\n",
    "\n",
    "    def make_env(process_idx, test=False):\n",
    "        env = gym.make('SpaceInvaders-v0')\n",
    "        process_seed = int(process_seeds[process_idx])\n",
    "        if not test:\n",
    "            chainerrl.misc.env_modifiers.make_reward_filtered(env, lambda x: x * 0.01)\n",
    "        if process_idx == 0 and not test:\n",
    "            env = gym.wrappers.Monitor(env, outdir, video_callable=(lambda ep: ep % 1 == 0), force=True)\n",
    "        env_seed = 2 ** 32 - 1 - process_seed if test else process_seed\n",
    "        env.seed(env_seed)\n",
    "        return env\n",
    "    \n",
    "    \n",
    "    # 強化学習のパラメータ        \n",
    "    num_episodes = 10  #試行回数\n",
    "\n",
    "    # DQNのセットアップ\n",
    "    model = A3CLSTMSoftmax()\n",
    "    optimizer = chainerrl.optimizers.rmsprop_async.RMSpropAsync(lr=0.001, eps=0.1, alpha=0.99)\n",
    "    optimizer.setup(model)\n",
    "    \n",
    "    agent = chainerrl.agents.a3c.A3C(\n",
    "        model, optimizer, t_max=8, gamma=0.995, beta=0.1, \n",
    "        phi=phi\n",
    "    )\n",
    "    \n",
    "    # DEBUG用にログを表示\n",
    "    gym.logger.set_level(0)\n",
    "    logging.basicConfig(level=logging.DEBUG)\n",
    "\n",
    "    # エピソードの試行＆強化学習スタート（トレーナーを利用）\n",
    "    chainerrl.experiments.train_agent_async(\n",
    "            agent=agent,\n",
    "            outdir=outdir,\n",
    "            processes=n_process,\n",
    "            make_env=make_env,\n",
    "            profile=True,\n",
    "            steps=1000000,\n",
    "            eval_interval=None,\n",
    "            max_episode_len=num_episodes,\n",
    "            logger=gym.logger)\n",
    "\n",
    "if __name__ == '__main__':\n",
    "    main()"
   ]
  },
  {
   "cell_type": "code",
   "execution_count": 0,
   "metadata": {
    "colab": {},
    "colab_type": "code",
    "id": "P29pFdS8ZCU4"
   },
   "outputs": [],
   "source": []
  }
 ],
 "metadata": {
  "colab": {
   "collapsed_sections": [
    "zYSgMs37Y-eh"
   ],
   "name": "spaceinvader_A3C.ipynb",
   "provenance": [],
   "toc_visible": true,
   "version": "0.3.2"
  },
  "kernelspec": {
   "display_name": "Python 3",
   "language": "python",
   "name": "python3"
  },
  "language_info": {
   "codemirror_mode": {
    "name": "ipython",
    "version": 3
   },
   "file_extension": ".py",
   "mimetype": "text/x-python",
   "name": "python",
   "nbconvert_exporter": "python",
   "pygments_lexer": "ipython3",
   "version": "3.7.3"
  },
  "toc": {
   "base_numbering": 1,
   "nav_menu": {},
   "number_sections": true,
   "sideBar": true,
   "skip_h1_title": false,
   "title_cell": "Table of Contents",
   "title_sidebar": "Contents",
   "toc_cell": false,
   "toc_position": {},
   "toc_section_display": true,
   "toc_window_display": false
  },
  "varInspector": {
   "cols": {
    "lenName": 16,
    "lenType": 16,
    "lenVar": 40
   },
   "kernels_config": {
    "python": {
     "delete_cmd_postfix": "",
     "delete_cmd_prefix": "del ",
     "library": "var_list.py",
     "varRefreshCmd": "print(var_dic_list())"
    },
    "r": {
     "delete_cmd_postfix": ") ",
     "delete_cmd_prefix": "rm(",
     "library": "var_list.r",
     "varRefreshCmd": "cat(var_dic_list()) "
    }
   },
   "types_to_exclude": [
    "module",
    "function",
    "builtin_function_or_method",
    "instance",
    "_Feature"
   ],
   "window_display": false
  }
 },
 "nbformat": 4,
 "nbformat_minor": 1
}
