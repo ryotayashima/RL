{
 "cells": [
  {
   "cell_type": "markdown",
   "metadata": {
    "colab_type": "text",
    "id": "zYSgMs37Y-eh"
   },
   "source": [
    "#for colab"
   ]
  },
  {
   "cell_type": "code",
   "execution_count": 0,
   "metadata": {
    "colab": {
     "base_uri": "https://localhost:8080/",
     "height": 34
    },
    "colab_type": "code",
    "executionInfo": {
     "elapsed": 32197,
     "status": "ok",
     "timestamp": 1564234876164,
     "user": {
      "displayName": "八島諒汰",
      "photoUrl": "",
      "userId": "01084465765645554068"
     },
     "user_tz": -540
    },
    "id": "jPdsdwP9Y5tX",
    "outputId": "b2fc1a7b-dd48-4862-a102-9e6d3be9b07c"
   },
   "outputs": [
    {
     "name": "stdout",
     "output_type": "stream",
     "text": [
      "Requirement already up-to-date: setuptools in /usr/local/lib/python3.6/dist-packages (41.0.1)\n"
     ]
    }
   ],
   "source": [
    "!pip install gym pyvirtualdisplay > /dev/null 2>&1\n",
    "!apt-get install -y xvfb python-opengl ffmpeg > /dev/null 2>&1\n",
    "!apt-get update > /dev/null 2>&1\n",
    "!apt-get install cmake > /dev/null 2>&1\n",
    "!pip install --upgrade setuptools 2>&1\n",
    "!pip install ez_setup > /dev/null 2>&1\n",
    "!pip install gym[atari] > /dev/null 2>&1"
   ]
  },
  {
   "cell_type": "code",
   "execution_count": 0,
   "metadata": {
    "colab": {
     "base_uri": "https://localhost:8080/",
     "height": 245
    },
    "colab_type": "code",
    "executionInfo": {
     "elapsed": 44447,
     "status": "ok",
     "timestamp": 1564234889127,
     "user": {
      "displayName": "八島諒汰",
      "photoUrl": "",
      "userId": "01084465765645554068"
     },
     "user_tz": -540
    },
    "id": "56Ns9j85jqo8",
    "outputId": "b30d151e-22e0-4fcf-fd9c-90847c9b06bb"
   },
   "outputs": [
    {
     "name": "stdout",
     "output_type": "stream",
     "text": [
      "Uninstalling pyglet-1.4.1:\n",
      "  Would remove:\n",
      "    /usr/local/lib/python3.6/dist-packages/pyglet-1.4.1.dist-info/*\n",
      "    /usr/local/lib/python3.6/dist-packages/pyglet/*\n",
      "Proceed (y/n)? y\n",
      "  Successfully uninstalled pyglet-1.4.1\n",
      "Collecting pyglet==1.3.2\n",
      "\u001b[?25l  Downloading https://files.pythonhosted.org/packages/1c/fc/dad5eaaab68f0c21e2f906a94ddb98175662cc5a654eee404d59554ce0fa/pyglet-1.3.2-py2.py3-none-any.whl (1.0MB)\n",
      "\u001b[K     |████████████████████████████████| 1.0MB 6.9MB/s \n",
      "\u001b[?25hRequirement already satisfied: future in /usr/local/lib/python3.6/dist-packages (from pyglet==1.3.2) (0.16.0)\n",
      "Installing collected packages: pyglet\n",
      "Successfully installed pyglet-1.3.2\n"
     ]
    }
   ],
   "source": [
    "!pip uninstall pyglet\n",
    "!pip install --user pyglet==1.3.2"
   ]
  },
  {
   "cell_type": "code",
   "execution_count": 0,
   "metadata": {
    "colab": {},
    "colab_type": "code",
    "id": "aCGMZBNnZfXZ"
   },
   "outputs": [],
   "source": [
    "import gym\n",
    "from gym import logger as gymlogger\n",
    "from gym.wrappers import Monitor\n",
    "gymlogger.set_level(40) #error only\n",
    "import tensorflow as tf\n",
    "import numpy as np\n",
    "import random\n",
    "import matplotlib\n",
    "import matplotlib.pyplot as plt\n",
    "%matplotlib inline\n",
    "import math\n",
    "import glob\n",
    "import io\n",
    "import base64\n",
    "from IPython.display import HTML\n",
    "\n",
    "from IPython import display as ipythondisplay"
   ]
  },
  {
   "cell_type": "code",
   "execution_count": 2,
   "metadata": {
    "colab": {
     "base_uri": "https://localhost:8080/",
     "height": 89
    },
    "colab_type": "code",
    "executionInfo": {
     "elapsed": 3281,
     "status": "ok",
     "timestamp": 1564244970669,
     "user": {
      "displayName": "八島諒汰",
      "photoUrl": "",
      "userId": "01084465765645554068"
     },
     "user_tz": -540
    },
    "id": "CdjwdoM_Zrr7",
    "outputId": "61eba0b3-f0c5-4f05-d017-9759976cd593"
   },
   "outputs": [
    {
     "name": "stderr",
     "output_type": "stream",
     "text": [
      "WARNING: Logging before flag parsing goes to stderr.\n",
      "W0727 16:29:31.627010 140188109678464 abstractdisplay.py:151] xdpyinfo was not found, X start can not be checked! Please install xdpyinfo!\n"
     ]
    },
    {
     "data": {
      "text/plain": [
       "<Display cmd_param=['Xvfb', '-br', '-nolisten', 'tcp', '-screen', '0', '1400x900x24', ':1013'] cmd=['Xvfb', '-br', '-nolisten', 'tcp', '-screen', '0', '1400x900x24', ':1013'] oserror=None return_code=None stdout=\"None\" stderr=\"None\" timeout_happened=False>"
      ]
     },
     "execution_count": 2,
     "metadata": {
      "tags": []
     },
     "output_type": "execute_result"
    }
   ],
   "source": [
    "from pyvirtualdisplay import Display\n",
    "display = Display(visible=0, size=(1400, 900))\n",
    "display.start()"
   ]
  },
  {
   "cell_type": "code",
   "execution_count": 0,
   "metadata": {
    "colab": {},
    "colab_type": "code",
    "id": "XS7cVyX8Z5ez"
   },
   "outputs": [],
   "source": [
    "def show_video():\n",
    "  mp4list = glob.glob('video/video/*.mp4')\n",
    "  if len(mp4list) > 0:\n",
    "    mp4 = mp4list[0]\n",
    "    video = io.open(mp4, 'r+b').read()\n",
    "    encoded = base64.b64encode(video)\n",
    "    ipythondisplay.display(HTML(data='''<video alt=\"test\" autoplay \n",
    "                loop controls style=\"height: 400px;\">\n",
    "                <source src=\"data:video/mp4;base64,{0}\" type=\"video/mp4\" />\n",
    "             </video>'''.format(encoded.decode('ascii'))))\n",
    "  else: \n",
    "    print(\"Could not find video\")\n",
    "    \n",
    "\n",
    "def wrap_env(env):\n",
    "  env = Monitor(env, './video', force=True)\n",
    "  return env"
   ]
  },
  {
   "cell_type": "code",
   "execution_count": 0,
   "metadata": {
    "colab": {},
    "colab_type": "code",
    "id": "rGcnzH1PaAa4"
   },
   "outputs": [],
   "source": [
    "# env = wrap_env(gym.make(\"MsPacman-v0\"))\n",
    "# show_video()"
   ]
  },
  {
   "cell_type": "markdown",
   "metadata": {
    "colab_type": "text",
    "id": "kV6MWBRnYR_T"
   },
   "source": [
    "#main"
   ]
  },
  {
   "cell_type": "code",
   "execution_count": 1,
   "metadata": {
    "colab": {
     "base_uri": "https://localhost:8080/",
     "height": 124
    },
    "colab_type": "code",
    "executionInfo": {
     "elapsed": 26586,
     "status": "ok",
     "timestamp": 1564244364595,
     "user": {
      "displayName": "八島諒汰",
      "photoUrl": "",
      "userId": "01084465765645554068"
     },
     "user_tz": -540
    },
    "id": "b3Q_qLiQOfp8",
    "outputId": "c7760167-b20f-4191-979e-b869bad59250"
   },
   "outputs": [
    {
     "name": "stdout",
     "output_type": "stream",
     "text": [
      "Go to this URL in a browser: https://accounts.google.com/o/oauth2/auth?client_id=947318989803-6bn6qk8qdgf4n4g3pfee6491hc0brc4i.apps.googleusercontent.com&redirect_uri=urn%3Aietf%3Awg%3Aoauth%3A2.0%3Aoob&scope=email%20https%3A%2F%2Fwww.googleapis.com%2Fauth%2Fdocs.test%20https%3A%2F%2Fwww.googleapis.com%2Fauth%2Fdrive%20https%3A%2F%2Fwww.googleapis.com%2Fauth%2Fdrive.photos.readonly%20https%3A%2F%2Fwww.googleapis.com%2Fauth%2Fpeopleapi.readonly&response_type=code\n",
      "\n",
      "Enter your authorization code:\n",
      "··········\n",
      "Mounted at /content/drive\n"
     ]
    }
   ],
   "source": [
    "from google.colab import drive\n",
    "drive.mount('/content/drive')"
   ]
  },
  {
   "cell_type": "code",
   "execution_count": 5,
   "metadata": {
    "colab": {
     "base_uri": "https://localhost:8080/",
     "height": 367
    },
    "colab_type": "code",
    "executionInfo": {
     "elapsed": 5598,
     "status": "ok",
     "timestamp": 1564240533934,
     "user": {
      "displayName": "八島諒汰",
      "photoUrl": "",
      "userId": "01084465765645554068"
     },
     "user_tz": -540
    },
    "id": "SuuZALoBY_Sz",
    "outputId": "7082f513-a0c1-48cd-c286-f2f85840428e"
   },
   "outputs": [
    {
     "name": "stdout",
     "output_type": "stream",
     "text": [
      "Requirement already satisfied: chainerrl in /usr/local/lib/python3.6/dist-packages (0.7.0)\n",
      "Requirement already satisfied: chainer>=2.0.0 in /usr/local/lib/python3.6/dist-packages (from chainerrl) (5.4.0)\n",
      "Requirement already satisfied: numpy>=1.10.4 in /usr/local/lib/python3.6/dist-packages (from chainerrl) (1.16.4)\n",
      "Requirement already satisfied: future in /usr/local/lib/python3.6/dist-packages (from chainerrl) (0.16.0)\n",
      "Requirement already satisfied: scipy in /usr/local/lib/python3.6/dist-packages (from chainerrl) (1.3.0)\n",
      "Requirement already satisfied: cached-property in /usr/local/lib/python3.6/dist-packages (from chainerrl) (1.5.1)\n",
      "Requirement already satisfied: gym>=0.9.7 in /usr/local/lib/python3.6/dist-packages (from chainerrl) (0.10.11)\n",
      "Requirement already satisfied: pillow in /usr/local/lib/python3.6/dist-packages (from chainerrl) (4.3.0)\n",
      "Requirement already satisfied: filelock in /usr/local/lib/python3.6/dist-packages (from chainer>=2.0.0->chainerrl) (3.0.12)\n",
      "Requirement already satisfied: six>=1.9.0 in /usr/local/lib/python3.6/dist-packages (from chainer>=2.0.0->chainerrl) (1.12.0)\n",
      "Requirement already satisfied: protobuf>=3.0.0 in /usr/local/lib/python3.6/dist-packages (from chainer>=2.0.0->chainerrl) (3.7.1)\n",
      "Requirement already satisfied: requests>=2.0 in /usr/local/lib/python3.6/dist-packages (from gym>=0.9.7->chainerrl) (2.21.0)\n",
      "Requirement already satisfied: pyglet>=1.2.0 in /root/.local/lib/python3.6/site-packages (from gym>=0.9.7->chainerrl) (1.3.2)\n",
      "Requirement already satisfied: olefile in /usr/local/lib/python3.6/dist-packages (from pillow->chainerrl) (0.46)\n",
      "Requirement already satisfied: setuptools in /usr/local/lib/python3.6/dist-packages (from protobuf>=3.0.0->chainer>=2.0.0->chainerrl) (41.0.1)\n",
      "Requirement already satisfied: chardet<3.1.0,>=3.0.2 in /usr/local/lib/python3.6/dist-packages (from requests>=2.0->gym>=0.9.7->chainerrl) (3.0.4)\n",
      "Requirement already satisfied: urllib3<1.25,>=1.21.1 in /usr/local/lib/python3.6/dist-packages (from requests>=2.0->gym>=0.9.7->chainerrl) (1.24.3)\n",
      "Requirement already satisfied: certifi>=2017.4.17 in /usr/local/lib/python3.6/dist-packages (from requests>=2.0->gym>=0.9.7->chainerrl) (2019.6.16)\n",
      "Requirement already satisfied: idna<2.9,>=2.5 in /usr/local/lib/python3.6/dist-packages (from requests>=2.0->gym>=0.9.7->chainerrl) (2.8)\n"
     ]
    }
   ],
   "source": [
    "!pip install chainerrl"
   ]
  },
  {
   "cell_type": "code",
   "execution_count": 0,
   "metadata": {
    "colab": {},
    "colab_type": "code",
    "id": "UmXG6J2cYJhM"
   },
   "outputs": [],
   "source": [
    "from __future__ import print_function\n",
    "import chainer\n",
    "import chainer.functions as F\n",
    "import chainer.links as L\n",
    "import chainerrl\n",
    "import numpy as np\n",
    "import gym"
   ]
  },
  {
   "cell_type": "code",
   "execution_count": 0,
   "metadata": {
    "colab": {},
    "colab_type": "code",
    "id": "xVT8bneGlgl6"
   },
   "outputs": [],
   "source": [
    "from tqdm import tqdm"
   ]
  },
  {
   "cell_type": "code",
   "execution_count": 0,
   "metadata": {
    "colab": {},
    "colab_type": "code",
    "id": "1NH427GrYuFG"
   },
   "outputs": [],
   "source": [
    "class QFunction(chainer.Chain):\n",
    "    def __init__(self):\n",
    "        super(QFunction, self).__init__()\n",
    "        with self.init_scope():\n",
    "            self.conv1 = L.Convolution2D(3, 16, (11, 9), 1, 0)\n",
    "            self.conv2 = L.Convolution2D(16, 32, (11, 9), 1, 0)\n",
    "            self.conv3 = L.Convolution2D(32, 64, (10, 9), 1, 0)\n",
    "            self.l4 = L.Linear(14976, 6)\n",
    "    def __call__(self, x):\n",
    "        h1 = F.max_pooling_2d(F.relu(self.conv1(x)), ksize=2, stride=2)\n",
    "        h2 = F.max_pooling_2d(F.relu(self.conv2(h1)), ksize=2, stride=2)\n",
    "        h3 = F.max_pooling_2d(F.relu(self.conv3(h2)), ksize=2, stride=2)\n",
    "        return chainerrl.action_value.DiscreteActionValue(self.l4(h3))"
   ]
  },
  {
   "cell_type": "code",
   "execution_count": 0,
   "metadata": {
    "colab": {},
    "colab_type": "code",
    "id": "kbHfsoHVdwvE"
   },
   "outputs": [],
   "source": [
    "def random_action():\n",
    "    return np.random.choice([0, 1, 2, 3, 4, 5])"
   ]
  },
  {
   "cell_type": "code",
   "execution_count": 0,
   "metadata": {
    "colab": {},
    "colab_type": "code",
    "id": "2rcwihmxeAo3"
   },
   "outputs": [],
   "source": [
    "gamma = 0.99\n",
    "alpha = 0.5\n",
    "max_number_of_steps = 20\n",
    "num_episodes = 100"
   ]
  },
  {
   "cell_type": "code",
   "execution_count": 0,
   "metadata": {
    "colab": {},
    "colab_type": "code",
    "id": "EQVKpnmKeYIg"
   },
   "outputs": [],
   "source": [
    "q_func = QFunction()\n",
    "q_func.to_gpu(0)\n",
    "optimizer = chainer.optimizers.Adam(eps=1e-3)\n",
    "optimizer.setup(q_func)\n",
    "explorer = chainerrl.explorers.LinearDecayEpsilonGreedy(\n",
    "    start_epsilon = 1.0,\n",
    "    end_epsilon = 0.1,\n",
    "    decay_steps = num_episodes*100,\n",
    "    random_action_func = random_action\n",
    ")\n",
    "replay_buffer = chainerrl.replay_buffer.ReplayBuffer(capacity=10**6)\n",
    "phi = lambda x: x.astype(np.float32, copy=False)"
   ]
  },
  {
   "cell_type": "code",
   "execution_count": 0,
   "metadata": {
    "colab": {},
    "colab_type": "code",
    "id": "X1auRxlNjiIs"
   },
   "outputs": [],
   "source": [
    "agent = chainerrl.agents.DQN(\n",
    "    q_func, optimizer, replay_buffer, gamma, explorer,\n",
    "    replay_start_size = 5000,\n",
    "    minibatch_size = 100,\n",
    "    update_interval = 50,\n",
    "    target_update_interval = 2000,\n",
    "    phi = phi,\n",
    ")"
   ]
  },
  {
   "cell_type": "code",
   "execution_count": 0,
   "metadata": {
    "colab": {},
    "colab_type": "code",
    "id": "hKD9wamyllNZ"
   },
   "outputs": [],
   "source": [
    "outdir = 'result'"
   ]
  },
  {
   "cell_type": "code",
   "execution_count": 0,
   "metadata": {
    "colab": {},
    "colab_type": "code",
    "id": "uwXrEtZeqVKp"
   },
   "outputs": [],
   "source": [
    "env = wrap_env(gym.make('SpaceInvaders-v0'))\n",
    "chainerrl.misc.env_modifiers.make_reward_filtered(env, lambda x: x*0.01)"
   ]
  },
  {
   "cell_type": "code",
   "execution_count": 0,
   "metadata": {
    "colab": {
     "base_uri": "https://localhost:8080/",
     "height": 680
    },
    "colab_type": "code",
    "id": "ifPatnm-rHrr",
    "outputId": "98d97c2b-8fa6-4571-ff81-48293c62ee03"
   },
   "outputs": [
    {
     "name": "stderr",
     "output_type": "stream",
     "text": [
      "  1%|          | 1/100 [00:07<12:52,  7.81s/it]"
     ]
    },
    {
     "name": "stdout",
     "output_type": "stream",
     "text": [
      "Episode 1: statistics: [('average_q', 23.333140552704297), ('average_loss', 0), ('n_updates', 0)], epsilon 0.92422\n"
     ]
    },
    {
     "name": "stderr",
     "output_type": "stream",
     "text": [
      "\r",
      "  2%|▏         | 2/100 [00:10<10:24,  6.37s/it]"
     ]
    },
    {
     "name": "stdout",
     "output_type": "stream",
     "text": [
      "Episode 2: statistics: [('average_q', 30.649672593733364), ('average_loss', 0), ('n_updates', 0)], epsilon 0.87823\n"
     ]
    },
    {
     "name": "stderr",
     "output_type": "stream",
     "text": [
      "\r",
      "  3%|▎         | 3/100 [00:12<08:03,  4.99s/it]"
     ]
    },
    {
     "name": "stdout",
     "output_type": "stream",
     "text": [
      "Episode 3: statistics: [('average_q', 30.257435273676215), ('average_loss', 0), ('n_updates', 0)], epsilon 0.84367\n"
     ]
    },
    {
     "name": "stderr",
     "output_type": "stream",
     "text": [
      "\r",
      "  4%|▍         | 4/100 [00:15<06:54,  4.31s/it]"
     ]
    },
    {
     "name": "stdout",
     "output_type": "stream",
     "text": [
      "Episode 4: statistics: [('average_q', 26.702144940417366), ('average_loss', 0), ('n_updates', 0)], epsilon 0.78544\n"
     ]
    },
    {
     "name": "stderr",
     "output_type": "stream",
     "text": [
      "\r",
      "  5%|▌         | 5/100 [00:17<05:50,  3.69s/it]"
     ]
    },
    {
     "name": "stdout",
     "output_type": "stream",
     "text": [
      "Episode 5: statistics: [('average_q', 25.861917695811503), ('average_loss', 0), ('n_updates', 0)], epsilon 0.73783\n"
     ]
    },
    {
     "name": "stderr",
     "output_type": "stream",
     "text": [
      "\r",
      "  6%|▌         | 6/100 [00:19<04:54,  3.14s/it]"
     ]
    },
    {
     "name": "stdout",
     "output_type": "stream",
     "text": [
      "Episode 6: statistics: [('average_q', 26.238566382209175), ('average_loss', 0), ('n_updates', 0)], epsilon 0.6979599999999999\n"
     ]
    },
    {
     "name": "stderr",
     "output_type": "stream",
     "text": [
      "\r",
      "  7%|▋         | 7/100 [00:22<04:43,  3.04s/it]"
     ]
    },
    {
     "name": "stdout",
     "output_type": "stream",
     "text": [
      "Episode 7: statistics: [('average_q', 23.76267227867299), ('average_loss', 0), ('n_updates', 0)], epsilon 0.63757\n"
     ]
    },
    {
     "name": "stderr",
     "output_type": "stream",
     "text": [
      "\r",
      "  8%|▊         | 8/100 [00:25<04:51,  3.17s/it]"
     ]
    },
    {
     "name": "stdout",
     "output_type": "stream",
     "text": [
      "Episode 8: statistics: [('average_q', 26.85046204829768), ('average_loss', 0), ('n_updates', 0)], epsilon 0.56359\n"
     ]
    },
    {
     "name": "stderr",
     "output_type": "stream",
     "text": [
      "\r",
      "  9%|▉         | 9/100 [00:34<07:16,  4.79s/it]"
     ]
    },
    {
     "name": "stdout",
     "output_type": "stream",
     "text": [
      "Episode 9: statistics: [('average_q', 46.29573146528627), ('average_loss', 5.9004842863748825), ('n_updates', 8)], epsilon 0.5104899999999999\n",
      "Episode 10: statistics: [('average_q', 42.106222065787826), ('average_loss', 6.32955422232691), ('n_updates', 16)], epsilon 0.47395\n"
     ]
    },
    {
     "name": "stderr",
     "output_type": "stream",
     "text": [
      " 11%|█         | 11/100 [00:51<09:45,  6.58s/it]"
     ]
    },
    {
     "name": "stdout",
     "output_type": "stream",
     "text": [
      "Episode 11: statistics: [('average_q', 40.46415123183823), ('average_loss', 6.2721646179408), ('n_updates', 25)], epsilon 0.43633\n"
     ]
    },
    {
     "name": "stderr",
     "output_type": "stream",
     "text": [
      "\r",
      " 12%|█▏        | 12/100 [01:01<11:19,  7.72s/it]"
     ]
    },
    {
     "name": "stdout",
     "output_type": "stream",
     "text": [
      "Episode 12: statistics: [('average_q', 38.92112671961799), ('average_loss', 5.911671478632369), ('n_updates', 37)], epsilon 0.37971999999999995\n"
     ]
    },
    {
     "name": "stderr",
     "output_type": "stream",
     "text": [
      "\r",
      " 13%|█▎        | 13/100 [01:19<15:33, 10.73s/it]"
     ]
    },
    {
     "name": "stdout",
     "output_type": "stream",
     "text": [
      "Episode 13: statistics: [('average_q', 31.238181572586228), ('average_loss', 5.118381283870231), ('n_updates', 58)], epsilon 0.28855\n"
     ]
    },
    {
     "name": "stderr",
     "output_type": "stream",
     "text": [
      "\r",
      " 14%|█▍        | 14/100 [01:35<17:49, 12.44s/it]"
     ]
    },
    {
     "name": "stdout",
     "output_type": "stream",
     "text": [
      "Episode 14: statistics: [('average_q', 32.00092820708175), ('average_loss', 4.40062071542663), ('n_updates', 77)], epsilon 0.20026\n"
     ]
    },
    {
     "name": "stderr",
     "output_type": "stream",
     "text": [
      "\r",
      " 15%|█▌        | 15/100 [01:41<14:53, 10.52s/it]"
     ]
    },
    {
     "name": "stdout",
     "output_type": "stream",
     "text": [
      "Episode 15: statistics: [('average_q', 32.537198248204234), ('average_loss', 4.150440516295657), ('n_updates', 84)], epsilon 0.16830999999999996\n"
     ]
    },
    {
     "name": "stderr",
     "output_type": "stream",
     "text": [
      "\r",
      " 16%|█▌        | 16/100 [01:52<14:59, 10.71s/it]"
     ]
    },
    {
     "name": "stdout",
     "output_type": "stream",
     "text": [
      "Episode 16: statistics: [('average_q', 32.071253702831605), ('average_loss', 3.7087350302770354), ('n_updates', 97)], epsilon 0.10926999999999998\n"
     ]
    },
    {
     "name": "stderr",
     "output_type": "stream",
     "text": [
      "\r",
      " 17%|█▋        | 17/100 [02:01<13:54, 10.05s/it]"
     ]
    },
    {
     "name": "stdout",
     "output_type": "stream",
     "text": [
      "Episode 17: statistics: [('average_q', 34.03678272914373), ('average_loss', 3.5211944800427553), ('n_updates', 107)], epsilon 0.1\n"
     ]
    },
    {
     "name": "stderr",
     "output_type": "stream",
     "text": [
      "\r",
      " 18%|█▊        | 18/100 [02:10<13:27,  9.85s/it]"
     ]
    },
    {
     "name": "stdout",
     "output_type": "stream",
     "text": [
      "Episode 18: statistics: [('average_q', 36.117352685579405), ('average_loss', 3.33029278318498), ('n_updates', 118)], epsilon 0.1\n"
     ]
    },
    {
     "name": "stderr",
     "output_type": "stream",
     "text": [
      "\r",
      " 19%|█▉        | 19/100 [02:25<15:07, 11.20s/it]"
     ]
    },
    {
     "name": "stdout",
     "output_type": "stream",
     "text": [
      "Episode 19: statistics: [('average_q', 35.30201869877705), ('average_loss', 2.9785205119766873), ('n_updates', 135)], epsilon 0.1\n",
      "Episode 20: statistics: [('average_q', 29.72860497330047), ('average_loss', 2.5289292611101177), ('n_updates', 160)], epsilon 0.1\n"
     ]
    },
    {
     "name": "stderr",
     "output_type": "stream",
     "text": [
      " 21%|██        | 21/100 [03:01<19:01, 14.45s/it]"
     ]
    },
    {
     "name": "stdout",
     "output_type": "stream",
     "text": [
      "Episode 21: statistics: [('average_q', 33.20343382900641), ('average_loss', 2.2125062993173974), ('n_updates', 177)], epsilon 0.1\n"
     ]
    },
    {
     "name": "stderr",
     "output_type": "stream",
     "text": [
      "\r",
      " 22%|██▏       | 22/100 [03:16<19:07, 14.72s/it]"
     ]
    },
    {
     "name": "stdout",
     "output_type": "stream",
     "text": [
      "Episode 22: statistics: [('average_q', 33.70508366317423), ('average_loss', 1.935654903809297), ('n_updates', 195)], epsilon 0.1\n"
     ]
    },
    {
     "name": "stderr",
     "output_type": "stream",
     "text": [
      "\r",
      " 23%|██▎       | 23/100 [03:46<24:44, 19.28s/it]"
     ]
    },
    {
     "name": "stdout",
     "output_type": "stream",
     "text": [
      "Episode 23: statistics: [('average_q', 25.49272123040529), ('average_loss', 1.5518644053839756), ('n_updates', 230)], epsilon 0.1\n"
     ]
    },
    {
     "name": "stderr",
     "output_type": "stream",
     "text": [
      "\r",
      " 24%|██▍       | 24/100 [04:03<23:31, 18.58s/it]"
     ]
    },
    {
     "name": "stdout",
     "output_type": "stream",
     "text": [
      "Episode 24: statistics: [('average_q', 31.346858009438506), ('average_loss', 1.4659372502194692), ('n_updates', 250)], epsilon 0.1\n"
     ]
    },
    {
     "name": "stderr",
     "output_type": "stream",
     "text": [
      "\r",
      " 25%|██▌       | 25/100 [04:22<23:25, 18.74s/it]"
     ]
    },
    {
     "name": "stdout",
     "output_type": "stream",
     "text": [
      "Episode 25: statistics: [('average_q', 30.867906582704503), ('average_loss', 1.3273322739604103), ('n_updates', 272)], epsilon 0.1\n"
     ]
    },
    {
     "name": "stderr",
     "output_type": "stream",
     "text": [
      "\r",
      " 26%|██▌       | 26/100 [04:28<18:22, 14.89s/it]"
     ]
    },
    {
     "name": "stdout",
     "output_type": "stream",
     "text": [
      "Episode 26: statistics: [('average_q', 32.64023636497929), ('average_loss', 1.2983408181941458), ('n_updates', 279)], epsilon 0.1\n"
     ]
    },
    {
     "name": "stderr",
     "output_type": "stream",
     "text": [
      "\r",
      " 27%|██▋       | 27/100 [04:46<19:10, 15.76s/it]"
     ]
    },
    {
     "name": "stdout",
     "output_type": "stream",
     "text": [
      "Episode 27: statistics: [('average_q', 33.78413289913456), ('average_loss', 1.1715775349986928), ('n_updates', 300)], epsilon 0.1\n"
     ]
    },
    {
     "name": "stderr",
     "output_type": "stream",
     "text": [
      "\r",
      " 28%|██▊       | 28/100 [04:59<17:46, 14.82s/it]"
     ]
    },
    {
     "name": "stdout",
     "output_type": "stream",
     "text": [
      "Episode 28: statistics: [('average_q', 35.20209368036354), ('average_loss', 1.077648787561806), ('n_updates', 314)], epsilon 0.1\n"
     ]
    },
    {
     "name": "stderr",
     "output_type": "stream",
     "text": [
      "\r",
      " 29%|██▉       | 29/100 [05:05<14:23, 12.16s/it]"
     ]
    },
    {
     "name": "stdout",
     "output_type": "stream",
     "text": [
      "Episode 29: statistics: [('average_q', 35.66152282626838), ('average_loss', 1.0396150218526412), ('n_updates', 321)], epsilon 0.1\n",
      "Episode 30: statistics: [('average_q', 35.09799169373167), ('average_loss', 1.0914479048950732), ('n_updates', 335)], epsilon 0.1\n"
     ]
    },
    {
     "name": "stderr",
     "output_type": "stream",
     "text": [
      " 31%|███       | 31/100 [05:33<15:15, 13.26s/it]"
     ]
    },
    {
     "name": "stdout",
     "output_type": "stream",
     "text": [
      "Episode 31: statistics: [('average_q', 31.758942110579078), ('average_loss', 1.131441304647733), ('n_updates', 354)], epsilon 0.1\n"
     ]
    },
    {
     "name": "stderr",
     "output_type": "stream",
     "text": [
      "\r",
      " 32%|███▏      | 32/100 [05:42<13:38, 12.03s/it]"
     ]
    },
    {
     "name": "stdout",
     "output_type": "stream",
     "text": [
      "Episode 32: statistics: [('average_q', 31.54591566512919), ('average_loss', 1.0875632931832917), ('n_updates', 365)], epsilon 0.1\n"
     ]
    },
    {
     "name": "stderr",
     "output_type": "stream",
     "text": [
      "\r",
      " 33%|███▎      | 33/100 [05:55<13:55, 12.48s/it]"
     ]
    },
    {
     "name": "stdout",
     "output_type": "stream",
     "text": [
      "Episode 33: statistics: [('average_q', 30.5993073557445), ('average_loss', 0.9826492266402295), ('n_updates', 381)], epsilon 0.1\n"
     ]
    },
    {
     "name": "stderr",
     "output_type": "stream",
     "text": [
      "\r",
      " 34%|███▍      | 34/100 [06:17<16:38, 15.12s/it]"
     ]
    },
    {
     "name": "stdout",
     "output_type": "stream",
     "text": [
      "Episode 34: statistics: [('average_q', 27.89412583624279), ('average_loss', 0.7981424156530582), ('n_updates', 406)], epsilon 0.1\n"
     ]
    },
    {
     "name": "stderr",
     "output_type": "stream",
     "text": [
      "\r",
      " 35%|███▌      | 35/100 [06:28<15:06, 13.94s/it]"
     ]
    },
    {
     "name": "stdout",
     "output_type": "stream",
     "text": [
      "Episode 35: statistics: [('average_q', 29.330712471706263), ('average_loss', 0.7207619993455492), ('n_updates', 419)], epsilon 0.1\n"
     ]
    },
    {
     "name": "stderr",
     "output_type": "stream",
     "text": [
      "\r",
      " 36%|███▌      | 36/100 [06:39<13:53, 13.02s/it]"
     ]
    },
    {
     "name": "stdout",
     "output_type": "stream",
     "text": [
      "Episode 36: statistics: [('average_q', 29.343741659045108), ('average_loss', 0.662272465932801), ('n_updates', 430)], epsilon 0.1\n"
     ]
    },
    {
     "name": "stderr",
     "output_type": "stream",
     "text": [
      "\r",
      " 37%|███▋      | 37/100 [06:53<13:58, 13.31s/it]"
     ]
    },
    {
     "name": "stdout",
     "output_type": "stream",
     "text": [
      "Episode 37: statistics: [('average_q', 29.80887066408536), ('average_loss', 0.5917796872070394), ('n_updates', 446)], epsilon 0.1\n"
     ]
    }
   ],
   "source": [
    "for episode in tqdm(range(1, num_episodes+1)):\n",
    "    done = False\n",
    "    reward = 0\n",
    "    observation = env.reset()\n",
    "    observation = np.asarray(observation.transpose(2, 0, 1), dtype=np.float32) # 画像データの次元変換\n",
    "    while not done:        \n",
    "        action = agent.act_and_train(observation, reward)\n",
    "        observation, reward, done, info = env.step(action)\n",
    "        observation = np.asarray(observation.transpose(2, 0, 1), dtype=np.float32)\n",
    "#         print(action, reward, done, info)\n",
    "    agent.stop_episode_and_train(observation, reward, done)\n",
    "    print('Episode {}: statistics: {}, epsilon {}'.format(episode, agent.get_statistics(), agent.explorer.epsilon))\n",
    "    if episode % 10 == 0:\n",
    "        agent.save('agent_spaceinvaders_' + str(episode))\n",
    "    if episode % 10 == 0:\n",
    "            env.render()\n",
    "#             show_video()\n",
    "#             time.sleep(20)"
   ]
  },
  {
   "cell_type": "code",
   "execution_count": 0,
   "metadata": {
    "colab": {},
    "colab_type": "code",
    "id": "6Cy0o-BD5pSh"
   },
   "outputs": [],
   "source": []
  }
 ],
 "metadata": {
  "accelerator": "GPU",
  "colab": {
   "collapsed_sections": [],
   "name": "spaceinvaders_DQN.ipynb",
   "provenance": [],
   "toc_visible": true,
   "version": "0.3.2"
  },
  "kernelspec": {
   "display_name": "Python 3",
   "language": "python",
   "name": "python3"
  },
  "language_info": {
   "codemirror_mode": {
    "name": "ipython",
    "version": 3
   },
   "file_extension": ".py",
   "mimetype": "text/x-python",
   "name": "python",
   "nbconvert_exporter": "python",
   "pygments_lexer": "ipython3",
   "version": "3.7.3"
  },
  "toc": {
   "base_numbering": 1,
   "nav_menu": {},
   "number_sections": true,
   "sideBar": true,
   "skip_h1_title": false,
   "title_cell": "Table of Contents",
   "title_sidebar": "Contents",
   "toc_cell": false,
   "toc_position": {},
   "toc_section_display": true,
   "toc_window_display": false
  }
 },
 "nbformat": 4,
 "nbformat_minor": 1
}
