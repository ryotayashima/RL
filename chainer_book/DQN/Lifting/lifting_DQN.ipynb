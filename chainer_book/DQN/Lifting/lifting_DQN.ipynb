{
 "cells": [
  {
   "cell_type": "code",
   "execution_count": 1,
   "metadata": {
    "ExecuteTime": {
     "end_time": "2019-08-04T09:52:55.118385Z",
     "start_time": "2019-08-04T09:52:54.367177Z"
    },
    "colab": {},
    "colab_type": "code",
    "id": "wwrE9Cc3zqdb"
   },
   "outputs": [],
   "source": [
    "import myenv\n",
    "import gym\n",
    "from gym import wrappers\n",
    "import numpy as np\n",
    "import time\n",
    "import chainer\n",
    "import chainer.functions as F\n",
    "import chainer.links as L\n",
    "import chainerrl"
   ]
  },
  {
   "cell_type": "code",
   "execution_count": 2,
   "metadata": {
    "ExecuteTime": {
     "end_time": "2019-08-04T09:52:55.289222Z",
     "start_time": "2019-08-04T09:52:55.277533Z"
    },
    "colab": {
     "base_uri": "https://localhost:8080/",
     "height": 465
    },
    "colab_type": "code",
    "executionInfo": {
     "elapsed": 722,
     "status": "error",
     "timestamp": 1564826675219,
     "user": {
      "displayName": "八島諒汰",
      "photoUrl": "",
      "userId": "01084465765645554068"
     },
     "user_tz": -540
    },
    "id": "iLWJGLOzl4Ut",
    "outputId": "94fa29af-b31f-4e4d-8dde-af0961a3ec7a"
   },
   "outputs": [],
   "source": [
    "from tqdm import tqdm"
   ]
  },
  {
   "cell_type": "code",
   "execution_count": 3,
   "metadata": {
    "ExecuteTime": {
     "end_time": "2019-08-04T09:52:56.262757Z",
     "start_time": "2019-08-04T09:52:56.254885Z"
    },
    "colab": {},
    "colab_type": "code",
    "id": "RiOcqhy900Uw"
   },
   "outputs": [],
   "source": [
    "gamma = 0.999\n",
    "alpha = 0.5"
   ]
  },
  {
   "cell_type": "code",
   "execution_count": 4,
   "metadata": {
    "ExecuteTime": {
     "end_time": "2019-08-04T09:52:57.636122Z",
     "start_time": "2019-08-04T09:52:57.624879Z"
    },
    "colab": {},
    "colab_type": "code",
    "id": "mATwIwgi1GXF"
   },
   "outputs": [],
   "source": [
    "class QFunction(chainer.Chain):\n",
    "    def __init__(self, obs_size, n_actions, n_hidden_channels=50):\n",
    "        super(QFunction, self).__init__()\n",
    "        with self.init_scope():\n",
    "            self.l0 = L.Linear(obs_size, n_hidden_channels)\n",
    "            self.l1 = L.Linear(n_hidden_channels, n_hidden_channels)\n",
    "            self.l2 = L.Linear(n_hidden_channels, n_actions)\n",
    "    def __call__(self, x, test=False):\n",
    "        h1 = F.tanh(self.l0(x))\n",
    "        h2 = F.tanh(self.l1(h1))\n",
    "        return chainerrl.action_value.DiscreteActionValue(self.l2(h2))"
   ]
  },
  {
   "cell_type": "code",
   "execution_count": 19,
   "metadata": {
    "ExecuteTime": {
     "end_time": "2019-08-04T10:08:36.104395Z",
     "start_time": "2019-08-04T10:08:36.095221Z"
    },
    "colab": {
     "base_uri": "https://localhost:8080/",
     "height": 106
    },
    "colab_type": "code",
    "executionInfo": {
     "elapsed": 1042,
     "status": "ok",
     "timestamp": 1564829366351,
     "user": {
      "displayName": "八島諒汰",
      "photoUrl": "",
      "userId": "01084465765645554068"
     },
     "user_tz": -540
    },
    "id": "Revp9gof2g72",
    "outputId": "30d45efc-a035-4df4-f542-d62b9ca55bfd"
   },
   "outputs": [],
   "source": [
    "env = gym.make('Lifting-v0')\n",
    "env = wrappers.Monitor(env, 'videos', video_callable=(lambda ep: ep % 10 == 0), force=True)\n",
    "num_episodes = 20000"
   ]
  },
  {
   "cell_type": "code",
   "execution_count": 20,
   "metadata": {
    "ExecuteTime": {
     "end_time": "2019-08-04T10:08:36.295324Z",
     "start_time": "2019-08-04T10:08:36.287948Z"
    },
    "colab": {},
    "colab_type": "code",
    "id": "pmdyxRzK3AEe"
   },
   "outputs": [],
   "source": [
    "q_func = QFunction(env.observation_space.shape[0], env.action_space.n)\n",
    "optimizer = chainer.optimizers.Adam(1e-2)\n",
    "optimizer.setup(q_func)\n",
    "explorer = chainerrl.explorers.LinearDecayEpsilonGreedy(\n",
    "    start_epsilon=1.0, \n",
    "    end_epsilon=0.1,\n",
    "    decay_steps = num_episodes,\n",
    "    random_action_func = env.action_space.sample\n",
    ")\n",
    "replay_buffer = chainerrl.replay_buffer.ReplayBuffer(capacity=10**6)\n",
    "phi = lambda x: x.astype(np.float32, copy=False)"
   ]
  },
  {
   "cell_type": "code",
   "execution_count": 21,
   "metadata": {
    "ExecuteTime": {
     "end_time": "2019-08-04T10:08:36.793815Z",
     "start_time": "2019-08-04T10:08:36.783233Z"
    },
    "colab": {},
    "colab_type": "code",
    "id": "Mb1A9PnAfLWa"
   },
   "outputs": [],
   "source": [
    "agent = chainerrl.agents.DQN(\n",
    "    q_func, optimizer, replay_buffer, gamma, explorer,\n",
    "    replay_start_size = 500,\n",
    "    update_interval = 1,\n",
    "    target_update_interval = 100,\n",
    "    phi = phi,\n",
    "#     gpu = 0\n",
    ")"
   ]
  },
  {
   "cell_type": "code",
   "execution_count": 22,
   "metadata": {
    "ExecuteTime": {
     "end_time": "2019-08-04T10:14:34.238287Z",
     "start_time": "2019-08-04T10:08:42.076746Z"
    },
    "colab": {
     "base_uri": "https://localhost:8080/",
     "height": 1000
    },
    "colab_type": "code",
    "executionInfo": {
     "elapsed": 7575068,
     "status": "ok",
     "timestamp": 1564836955386,
     "user": {
      "displayName": "八島諒汰",
      "photoUrl": "",
      "userId": "01084465765645554068"
     },
     "user_tz": -540
    },
    "id": "NRLKZH7IlzrV",
    "outputId": "b5f4e462-6f9c-4a67-d218-c130893c96f2"
   },
   "outputs": [
    {
     "name": "stdout",
     "output_type": "stream",
     "text": [
      "episode:  0 R : 1.0 statistics : [('average_q', -0.011686305631758863), ('average_loss', 0), ('n_updates', 0)]\n",
      "episode:  10 R : 0.0 statistics : [('average_q', -0.07157010161204255), ('average_loss', 0), ('n_updates', 0)]\n",
      "episode:  20 R : 0.0 statistics : [('average_q', -0.10175033120098166), ('average_loss', 0.007282006384991116), ('n_updates', 307)]\n",
      "episode:  30 R : 0.0 statistics : [('average_q', -0.03540269049684009), ('average_loss', 0.009839842455821927), ('n_updates', 699)]\n",
      "episode:  40 R : 0.0 statistics : [('average_q', 0.02489863647566063), ('average_loss', 0.009712813773627229), ('n_updates', 970)]\n",
      "episode:  50 R : 0.0 statistics : [('average_q', 0.09824890278747134), ('average_loss', 0.007471708535532998), ('n_updates', 1323)]\n",
      "episode:  60 R : 0.0 statistics : [('average_q', 0.15846095016464717), ('average_loss', 0.009030711818716338), ('n_updates', 1754)]\n",
      "episode:  70 R : 0.0 statistics : [('average_q', 0.2525361953288495), ('average_loss', 0.019832454398498494), ('n_updates', 2189)]\n",
      "episode:  80 R : 0.0 statistics : [('average_q', 0.32514410334815236), ('average_loss', 0.01847191084576653), ('n_updates', 2530)]\n",
      "episode:  90 R : 1.0 statistics : [('average_q', 0.4603350703883623), ('average_loss', 0.01914891456523849), ('n_updates', 2883)]\n",
      "episode:  100 R : 0.0 statistics : [('average_q', 0.6828120534996568), ('average_loss', 0.013776262653440605), ('n_updates', 3195)]\n",
      "episode:  110 R : 1.0 statistics : [('average_q', 0.9594452230258136), ('average_loss', 0.010712030836775849), ('n_updates', 3587)]\n",
      "episode:  120 R : 1.0 statistics : [('average_q', 1.120176717875479), ('average_loss', 0.013287869079182777), ('n_updates', 3899)]\n",
      "episode:  130 R : 0.0 statistics : [('average_q', 1.283743747388155), ('average_loss', 0.011972644492794072), ('n_updates', 4170)]\n",
      "episode:  140 R : 0.0 statistics : [('average_q', 1.434434008251723), ('average_loss', 0.010434350837912072), ('n_updates', 4482)]\n",
      "episode:  150 R : 0.0 statistics : [('average_q', 1.6211508948729874), ('average_loss', 0.013038070420972105), ('n_updates', 4997)]\n",
      "episode:  160 R : 1.0 statistics : [('average_q', 1.6758593831225612), ('average_loss', 0.012234915496508474), ('n_updates', 5510)]\n",
      "episode:  170 R : 0.0 statistics : [('average_q', 1.6936257388944131), ('average_loss', 0.012102033854818601), ('n_updates', 5945)]\n",
      "episode:  180 R : 1.0 statistics : [('average_q', 1.9144354971182718), ('average_loss', 0.012497395854345682), ('n_updates', 6624)]\n",
      "episode:  190 R : 0.0 statistics : [('average_q', 2.0197458567267397), ('average_loss', 0.01445735784833907), ('n_updates', 7135)]\n",
      "episode:  200 R : 1.0 statistics : [('average_q', 2.0837655322440733), ('average_loss', 0.015487553271366802), ('n_updates', 7759)]\n",
      "episode:  210 R : 0.0 statistics : [('average_q', 2.050452000100063), ('average_loss', 0.012463959924119713), ('n_updates', 8902)]\n",
      "episode:  220 R : 2.0 statistics : [('average_q', 2.2281218654506745), ('average_loss', 0.016045149274393995), ('n_updates', 9370)]\n",
      "episode:  230 R : 2.0 statistics : [('average_q', 2.447162523154042), ('average_loss', 0.013821712623814377), ('n_updates', 10401)]\n",
      "episode:  240 R : 1.0 statistics : [('average_q', 2.509008091120134), ('average_loss', 0.017285576748849705), ('n_updates', 11197)]\n",
      "episode:  250 R : 1.0 statistics : [('average_q', 2.6738255420119006), ('average_loss', 0.018084245431234276), ('n_updates', 11979)]\n",
      "episode:  260 R : 5.0 statistics : [('average_q', 2.8897606578580426), ('average_loss', 0.019658013549527037), ('n_updates', 12831)]\n",
      "episode:  270 R : 1.0 statistics : [('average_q', 3.114744154222485), ('average_loss', 0.025382659718614024), ('n_updates', 13664)]\n",
      "episode:  280 R : 3.0 statistics : [('average_q', 3.2855543901087683), ('average_loss', 0.03251892922650835), ('n_updates', 14917)]\n",
      "episode:  290 R : 1.0 statistics : [('average_q', 3.8422690594653752), ('average_loss', 0.040107372850984216), ('n_updates', 15848)]\n",
      "episode:  300 R : 0.0 statistics : [('average_q', 4.292413985676127), ('average_loss', 0.03506919446700245), ('n_updates', 16583)]\n",
      "episode:  310 R : 0.0 statistics : [('average_q', 4.700745371100248), ('average_loss', 0.048819223410785435), ('n_updates', 17456)]\n",
      "episode:  320 R : 0.0 statistics : [('average_q', 5.0807925294519505), ('average_loss', 0.04556636512494519), ('n_updates', 17846)]\n",
      "episode:  330 R : 1.0 statistics : [('average_q', 5.318955008939805), ('average_loss', 0.051259327230020316), ('n_updates', 18480)]\n",
      "episode:  340 R : 1.0 statistics : [('average_q', 5.8162366224575885), ('average_loss', 0.05493485686152069), ('n_updates', 19194)]\n",
      "episode:  350 R : 2.0 statistics : [('average_q', 6.434774897289611), ('average_loss', 0.07462121267043843), ('n_updates', 20244)]\n",
      "episode:  360 R : 4.0 statistics : [('average_q', 7.951828806039742), ('average_loss', 0.10967663421132326), ('n_updates', 22101)]\n",
      "episode:  370 R : 2.0 statistics : [('average_q', 9.186019827197129), ('average_loss', 0.09954844616733803), ('n_updates', 23477)]\n",
      "episode:  380 R : 8.0 statistics : [('average_q', 10.523429873233606), ('average_loss', 0.12969980462017286), ('n_updates', 25228)]\n",
      "episode:  390 R : 2.0 statistics : [('average_q', 13.008418344677276), ('average_loss', 0.15208775450564455), ('n_updates', 27312)]\n",
      "episode:  400 R : 5.0 statistics : [('average_q', 13.26246262766172), ('average_loss', 0.16739038194855815), ('n_updates', 28514)]\n",
      "episode:  410 R : 1.0 statistics : [('average_q', 13.440982429758689), ('average_loss', 0.19783222015725777), ('n_updates', 29666)]\n",
      "episode:  420 R : 1.0 statistics : [('average_q', 13.89129356532058), ('average_loss', 0.16324471354833905), ('n_updates', 30725)]\n",
      "episode:  430 R : 2.0 statistics : [('average_q', 15.133497185120715), ('average_loss', 0.20096729267849456), ('n_updates', 31989)]\n",
      "episode:  440 R : 2.0 statistics : [('average_q', 16.261874928372745), ('average_loss', 0.19094226326323774), ('n_updates', 33461)]\n",
      "episode:  450 R : 0.0 statistics : [('average_q', 18.286018756879773), ('average_loss', 0.24544387009456312), ('n_updates', 34697)]\n",
      "episode:  460 R : 1.0 statistics : [('average_q', 18.1286302340315), ('average_loss', 0.2324083091556496), ('n_updates', 35650)]\n",
      "episode:  470 R : 1.0 statistics : [('average_q', 17.51196498496452), ('average_loss', 0.23355741955408799), ('n_updates', 36333)]\n",
      "episode:  480 R : 0.0 statistics : [('average_q', 17.945562036609008), ('average_loss', 0.2582091669550324), ('n_updates', 37041)]\n",
      "episode:  490 R : 1.0 statistics : [('average_q', 17.617255702550228), ('average_loss', 0.2646327332944954), ('n_updates', 37638)]\n",
      "episode:  500 R : 4.0 statistics : [('average_q', 17.486018071341658), ('average_loss', 0.28883475450906304), ('n_updates', 38309)]\n",
      "episode:  510 R : 2.0 statistics : [('average_q', 19.03208896360949), ('average_loss', 0.28467204445507943), ('n_updates', 39572)]\n",
      "episode:  520 R : 5.0 statistics : [('average_q', 22.524295232029843), ('average_loss', 0.328182568417491), ('n_updates', 41547)]\n",
      "episode:  530 R : 3.0 statistics : [('average_q', 23.74193768650956), ('average_loss', 0.318507128783696), ('n_updates', 43081)]\n",
      "episode:  540 R : 3.0 statistics : [('average_q', 23.595638774235535), ('average_loss', 0.42917529610420385), ('n_updates', 44075)]\n",
      "episode:  550 R : 4.0 statistics : [('average_q', 25.790066428717022), ('average_loss', 0.47425777910133177), ('n_updates', 45477)]\n",
      "episode:  560 R : 11.0 statistics : [('average_q', 28.31771158748068), ('average_loss', 0.38874654592453345), ('n_updates', 46942)]\n"
     ]
    },
    {
     "ename": "Error",
     "evalue": "Tried to reset environment which is not done. While the monitor is active for Lifting-v0, you cannot call reset() unless the episode is over.",
     "output_type": "error",
     "traceback": [
      "\u001b[0;31m---------------------------------------------------------------------------\u001b[0m",
      "\u001b[0;31mError\u001b[0m                                     Traceback (most recent call last)",
      "\u001b[0;32m<ipython-input-22-22e15c0169d4>\u001b[0m in \u001b[0;36m<module>\u001b[0;34m\u001b[0m\n\u001b[1;32m      1\u001b[0m \u001b[0;32mfor\u001b[0m \u001b[0mepisode\u001b[0m \u001b[0;32min\u001b[0m \u001b[0mrange\u001b[0m\u001b[0;34m(\u001b[0m\u001b[0mnum_episodes\u001b[0m\u001b[0;34m)\u001b[0m\u001b[0;34m:\u001b[0m\u001b[0;34m\u001b[0m\u001b[0;34m\u001b[0m\u001b[0m\n\u001b[0;32m----> 2\u001b[0;31m     \u001b[0mobservation\u001b[0m \u001b[0;34m=\u001b[0m \u001b[0menv\u001b[0m\u001b[0;34m.\u001b[0m\u001b[0mreset\u001b[0m\u001b[0;34m(\u001b[0m\u001b[0;34m)\u001b[0m\u001b[0;34m\u001b[0m\u001b[0;34m\u001b[0m\u001b[0m\n\u001b[0m\u001b[1;32m      3\u001b[0m     \u001b[0mdone\u001b[0m \u001b[0;34m=\u001b[0m \u001b[0;32mFalse\u001b[0m\u001b[0;34m\u001b[0m\u001b[0;34m\u001b[0m\u001b[0m\n\u001b[1;32m      4\u001b[0m     \u001b[0mreward\u001b[0m \u001b[0;34m=\u001b[0m \u001b[0;36m0\u001b[0m\u001b[0;34m\u001b[0m\u001b[0;34m\u001b[0m\u001b[0m\n\u001b[1;32m      5\u001b[0m     \u001b[0mR\u001b[0m \u001b[0;34m=\u001b[0m \u001b[0;36m0\u001b[0m\u001b[0;34m\u001b[0m\u001b[0;34m\u001b[0m\u001b[0m\n",
      "\u001b[0;32m~/anaconda3/envs/py37/lib/python3.7/site-packages/gym/wrappers/monitor.py\u001b[0m in \u001b[0;36mreset\u001b[0;34m(self, **kwargs)\u001b[0m\n\u001b[1;32m     35\u001b[0m \u001b[0;34m\u001b[0m\u001b[0m\n\u001b[1;32m     36\u001b[0m     \u001b[0;32mdef\u001b[0m \u001b[0mreset\u001b[0m\u001b[0;34m(\u001b[0m\u001b[0mself\u001b[0m\u001b[0;34m,\u001b[0m \u001b[0;34m**\u001b[0m\u001b[0mkwargs\u001b[0m\u001b[0;34m)\u001b[0m\u001b[0;34m:\u001b[0m\u001b[0;34m\u001b[0m\u001b[0;34m\u001b[0m\u001b[0m\n\u001b[0;32m---> 37\u001b[0;31m         \u001b[0mself\u001b[0m\u001b[0;34m.\u001b[0m\u001b[0m_before_reset\u001b[0m\u001b[0;34m(\u001b[0m\u001b[0;34m)\u001b[0m\u001b[0;34m\u001b[0m\u001b[0;34m\u001b[0m\u001b[0m\n\u001b[0m\u001b[1;32m     38\u001b[0m         \u001b[0mobservation\u001b[0m \u001b[0;34m=\u001b[0m \u001b[0mself\u001b[0m\u001b[0;34m.\u001b[0m\u001b[0menv\u001b[0m\u001b[0;34m.\u001b[0m\u001b[0mreset\u001b[0m\u001b[0;34m(\u001b[0m\u001b[0;34m**\u001b[0m\u001b[0mkwargs\u001b[0m\u001b[0;34m)\u001b[0m\u001b[0;34m\u001b[0m\u001b[0;34m\u001b[0m\u001b[0m\n\u001b[1;32m     39\u001b[0m         \u001b[0mself\u001b[0m\u001b[0;34m.\u001b[0m\u001b[0m_after_reset\u001b[0m\u001b[0;34m(\u001b[0m\u001b[0mobservation\u001b[0m\u001b[0;34m)\u001b[0m\u001b[0;34m\u001b[0m\u001b[0;34m\u001b[0m\u001b[0m\n",
      "\u001b[0;32m~/anaconda3/envs/py37/lib/python3.7/site-packages/gym/wrappers/monitor.py\u001b[0m in \u001b[0;36m_before_reset\u001b[0;34m(self)\u001b[0m\n\u001b[1;32m    178\u001b[0m     \u001b[0;32mdef\u001b[0m \u001b[0m_before_reset\u001b[0m\u001b[0;34m(\u001b[0m\u001b[0mself\u001b[0m\u001b[0;34m)\u001b[0m\u001b[0;34m:\u001b[0m\u001b[0;34m\u001b[0m\u001b[0;34m\u001b[0m\u001b[0m\n\u001b[1;32m    179\u001b[0m         \u001b[0;32mif\u001b[0m \u001b[0;32mnot\u001b[0m \u001b[0mself\u001b[0m\u001b[0;34m.\u001b[0m\u001b[0menabled\u001b[0m\u001b[0;34m:\u001b[0m \u001b[0;32mreturn\u001b[0m\u001b[0;34m\u001b[0m\u001b[0;34m\u001b[0m\u001b[0m\n\u001b[0;32m--> 180\u001b[0;31m         \u001b[0mself\u001b[0m\u001b[0;34m.\u001b[0m\u001b[0mstats_recorder\u001b[0m\u001b[0;34m.\u001b[0m\u001b[0mbefore_reset\u001b[0m\u001b[0;34m(\u001b[0m\u001b[0;34m)\u001b[0m\u001b[0;34m\u001b[0m\u001b[0;34m\u001b[0m\u001b[0m\n\u001b[0m\u001b[1;32m    181\u001b[0m \u001b[0;34m\u001b[0m\u001b[0m\n\u001b[1;32m    182\u001b[0m     \u001b[0;32mdef\u001b[0m \u001b[0m_after_reset\u001b[0m\u001b[0;34m(\u001b[0m\u001b[0mself\u001b[0m\u001b[0;34m,\u001b[0m \u001b[0mobservation\u001b[0m\u001b[0;34m)\u001b[0m\u001b[0;34m:\u001b[0m\u001b[0;34m\u001b[0m\u001b[0;34m\u001b[0m\u001b[0m\n",
      "\u001b[0;32m~/anaconda3/envs/py37/lib/python3.7/site-packages/gym/wrappers/monitoring/stats_recorder.py\u001b[0m in \u001b[0;36mbefore_reset\u001b[0;34m(self)\u001b[0m\n\u001b[1;32m     66\u001b[0m \u001b[0;34m\u001b[0m\u001b[0m\n\u001b[1;32m     67\u001b[0m         \u001b[0;32mif\u001b[0m \u001b[0mself\u001b[0m\u001b[0;34m.\u001b[0m\u001b[0mdone\u001b[0m \u001b[0;32mis\u001b[0m \u001b[0;32mnot\u001b[0m \u001b[0;32mNone\u001b[0m \u001b[0;32mand\u001b[0m \u001b[0;32mnot\u001b[0m \u001b[0mself\u001b[0m\u001b[0;34m.\u001b[0m\u001b[0mdone\u001b[0m \u001b[0;32mand\u001b[0m \u001b[0mself\u001b[0m\u001b[0;34m.\u001b[0m\u001b[0msteps\u001b[0m \u001b[0;34m>\u001b[0m \u001b[0;36m0\u001b[0m\u001b[0;34m:\u001b[0m\u001b[0;34m\u001b[0m\u001b[0;34m\u001b[0m\u001b[0m\n\u001b[0;32m---> 68\u001b[0;31m             \u001b[0;32mraise\u001b[0m \u001b[0merror\u001b[0m\u001b[0;34m.\u001b[0m\u001b[0mError\u001b[0m\u001b[0;34m(\u001b[0m\u001b[0;34m\"Tried to reset environment which is not done. While the monitor is active for {}, you cannot call reset() unless the episode is over.\"\u001b[0m\u001b[0;34m.\u001b[0m\u001b[0mformat\u001b[0m\u001b[0;34m(\u001b[0m\u001b[0mself\u001b[0m\u001b[0;34m.\u001b[0m\u001b[0menv_id\u001b[0m\u001b[0;34m)\u001b[0m\u001b[0;34m)\u001b[0m\u001b[0;34m\u001b[0m\u001b[0;34m\u001b[0m\u001b[0m\n\u001b[0m\u001b[1;32m     69\u001b[0m \u001b[0;34m\u001b[0m\u001b[0m\n\u001b[1;32m     70\u001b[0m         \u001b[0mself\u001b[0m\u001b[0;34m.\u001b[0m\u001b[0mdone\u001b[0m \u001b[0;34m=\u001b[0m \u001b[0;32mFalse\u001b[0m\u001b[0;34m\u001b[0m\u001b[0;34m\u001b[0m\u001b[0m\n",
      "\u001b[0;31mError\u001b[0m: Tried to reset environment which is not done. While the monitor is active for Lifting-v0, you cannot call reset() unless the episode is over."
     ]
    }
   ],
   "source": [
    "for episode in range(num_episodes):\n",
    "    observation = env.reset()\n",
    "    done = False\n",
    "    reward = 0\n",
    "    R = 0\n",
    "    while not done and R<20:\n",
    "        if episode%10==0:\n",
    "            env.render('human')\n",
    "        action = agent.act_and_train(observation, reward)\n",
    "        observation, reward, done, info = env.step(action)\n",
    "        R += reward\n",
    "    agent.stop_episode_and_train(observation, reward, done)\n",
    "    if episode%10==0:\n",
    "        print('episode: ', episode, 'R :', R, 'statistics :', agent.get_statistics())\n",
    "        agent.save('agent/agent_' + str(episode))"
   ]
  },
  {
   "cell_type": "code",
   "execution_count": 0,
   "metadata": {
    "colab": {},
    "colab_type": "code",
    "id": "me4BNhyRxxWb"
   },
   "outputs": [],
   "source": []
  }
 ],
 "metadata": {
  "accelerator": "GPU",
  "colab": {
   "collapsed_sections": [],
   "name": "lifting_DQN.ipynb",
   "provenance": [],
   "version": "0.3.2"
  },
  "kernelspec": {
   "display_name": "py37",
   "language": "python",
   "name": "py37"
  },
  "language_info": {
   "codemirror_mode": {
    "name": "ipython",
    "version": 3
   },
   "file_extension": ".py",
   "mimetype": "text/x-python",
   "name": "python",
   "nbconvert_exporter": "python",
   "pygments_lexer": "ipython3",
   "version": "3.7.3"
  },
  "toc": {
   "base_numbering": 1,
   "nav_menu": {},
   "number_sections": true,
   "sideBar": true,
   "skip_h1_title": false,
   "title_cell": "Table of Contents",
   "title_sidebar": "Contents",
   "toc_cell": false,
   "toc_position": {},
   "toc_section_display": true,
   "toc_window_display": false
  },
  "varInspector": {
   "cols": {
    "lenName": 16,
    "lenType": 16,
    "lenVar": 40
   },
   "kernels_config": {
    "python": {
     "delete_cmd_postfix": "",
     "delete_cmd_prefix": "del ",
     "library": "var_list.py",
     "varRefreshCmd": "print(var_dic_list())"
    },
    "r": {
     "delete_cmd_postfix": ") ",
     "delete_cmd_prefix": "rm(",
     "library": "var_list.r",
     "varRefreshCmd": "cat(var_dic_list()) "
    }
   },
   "types_to_exclude": [
    "module",
    "function",
    "builtin_function_or_method",
    "instance",
    "_Feature"
   ],
   "window_display": false
  }
 },
 "nbformat": 4,
 "nbformat_minor": 1
}
