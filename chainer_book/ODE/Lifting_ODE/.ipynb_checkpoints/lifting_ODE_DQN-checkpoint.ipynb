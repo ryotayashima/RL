{
 "cells": [
  {
   "cell_type": "code",
   "execution_count": 2,
   "metadata": {
    "ExecuteTime": {
     "end_time": "2019-08-07T08:32:07.602231Z",
     "start_time": "2019-08-07T08:32:07.193123Z"
    },
    "colab": {},
    "colab_type": "code",
    "id": "wwrE9Cc3zqdb"
   },
   "outputs": [],
   "source": [
    "import myenv\n",
    "import gym\n",
    "from gym import wrappers\n",
    "import numpy as np\n",
    "import time\n",
    "import chainer\n",
    "import chainer.functions as F\n",
    "import chainer.links as L\n",
    "import chainerrl"
   ]
  },
  {
   "cell_type": "code",
   "execution_count": 3,
   "metadata": {
    "ExecuteTime": {
     "end_time": "2019-08-07T08:32:10.629026Z",
     "start_time": "2019-08-07T08:32:10.607509Z"
    },
    "colab": {
     "base_uri": "https://localhost:8080/",
     "height": 465
    },
    "colab_type": "code",
    "executionInfo": {
     "elapsed": 722,
     "status": "error",
     "timestamp": 1564826675219,
     "user": {
      "displayName": "八島諒汰",
      "photoUrl": "",
      "userId": "01084465765645554068"
     },
     "user_tz": -540
    },
    "id": "iLWJGLOzl4Ut",
    "outputId": "94fa29af-b31f-4e4d-8dde-af0961a3ec7a"
   },
   "outputs": [],
   "source": [
    "from tqdm import tqdm"
   ]
  },
  {
   "cell_type": "code",
   "execution_count": 4,
   "metadata": {
    "ExecuteTime": {
     "end_time": "2019-08-07T08:32:11.595883Z",
     "start_time": "2019-08-07T08:32:11.590102Z"
    },
    "colab": {},
    "colab_type": "code",
    "id": "RiOcqhy900Uw"
   },
   "outputs": [],
   "source": [
    "gamma = 0.999\n",
    "alpha = 0.5"
   ]
  },
  {
   "cell_type": "code",
   "execution_count": 5,
   "metadata": {
    "ExecuteTime": {
     "end_time": "2019-08-07T08:32:12.858556Z",
     "start_time": "2019-08-07T08:32:12.842765Z"
    },
    "colab": {},
    "colab_type": "code",
    "id": "mATwIwgi1GXF"
   },
   "outputs": [],
   "source": [
    "class QFunction(chainer.Chain):\n",
    "    def __init__(self, obs_size, n_actions, n_hidden_channels=50):\n",
    "        super(QFunction, self).__init__()\n",
    "        with self.init_scope():\n",
    "            self.l0 = L.Linear(obs_size, n_hidden_channels)\n",
    "            self.l1 = L.Linear(n_hidden_channels, n_hidden_channels)\n",
    "            self.l2 = L.Linear(n_hidden_channels, n_actions)\n",
    "    def __call__(self, x, test=False):\n",
    "        h1 = F.tanh(self.l0(x))\n",
    "        h2 = F.tanh(self.l1(h1))\n",
    "        return chainerrl.action_value.DiscreteActionValue(self.l2(h2))"
   ]
  },
  {
   "cell_type": "code",
   "execution_count": 6,
   "metadata": {
    "ExecuteTime": {
     "end_time": "2019-08-07T08:32:30.800848Z",
     "start_time": "2019-08-07T08:32:30.772399Z"
    },
    "colab": {
     "base_uri": "https://localhost:8080/",
     "height": 106
    },
    "colab_type": "code",
    "executionInfo": {
     "elapsed": 1042,
     "status": "ok",
     "timestamp": 1564829366351,
     "user": {
      "displayName": "八島諒汰",
      "photoUrl": "",
      "userId": "01084465765645554068"
     },
     "user_tz": -540
    },
    "id": "Revp9gof2g72",
    "outputId": "30d45efc-a035-4df4-f542-d62b9ca55bfd"
   },
   "outputs": [
    {
     "name": "stderr",
     "output_type": "stream",
     "text": [
      "/home/yashima/anaconda3/envs/py27/lib/python2.7/site-packages/gym/logger.py:30: UserWarning: \u001b[33mWARN: Environment '<class 'myenv.env.lifting_ode.LiftingODEEnv'>' has deprecated methods '_step' and '_reset' rather than 'step' and 'reset'. Compatibility code invoked. Set _gym_disable_underscore_compat = True to disable this behavior.\u001b[0m\n",
      "  warnings.warn(colorize('%s: %s'%('WARN', msg % args), 'yellow'))\n"
     ]
    }
   ],
   "source": [
    "env = gym.make('LiftingODE-v0')\n",
    "env = wrappers.Monitor(env, 'videos', video_callable=(lambda ep: ep % 10 == 0), force=True)\n",
    "num_episodes = 20000"
   ]
  },
  {
   "cell_type": "code",
   "execution_count": 7,
   "metadata": {
    "ExecuteTime": {
     "end_time": "2019-08-07T08:32:34.391720Z",
     "start_time": "2019-08-07T08:32:34.377657Z"
    },
    "colab": {},
    "colab_type": "code",
    "id": "pmdyxRzK3AEe"
   },
   "outputs": [],
   "source": [
    "q_func = QFunction(env.observation_space.shape[0], env.action_space.n)\n",
    "optimizer = chainer.optimizers.Adam(1e-2)\n",
    "optimizer.setup(q_func)\n",
    "explorer = chainerrl.explorers.LinearDecayEpsilonGreedy(\n",
    "    start_epsilon=1.0, \n",
    "    end_epsilon=0.1,\n",
    "    decay_steps = num_episodes,\n",
    "    random_action_func = env.action_space.sample\n",
    ")\n",
    "replay_buffer = chainerrl.replay_buffer.ReplayBuffer(capacity=10**6)\n",
    "phi = lambda x: x.astype(np.float32, copy=False)"
   ]
  },
  {
   "cell_type": "code",
   "execution_count": 8,
   "metadata": {
    "ExecuteTime": {
     "end_time": "2019-08-07T08:32:34.762016Z",
     "start_time": "2019-08-07T08:32:34.738348Z"
    },
    "colab": {},
    "colab_type": "code",
    "id": "Mb1A9PnAfLWa"
   },
   "outputs": [],
   "source": [
    "agent = chainerrl.agents.DQN(\n",
    "    q_func, optimizer, replay_buffer, gamma, explorer,\n",
    "    replay_start_size = 500,\n",
    "    update_interval = 1,\n",
    "    target_update_interval = 100,\n",
    "    phi = phi,\n",
    "#     gpu = 0\n",
    ")"
   ]
  },
  {
   "cell_type": "code",
   "execution_count": 9,
   "metadata": {
    "ExecuteTime": {
     "end_time": "2019-08-07T08:42:49.978626Z",
     "start_time": "2019-08-07T08:32:35.350081Z"
    },
    "colab": {
     "base_uri": "https://localhost:8080/",
     "height": 1000
    },
    "colab_type": "code",
    "executionInfo": {
     "elapsed": 7575068,
     "status": "ok",
     "timestamp": 1564836955386,
     "user": {
      "displayName": "八島諒汰",
      "photoUrl": "",
      "userId": "01084465765645554068"
     },
     "user_tz": -540
    },
    "id": "NRLKZH7IlzrV",
    "outputId": "b5f4e462-6f9c-4a67-d218-c130893c96f2"
   },
   "outputs": [
    {
     "name": "stdout",
     "output_type": "stream",
     "text": [
      "('episode: ', 0, 'R :', 3.0, 'statistics :', [(u'average_q', 0.08647044220550745), (u'average_loss', 0)])\n",
      "('episode: ', 10, 'R :', 2.0, 'statistics :', [(u'average_q', 0.3539118973240027), (u'average_loss', 0.00584154601132023)])\n",
      "('episode: ', 20, 'R :', 0.0, 'statistics :', [(u'average_q', 0.5963866581002584), (u'average_loss', 0.007267065643337132)])\n",
      "('episode: ', 30, 'R :', 1.0, 'statistics :', [(u'average_q', 1.2502951846538273), (u'average_loss', 0.005970460586989977)])\n",
      "('episode: ', 40, 'R :', 1.0, 'statistics :', [(u'average_q', 1.8611040247709516), (u'average_loss', 0.011306380839403949)])\n",
      "('episode: ', 50, 'R :', 2.0, 'statistics :', [(u'average_q', 2.6011256942431387), (u'average_loss', 0.014935865346787472)])\n",
      "('episode: ', 60, 'R :', 2.0, 'statistics :', [(u'average_q', 2.793401704007595), (u'average_loss', 0.014317843581185126)])\n",
      "('episode: ', 70, 'R :', 1.0, 'statistics :', [(u'average_q', 3.5483770584134433), (u'average_loss', 0.021430002019112673)])\n",
      "('episode: ', 80, 'R :', 1.0, 'statistics :', [(u'average_q', 5.061579762439058), (u'average_loss', 0.034252230608996015)])\n",
      "('episode: ', 90, 'R :', 1.0, 'statistics :', [(u'average_q', 6.138905804293437), (u'average_loss', 0.038007949264402784)])\n",
      "('episode: ', 100, 'R :', 1.0, 'statistics :', [(u'average_q', 6.515435525613317), (u'average_loss', 0.03940014917602534)])\n",
      "('episode: ', 110, 'R :', 3.0, 'statistics :', [(u'average_q', 7.142232535063411), (u'average_loss', 0.03446367063385763)])\n",
      "('episode: ', 120, 'R :', 3.0, 'statistics :', [(u'average_q', 9.102327965720526), (u'average_loss', 0.04531847869290022)])\n",
      "('episode: ', 130, 'R :', 4.0, 'statistics :', [(u'average_q', 12.008998389918457), (u'average_loss', 0.07246936576656153)])\n",
      "('episode: ', 140, 'R :', 2.0, 'statistics :', [(u'average_q', 13.396947214061731), (u'average_loss', 0.06957506365493156)])\n",
      "('episode: ', 150, 'R :', 10.0, 'statistics :', [(u'average_q', 12.65293652817484), (u'average_loss', 0.10624592182135535)])\n",
      "('episode: ', 160, 'R :', 10.0, 'statistics :', [(u'average_q', 16.018831495833307), (u'average_loss', 0.13082638925766277)])\n",
      "('episode: ', 170, 'R :', 2.0, 'statistics :', [(u'average_q', 17.487432295632548), (u'average_loss', 0.12351050203049807)])\n",
      "('episode: ', 180, 'R :', 2.0, 'statistics :', [(u'average_q', 19.03057924179593), (u'average_loss', 0.13676324410159982)])\n",
      "('episode: ', 190, 'R :', 2.0, 'statistics :', [(u'average_q', 19.206660855021987), (u'average_loss', 0.18079676409877032)])\n",
      "('episode: ', 200, 'R :', 4.0, 'statistics :', [(u'average_q', 21.025836214529456), (u'average_loss', 0.2011885569206791)])\n",
      "('episode: ', 210, 'R :', 2.0, 'statistics :', [(u'average_q', 25.018533307896412), (u'average_loss', 0.2324370352318007)])\n",
      "('episode: ', 220, 'R :', 3.0, 'statistics :', [(u'average_q', 30.333021723175776), (u'average_loss', 0.21872532378758547)])\n",
      "('episode: ', 230, 'R :', 2.0, 'statistics :', [(u'average_q', 30.711796746249245), (u'average_loss', 0.19628784842744165)])\n",
      "('episode: ', 240, 'R :', 2.0, 'statistics :', [(u'average_q', 31.609451749638524), (u'average_loss', 0.28414515975384824)])\n",
      "('episode: ', 250, 'R :', 3.0, 'statistics :', [(u'average_q', 33.77528360378618), (u'average_loss', 0.27885627791714707)])\n",
      "('episode: ', 260, 'R :', 2.0, 'statistics :', [(u'average_q', 36.31160523110256), (u'average_loss', 0.3132174382256578)])\n",
      "('episode: ', 270, 'R :', 1.0, 'statistics :', [(u'average_q', 35.72378536125253), (u'average_loss', 0.3137837959561832)])\n",
      "('episode: ', 280, 'R :', 2.0, 'statistics :', [(u'average_q', 37.49420186413442), (u'average_loss', 0.2616757915042721)])\n",
      "('episode: ', 290, 'R :', 1.0, 'statistics :', [(u'average_q', 38.39648830123737), (u'average_loss', 0.26075513436987335)])\n",
      "('episode: ', 300, 'R :', 1.0, 'statistics :', [(u'average_q', 38.22713714210963), (u'average_loss', 0.2905753813567834)])\n",
      "('episode: ', 310, 'R :', 2.0, 'statistics :', [(u'average_q', 38.53360437305257), (u'average_loss', 0.2843272314696544)])\n",
      "('episode: ', 320, 'R :', 2.0, 'statistics :', [(u'average_q', 38.0057204269149), (u'average_loss', 0.30034074598956634)])\n",
      "('episode: ', 330, 'R :', 2.0, 'statistics :', [(u'average_q', 39.52274980457427), (u'average_loss', 0.373801666958908)])\n",
      "('episode: ', 340, 'R :', 2.0, 'statistics :', [(u'average_q', 44.07142142886276), (u'average_loss', 0.34998481241292)])\n",
      "('episode: ', 350, 'R :', 3.0, 'statistics :', [(u'average_q', 42.99309278753955), (u'average_loss', 0.35011149422218507)])\n",
      "('episode: ', 360, 'R :', 3.0, 'statistics :', [(u'average_q', 43.76572393537752), (u'average_loss', 0.42754808688505264)])\n",
      "('episode: ', 370, 'R :', 20.0, 'statistics :', [(u'average_q', 46.25273837636112), (u'average_loss', 0.4238421527532462)])\n"
     ]
    },
    {
     "ename": "Error",
     "evalue": "Tried to reset environment which is not done. While the monitor is active for LiftingODE-v0, you cannot call reset() unless the episode is over.",
     "output_type": "error",
     "traceback": [
      "\u001b[0;31m---------------------------------------------------------------------------\u001b[0m",
      "\u001b[0;31mError\u001b[0m                                     Traceback (most recent call last)",
      "\u001b[0;32m<ipython-input-9-22e15c0169d4>\u001b[0m in \u001b[0;36m<module>\u001b[0;34m()\u001b[0m\n\u001b[1;32m      1\u001b[0m \u001b[0;32mfor\u001b[0m \u001b[0mepisode\u001b[0m \u001b[0;32min\u001b[0m \u001b[0mrange\u001b[0m\u001b[0;34m(\u001b[0m\u001b[0mnum_episodes\u001b[0m\u001b[0;34m)\u001b[0m\u001b[0;34m:\u001b[0m\u001b[0;34m\u001b[0m\u001b[0m\n\u001b[0;32m----> 2\u001b[0;31m     \u001b[0mobservation\u001b[0m \u001b[0;34m=\u001b[0m \u001b[0menv\u001b[0m\u001b[0;34m.\u001b[0m\u001b[0mreset\u001b[0m\u001b[0;34m(\u001b[0m\u001b[0;34m)\u001b[0m\u001b[0;34m\u001b[0m\u001b[0m\n\u001b[0m\u001b[1;32m      3\u001b[0m     \u001b[0mdone\u001b[0m \u001b[0;34m=\u001b[0m \u001b[0mFalse\u001b[0m\u001b[0;34m\u001b[0m\u001b[0m\n\u001b[1;32m      4\u001b[0m     \u001b[0mreward\u001b[0m \u001b[0;34m=\u001b[0m \u001b[0;36m0\u001b[0m\u001b[0;34m\u001b[0m\u001b[0m\n\u001b[1;32m      5\u001b[0m     \u001b[0mR\u001b[0m \u001b[0;34m=\u001b[0m \u001b[0;36m0\u001b[0m\u001b[0;34m\u001b[0m\u001b[0m\n",
      "\u001b[0;32m/home/yashima/anaconda3/envs/py27/lib/python2.7/site-packages/gym/wrappers/monitor.pyc\u001b[0m in \u001b[0;36mreset\u001b[0;34m(self, **kwargs)\u001b[0m\n\u001b[1;32m     35\u001b[0m \u001b[0;34m\u001b[0m\u001b[0m\n\u001b[1;32m     36\u001b[0m     \u001b[0;32mdef\u001b[0m \u001b[0mreset\u001b[0m\u001b[0;34m(\u001b[0m\u001b[0mself\u001b[0m\u001b[0;34m,\u001b[0m \u001b[0;34m**\u001b[0m\u001b[0mkwargs\u001b[0m\u001b[0;34m)\u001b[0m\u001b[0;34m:\u001b[0m\u001b[0;34m\u001b[0m\u001b[0m\n\u001b[0;32m---> 37\u001b[0;31m         \u001b[0mself\u001b[0m\u001b[0;34m.\u001b[0m\u001b[0m_before_reset\u001b[0m\u001b[0;34m(\u001b[0m\u001b[0;34m)\u001b[0m\u001b[0;34m\u001b[0m\u001b[0m\n\u001b[0m\u001b[1;32m     38\u001b[0m         \u001b[0mobservation\u001b[0m \u001b[0;34m=\u001b[0m \u001b[0mself\u001b[0m\u001b[0;34m.\u001b[0m\u001b[0menv\u001b[0m\u001b[0;34m.\u001b[0m\u001b[0mreset\u001b[0m\u001b[0;34m(\u001b[0m\u001b[0;34m**\u001b[0m\u001b[0mkwargs\u001b[0m\u001b[0;34m)\u001b[0m\u001b[0;34m\u001b[0m\u001b[0m\n\u001b[1;32m     39\u001b[0m         \u001b[0mself\u001b[0m\u001b[0;34m.\u001b[0m\u001b[0m_after_reset\u001b[0m\u001b[0;34m(\u001b[0m\u001b[0mobservation\u001b[0m\u001b[0;34m)\u001b[0m\u001b[0;34m\u001b[0m\u001b[0m\n",
      "\u001b[0;32m/home/yashima/anaconda3/envs/py27/lib/python2.7/site-packages/gym/wrappers/monitor.pyc\u001b[0m in \u001b[0;36m_before_reset\u001b[0;34m(self)\u001b[0m\n\u001b[1;32m    178\u001b[0m     \u001b[0;32mdef\u001b[0m \u001b[0m_before_reset\u001b[0m\u001b[0;34m(\u001b[0m\u001b[0mself\u001b[0m\u001b[0;34m)\u001b[0m\u001b[0;34m:\u001b[0m\u001b[0;34m\u001b[0m\u001b[0m\n\u001b[1;32m    179\u001b[0m         \u001b[0;32mif\u001b[0m \u001b[0;32mnot\u001b[0m \u001b[0mself\u001b[0m\u001b[0;34m.\u001b[0m\u001b[0menabled\u001b[0m\u001b[0;34m:\u001b[0m \u001b[0;32mreturn\u001b[0m\u001b[0;34m\u001b[0m\u001b[0m\n\u001b[0;32m--> 180\u001b[0;31m         \u001b[0mself\u001b[0m\u001b[0;34m.\u001b[0m\u001b[0mstats_recorder\u001b[0m\u001b[0;34m.\u001b[0m\u001b[0mbefore_reset\u001b[0m\u001b[0;34m(\u001b[0m\u001b[0;34m)\u001b[0m\u001b[0;34m\u001b[0m\u001b[0m\n\u001b[0m\u001b[1;32m    181\u001b[0m \u001b[0;34m\u001b[0m\u001b[0m\n\u001b[1;32m    182\u001b[0m     \u001b[0;32mdef\u001b[0m \u001b[0m_after_reset\u001b[0m\u001b[0;34m(\u001b[0m\u001b[0mself\u001b[0m\u001b[0;34m,\u001b[0m \u001b[0mobservation\u001b[0m\u001b[0;34m)\u001b[0m\u001b[0;34m:\u001b[0m\u001b[0;34m\u001b[0m\u001b[0m\n",
      "\u001b[0;32m/home/yashima/anaconda3/envs/py27/lib/python2.7/site-packages/gym/wrappers/monitoring/stats_recorder.pyc\u001b[0m in \u001b[0;36mbefore_reset\u001b[0;34m(self)\u001b[0m\n\u001b[1;32m     66\u001b[0m \u001b[0;34m\u001b[0m\u001b[0m\n\u001b[1;32m     67\u001b[0m         \u001b[0;32mif\u001b[0m \u001b[0mself\u001b[0m\u001b[0;34m.\u001b[0m\u001b[0mdone\u001b[0m \u001b[0;32mis\u001b[0m \u001b[0;32mnot\u001b[0m \u001b[0mNone\u001b[0m \u001b[0;32mand\u001b[0m \u001b[0;32mnot\u001b[0m \u001b[0mself\u001b[0m\u001b[0;34m.\u001b[0m\u001b[0mdone\u001b[0m \u001b[0;32mand\u001b[0m \u001b[0mself\u001b[0m\u001b[0;34m.\u001b[0m\u001b[0msteps\u001b[0m \u001b[0;34m>\u001b[0m \u001b[0;36m0\u001b[0m\u001b[0;34m:\u001b[0m\u001b[0;34m\u001b[0m\u001b[0m\n\u001b[0;32m---> 68\u001b[0;31m             \u001b[0;32mraise\u001b[0m \u001b[0merror\u001b[0m\u001b[0;34m.\u001b[0m\u001b[0mError\u001b[0m\u001b[0;34m(\u001b[0m\u001b[0;34m\"Tried to reset environment which is not done. While the monitor is active for {}, you cannot call reset() unless the episode is over.\"\u001b[0m\u001b[0;34m.\u001b[0m\u001b[0mformat\u001b[0m\u001b[0;34m(\u001b[0m\u001b[0mself\u001b[0m\u001b[0;34m.\u001b[0m\u001b[0menv_id\u001b[0m\u001b[0;34m)\u001b[0m\u001b[0;34m)\u001b[0m\u001b[0;34m\u001b[0m\u001b[0m\n\u001b[0m\u001b[1;32m     69\u001b[0m \u001b[0;34m\u001b[0m\u001b[0m\n\u001b[1;32m     70\u001b[0m         \u001b[0mself\u001b[0m\u001b[0;34m.\u001b[0m\u001b[0mdone\u001b[0m \u001b[0;34m=\u001b[0m \u001b[0mFalse\u001b[0m\u001b[0;34m\u001b[0m\u001b[0m\n",
      "\u001b[0;31mError\u001b[0m: Tried to reset environment which is not done. While the monitor is active for LiftingODE-v0, you cannot call reset() unless the episode is over."
     ]
    }
   ],
   "source": [
    "for episode in range(num_episodes):\n",
    "    observation = env.reset()\n",
    "    done = False\n",
    "    reward = 0\n",
    "    R = 0\n",
    "    while not done and R<20:\n",
    "        if episode%10==0:\n",
    "            env.render('human')\n",
    "        action = agent.act_and_train(observation, reward)\n",
    "        observation, reward, done, info = env.step(action)\n",
    "        R += reward\n",
    "    agent.stop_episode_and_train(observation, reward, done)\n",
    "    if episode%10==0:\n",
    "        print('episode: ', episode, 'R :', R, 'statistics :', agent.get_statistics())\n",
    "        agent.save('agent/agent_' + str(episode))"
   ]
  },
  {
   "cell_type": "code",
   "execution_count": 0,
   "metadata": {
    "colab": {},
    "colab_type": "code",
    "id": "me4BNhyRxxWb"
   },
   "outputs": [],
   "source": []
  }
 ],
 "metadata": {
  "accelerator": "GPU",
  "colab": {
   "collapsed_sections": [],
   "name": "lifting_DQN.ipynb",
   "provenance": [],
   "version": "0.3.2"
  },
  "kernelspec": {
   "display_name": "py27",
   "language": "python",
   "name": "py27"
  },
  "language_info": {
   "codemirror_mode": {
    "name": "ipython",
    "version": 2
   },
   "file_extension": ".py",
   "mimetype": "text/x-python",
   "name": "python",
   "nbconvert_exporter": "python",
   "pygments_lexer": "ipython2",
   "version": "2.7.16"
  },
  "toc": {
   "base_numbering": 1,
   "nav_menu": {},
   "number_sections": true,
   "sideBar": true,
   "skip_h1_title": false,
   "title_cell": "Table of Contents",
   "title_sidebar": "Contents",
   "toc_cell": false,
   "toc_position": {},
   "toc_section_display": true,
   "toc_window_display": false
  },
  "varInspector": {
   "cols": {
    "lenName": 16,
    "lenType": 16,
    "lenVar": 40
   },
   "kernels_config": {
    "python": {
     "delete_cmd_postfix": "",
     "delete_cmd_prefix": "del ",
     "library": "var_list.py",
     "varRefreshCmd": "print(var_dic_list())"
    },
    "r": {
     "delete_cmd_postfix": ") ",
     "delete_cmd_prefix": "rm(",
     "library": "var_list.r",
     "varRefreshCmd": "cat(var_dic_list()) "
    }
   },
   "types_to_exclude": [
    "module",
    "function",
    "builtin_function_or_method",
    "instance",
    "_Feature"
   ],
   "window_display": false
  }
 },
 "nbformat": 4,
 "nbformat_minor": 1
}
