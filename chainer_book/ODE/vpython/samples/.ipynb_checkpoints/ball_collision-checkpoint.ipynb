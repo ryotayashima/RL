{
 "cells": [
  {
   "cell_type": "code",
   "execution_count": 1,
   "metadata": {
    "ExecuteTime": {
     "end_time": "2019-08-10T14:13:14.612417Z",
     "start_time": "2019-08-10T14:13:13.140747Z"
    },
    "scrolled": true
   },
   "outputs": [
    {
     "data": {
      "application/javascript": [
       "if (typeof Jupyter !== \"undefined\") {require.undef(\"nbextensions/vpython_libraries/glow.min\");}else{element.textContent = ' ';}"
      ],
      "text/plain": [
       "<IPython.core.display.Javascript object>"
      ]
     },
     "metadata": {},
     "output_type": "display_data"
    },
    {
     "data": {
      "application/javascript": [
       "if (typeof Jupyter !== \"undefined\") {require.undef(\"nbextensions/vpython_libraries/glowcomm\");}else{element.textContent = ' ';}"
      ],
      "text/plain": [
       "<IPython.core.display.Javascript object>"
      ]
     },
     "metadata": {},
     "output_type": "display_data"
    },
    {
     "data": {
      "application/javascript": [
       "if (typeof Jupyter !== \"undefined\") {require.undef(\"nbextensions/vpython_libraries/jquery-ui.custom.min\");}else{element.textContent = ' ';}"
      ],
      "text/plain": [
       "<IPython.core.display.Javascript object>"
      ]
     },
     "metadata": {},
     "output_type": "display_data"
    },
    {
     "data": {
      "application/javascript": [
       "if (typeof Jupyter !== \"undefined\") {require([\"nbextensions/vpython_libraries/glow.min\"], function(){console.log(\"GLOW LOADED\");});}else{element.textContent = ' ';}"
      ],
      "text/plain": [
       "<IPython.core.display.Javascript object>"
      ]
     },
     "metadata": {},
     "output_type": "display_data"
    },
    {
     "data": {
      "application/javascript": [
       "if (typeof Jupyter !== \"undefined\") {require([\"nbextensions/vpython_libraries/glowcomm\"], function(){console.log(\"GLOWCOMM LOADED\");});}else{element.textContent = ' ';}"
      ],
      "text/plain": [
       "<IPython.core.display.Javascript object>"
      ]
     },
     "metadata": {},
     "output_type": "display_data"
    },
    {
     "data": {
      "application/javascript": [
       "if (typeof Jupyter !== \"undefined\") {require([\"nbextensions/vpython_libraries/jquery-ui.custom.min\"], function(){console.log(\"JQUERY LOADED\");});}else{element.textContent = ' ';}"
      ],
      "text/plain": [
       "<IPython.core.display.Javascript object>"
      ]
     },
     "metadata": {},
     "output_type": "display_data"
    },
    {
     "data": {
      "text/html": [
       "<div id=\"glowscript\" class=\"glowscript\"></div>"
      ],
      "text/plain": [
       "<IPython.core.display.HTML object>"
      ]
     },
     "metadata": {},
     "output_type": "display_data"
    },
    {
     "data": {
      "application/javascript": [
       "if (typeof Jupyter !== \"undefined\") { window.__context = { glowscript_container: $(\"#glowscript\").removeAttr(\"id\")};}else{ element.textContent = ' ';}"
      ],
      "text/plain": [
       "<IPython.core.display.Javascript object>"
      ]
     },
     "metadata": {},
     "output_type": "display_data"
    }
   ],
   "source": [
    "# -*- coding: utf-8 -*-\n",
    "import vpython as vs\n",
    "import ode"
   ]
  },
  {
   "cell_type": "code",
   "execution_count": 2,
   "metadata": {
    "ExecuteTime": {
     "end_time": "2019-08-10T14:13:14.991946Z",
     "start_time": "2019-08-10T14:13:14.984440Z"
    }
   },
   "outputs": [],
   "source": [
    "def Collision_Callback(args, geom1, geom2):\n",
    "    e = 0.9\n",
    "    contacts = ode.collide(geom1, geom2)\n",
    "    world, contactgroup = args\n",
    "    for c in contacts:\n",
    "        c.setBounce(e)\n",
    "        c.setMu(5000)\n",
    "        j = ode.ContactJoint(world, contactgroup, c)\n",
    "        j.attach(geom1.getBody(), geom2.getBody())"
   ]
  },
  {
   "cell_type": "code",
   "execution_count": 3,
   "metadata": {
    "ExecuteTime": {
     "end_time": "2019-08-10T14:13:15.343236Z",
     "start_time": "2019-08-10T14:13:15.338089Z"
    }
   },
   "outputs": [],
   "source": [
    "world = ode.World()\n",
    "world.setGravity((0, -9.81, 0))"
   ]
  },
  {
   "cell_type": "code",
   "execution_count": 4,
   "metadata": {
    "ExecuteTime": {
     "end_time": "2019-08-10T14:13:15.790343Z",
     "start_time": "2019-08-10T14:13:15.782175Z"
    }
   },
   "outputs": [],
   "source": [
    "ball_body = ode.Body(world)\n",
    "m = ode.Mass()\n",
    "m.setSphere(2500, 0.5)\n",
    "ball_body.setMass(m)\n",
    "ball_body.setPosition((0, 4, 0))"
   ]
  },
  {
   "cell_type": "code",
   "execution_count": 5,
   "metadata": {
    "ExecuteTime": {
     "end_time": "2019-08-10T14:13:16.836495Z",
     "start_time": "2019-08-10T14:13:16.825024Z"
    }
   },
   "outputs": [],
   "source": [
    "space = ode.Space()\n",
    "floor_geom = ode.GeomPlane(space, (0,1,0), 0)\n",
    "ball_geom = ode.GeomSphere(space, radius=0.5)\n",
    "ball_geom.setBody(ball_body)\n",
    "contactgroup = ode.JointGroup()"
   ]
  },
  {
   "cell_type": "code",
   "execution_count": 6,
   "metadata": {
    "ExecuteTime": {
     "end_time": "2019-08-10T14:13:17.636759Z",
     "start_time": "2019-08-10T14:13:17.628310Z"
    }
   },
   "outputs": [],
   "source": [
    "field = vs.box(\n",
    "    size=vs.vector(4, 0.2, 4),\n",
    "    pos=vs.vector(0, 0, 0)\n",
    ")\n",
    "ball = vs.sphere(\n",
    "    pos=vs.vector(0, 4, 0),\n",
    "    radius=0.5,\n",
    "    color=vs.vector(255, 0, 255)\n",
    ")\n",
    "vs.scene.center = vs.vector(0,2,0)"
   ]
  },
  {
   "cell_type": "code",
   "execution_count": 7,
   "metadata": {
    "ExecuteTime": {
     "end_time": "2019-08-10T14:13:30.541917Z",
     "start_time": "2019-08-10T14:13:20.528574Z"
    }
   },
   "outputs": [],
   "source": [
    "t = 0\n",
    "while t<10.0:\n",
    "    space.collide((world, contactgroup), Collision_Callback)\n",
    "    \n",
    "    (x, y, z) = ball_body.getPosition()\n",
    "    ball.pos = vs.vector(x, y, z)\n",
    "    vs.rate(1000)\n",
    "    world.step(0.001)\n",
    "    t += 0.001\n",
    "    contactgroup.empty()"
   ]
  },
  {
   "cell_type": "code",
   "execution_count": null,
   "metadata": {},
   "outputs": [],
   "source": []
  }
 ],
 "metadata": {
  "kernelspec": {
   "display_name": "py27",
   "language": "python",
   "name": "py27"
  },
  "language_info": {
   "codemirror_mode": {
    "name": "ipython",
    "version": 2
   },
   "file_extension": ".py",
   "mimetype": "text/x-python",
   "name": "python",
   "nbconvert_exporter": "python",
   "pygments_lexer": "ipython2",
   "version": "2.7.16"
  },
  "toc": {
   "base_numbering": 1,
   "nav_menu": {},
   "number_sections": true,
   "sideBar": true,
   "skip_h1_title": false,
   "title_cell": "Table of Contents",
   "title_sidebar": "Contents",
   "toc_cell": false,
   "toc_position": {},
   "toc_section_display": true,
   "toc_window_display": false
  },
  "varInspector": {
   "cols": {
    "lenName": 16,
    "lenType": 16,
    "lenVar": 40
   },
   "kernels_config": {
    "python": {
     "delete_cmd_postfix": "",
     "delete_cmd_prefix": "del ",
     "library": "var_list.py",
     "varRefreshCmd": "print(var_dic_list())"
    },
    "r": {
     "delete_cmd_postfix": ") ",
     "delete_cmd_prefix": "rm(",
     "library": "var_list.r",
     "varRefreshCmd": "cat(var_dic_list()) "
    }
   },
   "types_to_exclude": [
    "module",
    "function",
    "builtin_function_or_method",
    "instance",
    "_Feature"
   ],
   "window_display": false
  }
 },
 "nbformat": 4,
 "nbformat_minor": 2
}
