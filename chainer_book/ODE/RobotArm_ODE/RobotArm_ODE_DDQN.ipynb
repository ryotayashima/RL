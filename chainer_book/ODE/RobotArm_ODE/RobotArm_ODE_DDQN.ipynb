{
 "cells": [
  {
   "cell_type": "code",
   "execution_count": 1,
   "metadata": {
    "ExecuteTime": {
     "end_time": "2019-08-10T08:26:05.035157Z",
     "start_time": "2019-08-10T08:26:04.736402Z"
    },
    "colab": {},
    "colab_type": "code",
    "id": "_jE9b0jyJHAp"
   },
   "outputs": [],
   "source": [
    "import myenv\n",
    "import gym\n",
    "from gym import wrappers\n",
    "import numpy as np\n",
    "import time\n",
    "import chainer\n",
    "import chainer.functions as F\n",
    "import chainer.links as L\n",
    "import chainerrl"
   ]
  },
  {
   "cell_type": "code",
   "execution_count": 2,
   "metadata": {
    "ExecuteTime": {
     "end_time": "2019-08-10T08:26:05.598268Z",
     "start_time": "2019-08-10T08:26:05.588449Z"
    },
    "colab": {},
    "colab_type": "code",
    "id": "o3Y0JQ90LfZy"
   },
   "outputs": [],
   "source": [
    "class QFunction(chainer.Chain):\n",
    "    def __init__(self, obs_size, n_actions, n_hidden_channels=100):\n",
    "        super(QFunction, self).__init__()\n",
    "        with self.init_scope():\n",
    "            self.l0 = L.Linear(obs_size, n_hidden_channels)\n",
    "            self.l1 = L.Linear(n_hidden_channels, n_hidden_channels)\n",
    "            self.l2 = L.Linear(n_hidden_channels, n_actions)\n",
    "    def __call__(self, x, test=False):\n",
    "        h = F.tanh(self.l0(x))\n",
    "        h = F.tanh(self.l1(h))\n",
    "        return chainerrl.action_value.DiscreteActionValue(self.l2(h))"
   ]
  },
  {
   "cell_type": "code",
   "execution_count": 3,
   "metadata": {
    "ExecuteTime": {
     "end_time": "2019-08-10T08:26:06.165671Z",
     "start_time": "2019-08-10T08:26:06.148574Z"
    },
    "colab": {},
    "colab_type": "code",
    "id": "jKXpbXLmLl2G"
   },
   "outputs": [
    {
     "name": "stderr",
     "output_type": "stream",
     "text": [
      "/home/yashima/anaconda3/envs/py27/lib/python2.7/site-packages/gym/logger.py:30: UserWarning: \u001b[33mWARN: Environment '<class 'myenv.env.robotarm_ode.RobotArmODEEnv'>' has deprecated methods '_step' and '_reset' rather than 'step' and 'reset'. Compatibility code invoked. Set _gym_disable_underscore_compat = True to disable this behavior.\u001b[0m\n",
      "  warnings.warn(colorize('%s: %s'%('WARN', msg % args), 'yellow'))\n"
     ]
    }
   ],
   "source": [
    "env = gym.make('RobotArmODE-v0')\n",
    "# env = wrappers.Monitor(env, 'videos', video_callable=(lambda ep: ep % 10 == 0), force=True)"
   ]
  },
  {
   "cell_type": "code",
   "execution_count": 4,
   "metadata": {
    "ExecuteTime": {
     "end_time": "2019-08-10T08:26:06.733569Z",
     "start_time": "2019-08-10T08:26:06.728894Z"
    },
    "colab": {},
    "colab_type": "code",
    "id": "73_0CBiOO9ZX"
   },
   "outputs": [],
   "source": [
    "gamma = 0.99\n",
    "alpha = 0.5\n",
    "max_number_of_steps = 2000\n",
    "num_episodes = 2000"
   ]
  },
  {
   "cell_type": "code",
   "execution_count": 5,
   "metadata": {
    "ExecuteTime": {
     "end_time": "2019-08-10T08:26:07.281422Z",
     "start_time": "2019-08-10T08:26:07.271096Z"
    },
    "colab": {},
    "colab_type": "code",
    "id": "vshDJC62QJcb"
   },
   "outputs": [],
   "source": [
    "q_func = QFunction(env.observation_space.shape[0], env.action_space.n)\n",
    "optimizer = chainer.optimizers.Adam(eps=1e-2)\n",
    "optimizer.setup(q_func)\n",
    "explorer = chainerrl.explorers.LinearDecayEpsilonGreedy(\n",
    "    start_epsilon = 1.0,\n",
    "    end_epsilon = 0.1,\n",
    "    decay_steps = num_episodes,\n",
    "    random_action_func = env.action_space.sample\n",
    ")\n",
    "replay_buffer = chainerrl.replay_buffer.PrioritizedReplayBuffer(capacity=10**6)\n",
    "phi = lambda x: x.astype(np.float32, copy=False)"
   ]
  },
  {
   "cell_type": "code",
   "execution_count": 6,
   "metadata": {
    "ExecuteTime": {
     "end_time": "2019-08-10T08:26:07.853790Z",
     "start_time": "2019-08-10T08:26:07.844889Z"
    },
    "colab": {},
    "colab_type": "code",
    "id": "MnMvx9T-TABR"
   },
   "outputs": [],
   "source": [
    "agent = chainerrl.agents.DoubleDQN(\n",
    "    q_func, optimizer, replay_buffer, gamma, explorer,\n",
    "    replay_start_size = 500,\n",
    "    update_interval = 1,\n",
    "    target_update_interval = 100,\n",
    "    phi = phi\n",
    ")"
   ]
  },
  {
   "cell_type": "code",
   "execution_count": 7,
   "metadata": {
    "ExecuteTime": {
     "end_time": "2019-08-10T11:04:42.918059Z",
     "start_time": "2019-08-10T08:26:08.843987Z"
    },
    "code_folding": [],
    "colab": {
     "base_uri": "https://localhost:8080/",
     "height": 1000
    },
    "colab_type": "code",
    "executionInfo": {
     "elapsed": 357279,
     "status": "ok",
     "timestamp": 1564150932314,
     "user": {
      "displayName": "八島諒汰",
      "photoUrl": "",
      "userId": "01084465765645554068"
     },
     "user_tz": -540
    },
    "id": "YIkuvFmwThPh",
    "outputId": "61b98759-03cf-4cd8-a7fb-208db7b257ab",
    "scrolled": false
   },
   "outputs": [
    {
     "name": "stdout",
     "output_type": "stream",
     "text": [
      "('episode: ', 0, 'R: ', 0.01089999999999999, 'statistics', [(u'average_q', 0.05076845685854456), (u'average_loss', 0)])\n",
      "('episode: ', 10, 'R: ', 0.003399999999999998, 'statistics', [(u'average_q', 0.2074540048386371), (u'average_loss', 0.011078575534531539)])\n",
      "('episode: ', 20, 'R: ', 0.010999999999999989, 'statistics', [(u'average_q', 0.22889498924886534), (u'average_loss', 0.0019207919314112086)])\n",
      "('episode: ', 30, 'R: ', 0.012099999999999982, 'statistics', [(u'average_q', 0.26047172869573887), (u'average_loss', 0.00143284559458547)])\n",
      "('episode: ', 40, 'R: ', 0.0026999999999999993, 'statistics', [(u'average_q', 0.272646646510645), (u'average_loss', 0.0009117878618989727)])\n",
      "('episode: ', 50, 'R: ', 0.002899999999999999, 'statistics', [(u'average_q', 0.27362321314863536), (u'average_loss', 0.0008968515446461502)])\n",
      "('episode: ', 60, 'R: ', 0.0023, 'statistics', [(u'average_q', 0.2642198282708353), (u'average_loss', 0.0007946235729329568)])\n",
      "('episode: ', 70, 'R: ', 0.0024999999999999996, 'statistics', [(u'average_q', 0.24909300633379333), (u'average_loss', 0.0006009244003764005)])\n",
      "('episode: ', 80, 'R: ', 0.0023, 'statistics', [(u'average_q', 0.22508461989912235), (u'average_loss', 0.0004144432091836555)])\n",
      "('episode: ', 90, 'R: ', 0.0029999999999999988, 'statistics', [(u'average_q', 0.20595940504685836), (u'average_loss', 0.0003069144683995611)])\n",
      "('episode: ', 100, 'R: ', 0.0024999999999999996, 'statistics', [(u'average_q', 0.18552896333347904), (u'average_loss', 0.00021410539023750596)])\n",
      "('episode: ', 110, 'R: ', 0.0030999999999999986, 'statistics', [(u'average_q', 0.16657161011136568), (u'average_loss', 0.00015071580876632493)])\n",
      "('episode: ', 120, 'R: ', 0.0026999999999999993, 'statistics', [(u'average_q', 0.14535130275747984), (u'average_loss', 0.00010023017763812866)])\n",
      "('episode: ', 130, 'R: ', 0.0048, 'statistics', [(u'average_q', 0.12602306686461248), (u'average_loss', 6.44485887850717e-05)])\n",
      "('episode: ', 140, 'R: ', 0.011499999999999986, 'statistics', [(u'average_q', 0.11291114483258384), (u'average_loss', 5.0237781550889605e-05)])\n",
      "('episode: ', 150, 'R: ', 0.008300000000000005, 'statistics', [(u'average_q', 0.09814232396260228), (u'average_loss', 3.832938282678325e-05)])\n",
      "('episode: ', 160, 'R: ', 0.0049, 'statistics', [(u'average_q', 0.0844725988993938), (u'average_loss', 2.9945112637357583e-05)])\n",
      "('episode: ', 170, 'R: ', 0.026099999999999898, 'statistics', [(u'average_q', 0.07546124021856936), (u'average_loss', 2.2944387595318534e-05)])\n",
      "('episode: ', 180, 'R: ', 0.009799999999999996, 'statistics', [(u'average_q', 0.0811742726599593), (u'average_loss', 2.416598583548572e-05)])\n",
      "('episode: ', 190, 'R: ', 0.08330000000000136, 'statistics', [(u'average_q', 0.18208982321290307), (u'average_loss', 3.9399676080375806e-05)])\n",
      "('episode: ', 200, 'R: ', 0.01759999999999995, 'statistics', [(u'average_q', 0.1767323094759393), (u'average_loss', 5.086325121899414e-05)])\n",
      "('episode: ', 210, 'R: ', 0.018799999999999942, 'statistics', [(u'average_q', 0.17411719608664836), (u'average_loss', 5.520241371215388e-05)])\n",
      "('episode: ', 220, 'R: ', 0.0023, 'statistics', [(u'average_q', 0.15855793588038086), (u'average_loss', 0.00015750523931997262)])\n",
      "('episode: ', 230, 'R: ', 0.0026999999999999993, 'statistics', [(u'average_q', 0.15532609128439392), (u'average_loss', 0.0001549114749715395)])\n",
      "('episode: ', 240, 'R: ', 0.0024, 'statistics', [(u'average_q', 0.15356555212524955), (u'average_loss', 0.0001711715963838721)])\n",
      "('episode: ', 250, 'R: ', 0.004099999999999998, 'statistics', [(u'average_q', 0.15201715487647816), (u'average_loss', 0.00019392061450053004)])\n",
      "('episode: ', 260, 'R: ', 0.0030999999999999986, 'statistics', [(u'average_q', 0.14773445271581037), (u'average_loss', 0.0001509708491824091)])\n",
      "('episode: ', 270, 'R: ', 0.005200000000000001, 'statistics', [(u'average_q', 0.14880910721548132), (u'average_loss', 0.0001426570557450312)])\n",
      "('episode: ', 280, 'R: ', 0.006000000000000003, 'statistics', [(u'average_q', 0.14946529515532836), (u'average_loss', 0.00014165349389487145)])\n",
      "('episode: ', 290, 'R: ', 0.0029999999999999988, 'statistics', [(u'average_q', 0.148255599585674), (u'average_loss', 0.0004143603411916291)])\n",
      "('episode: ', 300, 'R: ', 0.0024, 'statistics', [(u'average_q', 0.14784957822123534), (u'average_loss', 0.0003619343677823516)])\n",
      "('episode: ', 310, 'R: ', 0.008500000000000004, 'statistics', [(u'average_q', 0.14705152618333558), (u'average_loss', 0.0002910442322924485)])\n",
      "('episode: ', 320, 'R: ', 0.0023, 'statistics', [(u'average_q', 0.1518723127261847), (u'average_loss', 0.00030776039758840796)])\n",
      "('episode: ', 330, 'R: ', 0.0030999999999999986, 'statistics', [(u'average_q', 0.1453729634509839), (u'average_loss', 0.0003120049243942834)])\n",
      "('episode: ', 340, 'R: ', 0.0035999999999999977, 'statistics', [(u'average_q', 0.15095578906697765), (u'average_loss', 0.00032422918204614063)])\n",
      "('episode: ', 350, 'R: ', 0.006500000000000004, 'statistics', [(u'average_q', 0.17596739077999027), (u'average_loss', 0.0002948665591481454)])\n",
      "('episode: ', 360, 'R: ', 0.002799999999999999, 'statistics', [(u'average_q', 0.16200111081498353), (u'average_loss', 0.0003021581558687768)])\n",
      "('episode: ', 370, 'R: ', 0.0024999999999999996, 'statistics', [(u'average_q', 0.2268264372869949), (u'average_loss', 0.0002547073442165688)])\n",
      "('episode: ', 380, 'R: ', 0.004299999999999998, 'statistics', [(u'average_q', 0.2480508610915655), (u'average_loss', 0.00032854500578616746)])\n",
      "('episode: ', 390, 'R: ', 0.0023, 'statistics', [(u'average_q', 0.27744079967454816), (u'average_loss', 0.00031109454990737375)])\n",
      "('episode: ', 400, 'R: ', 0.012099999999999982, 'statistics', [(u'average_q', 0.2974045751360832), (u'average_loss', 0.0004919002071314721)])\n",
      "('episode: ', 410, 'R: ', 0.0032999999999999982, 'statistics', [(u'average_q', 0.2678442110868179), (u'average_loss', 0.00048283393510877113)])\n",
      "('episode: ', 420, 'R: ', 0.0035999999999999977, 'statistics', [(u'average_q', 0.2512766647329246), (u'average_loss', 0.0005117309505999694)])\n",
      "('episode: ', 430, 'R: ', 0.002799999999999999, 'statistics', [(u'average_q', 0.23149066633118262), (u'average_loss', 0.0004841346606072885)])\n",
      "('episode: ', 440, 'R: ', 0.004099999999999998, 'statistics', [(u'average_q', 0.25663305171867634), (u'average_loss', 0.0005171863908810706)])\n",
      "('episode: ', 450, 'R: ', 0.0030999999999999986, 'statistics', [(u'average_q', 0.29756243648739406), (u'average_loss', 0.0015177010881055148)])\n",
      "('episode: ', 460, 'R: ', 3.618568562769625, 'statistics', [(u'average_q', 0.3426468485922318), (u'average_loss', 0.0011852921533433316)])\n",
      "('episode: ', 470, 'R: ', 0.006400000000000004, 'statistics', [(u'average_q', 0.33953727792637883), (u'average_loss', 0.0012134904049078165)])\n",
      "('episode: ', 480, 'R: ', 0.003499999999999998, 'statistics', [(u'average_q', 0.3793427822062403), (u'average_loss', 0.0010614000762304459)])\n",
      "('episode: ', 490, 'R: ', 0.007700000000000007, 'statistics', [(u'average_q', 0.4172821102960256), (u'average_loss', 0.0013564046136107376)])\n",
      "('episode: ', 500, 'R: ', 0.0031999999999999984, 'statistics', [(u'average_q', 0.46335991108798624), (u'average_loss', 0.001480927680945465)])\n",
      "('episode: ', 510, 'R: ', 0.011399999999999987, 'statistics', [(u'average_q', 0.5541883974326214), (u'average_loss', 0.0024336015994374316)])\n",
      "('episode: ', 520, 'R: ', 0.0048, 'statistics', [(u'average_q', 0.5853746574402464), (u'average_loss', 0.002466495592513603)])\n",
      "('episode: ', 530, 'R: ', 0.018499999999999944, 'statistics', [(u'average_q', 0.6707817186076721), (u'average_loss', 0.004849312602837415)])\n",
      "('episode: ', 540, 'R: ', 0.02239999999999992, 'statistics', [(u'average_q', 0.7514318545949792), (u'average_loss', 0.004564734658291988)])\n",
      "('episode: ', 550, 'R: ', 0.0049, 'statistics', [(u'average_q', 0.7771150749564795), (u'average_loss', 0.005272382710252808)])\n",
      "('episode: ', 560, 'R: ', 0.008100000000000007, 'statistics', [(u'average_q', 0.8993614474915729), (u'average_loss', 0.005907618805355052)])\n",
      "('episode: ', 570, 'R: ', 0.006200000000000003, 'statistics', [(u'average_q', 1.021612664767476), (u'average_loss', 0.006046658276583635)])\n",
      "('episode: ', 580, 'R: ', 0.0038999999999999972, 'statistics', [(u'average_q', 1.0706830502951739), (u'average_loss', 0.006844907350880157)])\n"
     ]
    },
    {
     "name": "stdout",
     "output_type": "stream",
     "text": [
      "('episode: ', 590, 'R: ', 0.004099999999999998, 'statistics', [(u'average_q', 1.2488805786463664), (u'average_loss', 0.006855806334827227)])\n",
      "('episode: ', 600, 'R: ', 6.196476510973164, 'statistics', [(u'average_q', 1.3877672557026721), (u'average_loss', 0.007885902387737363)])\n",
      "('episode: ', 610, 'R: ', 0.01739999999999995, 'statistics', [(u'average_q', 1.670273467714801), (u'average_loss', 0.007732596193610922)])\n",
      "('episode: ', 620, 'R: ', 9.060049423649312, 'statistics', [(u'average_q', 2.0677501173529484), (u'average_loss', 0.012937171386781158)])\n",
      "('episode: ', 630, 'R: ', 0.0036999999999999976, 'statistics', [(u'average_q', 2.314173758123834), (u'average_loss', 0.011732658914686835)])\n",
      "('episode: ', 640, 'R: ', 4.682407378798407, 'statistics', [(u'average_q', 2.441927398842279), (u'average_loss', 0.011290651176212025)])\n",
      "('episode: ', 650, 'R: ', 0.004299999999999998, 'statistics', [(u'average_q', 2.526669762996352), (u'average_loss', 0.01054893311610251)])\n",
      "('episode: ', 660, 'R: ', 0.0039999999999999975, 'statistics', [(u'average_q', 2.616994367377572), (u'average_loss', 0.010282961511975634)])\n",
      "('episode: ', 670, 'R: ', 5.983343517778326, 'statistics', [(u'average_q', 3.045950150393204), (u'average_loss', 0.012149565576543642)])\n",
      "('episode: ', 680, 'R: ', 15.69633844886909, 'statistics', [(u'average_q', 3.209452219083043), (u'average_loss', 0.012005691626249553)])\n",
      "('episode: ', 690, 'R: ', 5.88363617788881, 'statistics', [(u'average_q', 3.4696230057534767), (u'average_loss', 0.013257306239838793)])\n",
      "('episode: ', 700, 'R: ', 11.859609700366885, 'statistics', [(u'average_q', 3.7311081179900882), (u'average_loss', 0.01512026775897851)])\n",
      "('episode: ', 710, 'R: ', 5.0964331660964, 'statistics', [(u'average_q', 3.9422961944916075), (u'average_loss', 0.016240802416565357)])\n",
      "('episode: ', 720, 'R: ', 8.014167640104963, 'statistics', [(u'average_q', 4.190009908527268), (u'average_loss', 0.015301554949041691)])\n",
      "('episode: ', 730, 'R: ', 5.792023384233942, 'statistics', [(u'average_q', 4.486889262099583), (u'average_loss', 0.021389585632789886)])\n",
      "('episode: ', 740, 'R: ', 16.9731017967452, 'statistics', [(u'average_q', 4.958253071087596), (u'average_loss', 0.02137348908624025)])\n",
      "('episode: ', 750, 'R: ', 7.925837195468646, 'statistics', [(u'average_q', 5.5784897367432045), (u'average_loss', 0.05584307620411392)])\n",
      "('episode: ', 760, 'R: ', 9.543043503838629, 'statistics', [(u'average_q', 5.864266016421485), (u'average_loss', 0.038970996755802234)])\n",
      "('episode: ', 770, 'R: ', 22.67677555037073, 'statistics', [(u'average_q', 6.573136308180312), (u'average_loss', 0.06987598210520812)])\n",
      "('episode: ', 780, 'R: ', 16.418652537412104, 'statistics', [(u'average_q', 7.47171567755935), (u'average_loss', 0.06975494327230378)])\n",
      "('episode: ', 790, 'R: ', 42.94891230974445, 'statistics', [(u'average_q', 8.112025535711991), (u'average_loss', 0.07051865699210504)])\n",
      "('episode: ', 800, 'R: ', 41.098714265286986, 'statistics', [(u'average_q', 9.663258319109707), (u'average_loss', 0.0871024165143066)])\n",
      "('episode: ', 810, 'R: ', 91.20674516491131, 'statistics', [(u'average_q', 11.214823251085605), (u'average_loss', 0.1306084535449353)])\n",
      "('episode: ', 820, 'R: ', 10.981982912554072, 'statistics', [(u'average_q', 11.810675267065195), (u'average_loss', 0.13094228918626874)])\n",
      "('episode: ', 830, 'R: ', 147.02776644725319, 'statistics', [(u'average_q', 12.755363242495633), (u'average_loss', 0.17494596942721932)])\n",
      "('episode: ', 840, 'R: ', 13.921664461641255, 'statistics', [(u'average_q', 13.44178442751367), (u'average_loss', 0.16536742576507074)])\n",
      "('episode: ', 850, 'R: ', 13.608358756942843, 'statistics', [(u'average_q', 14.954095302576215), (u'average_loss', 0.1695805992042938)])\n",
      "('episode: ', 860, 'R: ', 464.4675397595837, 'statistics', [(u'average_q', 29.933277215907406), (u'average_loss', 0.20867548097170924)])\n",
      "('episode: ', 870, 'R: ', 239.10177473384923, 'statistics', [(u'average_q', 54.94254851518825), (u'average_loss', 0.3692001231552235)])\n",
      "('episode: ', 880, 'R: ', 85.78784831481336, 'statistics', [(u'average_q', 61.26976645924523), (u'average_loss', 0.5760554813960915)])\n",
      "('episode: ', 890, 'R: ', 37.9578962796008, 'statistics', [(u'average_q', 76.89685576635927), (u'average_loss', 0.7454509241450819)])\n",
      "('episode: ', 900, 'R: ', 94.50967281786565, 'statistics', [(u'average_q', 84.38974266269857), (u'average_loss', 0.8387895219244033)])\n",
      "('episode: ', 910, 'R: ', 110.35754557629927, 'statistics', [(u'average_q', 89.39096642017667), (u'average_loss', 0.9075891760109142)])\n",
      "('episode: ', 920, 'R: ', 157.4325695152723, 'statistics', [(u'average_q', 95.61940627710362), (u'average_loss', 0.9618118814105939)])\n",
      "('episode: ', 930, 'R: ', 17.693557864224545, 'statistics', [(u'average_q', 98.12592043721803), (u'average_loss', 1.0545847321253565)])\n",
      "('episode: ', 940, 'R: ', 1223.5081091238005, 'statistics', [(u'average_q', 175.60830977112508), (u'average_loss', 1.237948868289116)])\n",
      "('episode: ', 950, 'R: ', 16044.359298497477, 'statistics', [(u'average_q', 228.09353728520378), (u'average_loss', 2.079340669720876)])\n",
      "('episode: ', 960, 'R: ', 0.006400000000000004, 'statistics', [(u'average_q', 170.5900534035031), (u'average_loss', 1.7149938021611466)])\n",
      "('episode: ', 970, 'R: ', 63.24684485474303, 'statistics', [(u'average_q', 181.54838433069108), (u'average_loss', 1.896112610641852)])\n",
      "('episode: ', 980, 'R: ', 645.2471490410005, 'statistics', [(u'average_q', 207.70511676652148), (u'average_loss', 1.7573041537593102)])\n",
      "('episode: ', 990, 'R: ', 111.74061597622871, 'statistics', [(u'average_q', 299.66208680846256), (u'average_loss', 2.142997644583988)])\n",
      "('episode: ', 1000, 'R: ', 209.0833516479563, 'statistics', [(u'average_q', 223.40852463612026), (u'average_loss', 2.104544225124025)])\n",
      "('episode: ', 1010, 'R: ', 84.17513034481722, 'statistics', [(u'average_q', 220.36877048910873), (u'average_loss', 2.1763212190441847)])\n",
      "('episode: ', 1020, 'R: ', 566.3606860912884, 'statistics', [(u'average_q', 217.3391093072618), (u'average_loss', 2.10705336032218)])\n",
      "('episode: ', 1030, 'R: ', 62.04053892902911, 'statistics', [(u'average_q', 223.0603667680605), (u'average_loss', 2.1512933806218943)])\n",
      "('episode: ', 1040, 'R: ', 328.3686184886083, 'statistics', [(u'average_q', 369.1182347158711), (u'average_loss', 2.6613211997887847)])\n",
      "('episode: ', 1050, 'R: ', 169.9568369922514, 'statistics', [(u'average_q', 279.1535998071235), (u'average_loss', 2.6074620417140344)])\n",
      "('episode: ', 1060, 'R: ', 17199.206324330884, 'statistics', [(u'average_q', 503.40666634605617), (u'average_loss', 3.1056093418860744)])\n",
      "('episode: ', 1070, 'R: ', 99.71362760109676, 'statistics', [(u'average_q', 306.6404649892198), (u'average_loss', 2.922676164344317)])\n",
      "('episode: ', 1080, 'R: ', 92.57175872010085, 'statistics', [(u'average_q', 243.32678161846295), (u'average_loss', 2.7966008269819596)])\n",
      "('episode: ', 1090, 'R: ', 344.7063855443882, 'statistics', [(u'average_q', 261.2226360827615), (u'average_loss', 2.996642149399949)])\n",
      "('episode: ', 1100, 'R: ', 127.25018055395599, 'statistics', [(u'average_q', 247.73949483275416), (u'average_loss', 2.92298870776449)])\n",
      "('episode: ', 1110, 'R: ', 28.97337695285359, 'statistics', [(u'average_q', 223.53352008766984), (u'average_loss', 3.0002889744547736)])\n",
      "('episode: ', 1120, 'R: ', 158.1375870626797, 'statistics', [(u'average_q', 215.206707325522), (u'average_loss', 3.037089080983257)])\n",
      "('episode: ', 1130, 'R: ', 49.172972883290385, 'statistics', [(u'average_q', 226.20151632339167), (u'average_loss', 3.2574102361567947)])\n",
      "('episode: ', 1140, 'R: ', 0.0032999999999999982, 'statistics', [(u'average_q', 228.92381758124304), (u'average_loss', 3.3466377834315257)])\n",
      "('episode: ', 1150, 'R: ', 225.63595300455853, 'statistics', [(u'average_q', 231.132539214786), (u'average_loss', 3.342360513651766)])\n",
      "('episode: ', 1160, 'R: ', 0.0023, 'statistics', [(u'average_q', 219.93304619322768), (u'average_loss', 3.080355991548782)])\n",
      "('episode: ', 1170, 'R: ', 0.0024, 'statistics', [(u'average_q', 220.86173873487186), (u'average_loss', 3.1168188116906332)])\n",
      "('episode: ', 1180, 'R: ', 0.0022, 'statistics', [(u'average_q', 228.30417004431263), (u'average_loss', 3.5541318044651224)])\n",
      "('episode: ', 1190, 'R: ', 0.0024, 'statistics', [(u'average_q', 225.82491067911064), (u'average_loss', 3.5276380328695334)])\n"
     ]
    },
    {
     "name": "stdout",
     "output_type": "stream",
     "text": [
      "('episode: ', 1200, 'R: ', 0.0022, 'statistics', [(u'average_q', 228.63531172986723), (u'average_loss', 3.3129940464205565)])\n",
      "('episode: ', 1210, 'R: ', 0.0023, 'statistics', [(u'average_q', 228.83951968616012), (u'average_loss', 3.424887849094066)])\n",
      "('episode: ', 1220, 'R: ', 33.62632449199737, 'statistics', [(u'average_q', 227.68377551173796), (u'average_loss', 3.499802306812263)])\n",
      "('episode: ', 1230, 'R: ', 0.0022, 'statistics', [(u'average_q', 245.42219711435675), (u'average_loss', 3.4781678849749444)])\n",
      "('episode: ', 1240, 'R: ', 0.0021000000000000003, 'statistics', [(u'average_q', 243.66216692706718), (u'average_loss', 3.624863759880083)])\n",
      "('episode: ', 1250, 'R: ', 0.0039999999999999975, 'statistics', [(u'average_q', 241.65310601175813), (u'average_loss', 3.4786185909621063)])\n",
      "('episode: ', 1260, 'R: ', 0.005700000000000002, 'statistics', [(u'average_q', 233.5021076086083), (u'average_loss', 3.1319261459280003)])\n",
      "('episode: ', 1270, 'R: ', 0.003499999999999998, 'statistics', [(u'average_q', 249.74508732038802), (u'average_loss', 3.0660273543718852)])\n",
      "('episode: ', 1280, 'R: ', 0.002899999999999999, 'statistics', [(u'average_q', 233.26111725030174), (u'average_loss', 2.9601033187665897)])\n",
      "('episode: ', 1290, 'R: ', 0.0020000000000000005, 'statistics', [(u'average_q', 230.60841340426956), (u'average_loss', 3.1321953527368933)])\n",
      "('episode: ', 1300, 'R: ', 0.0018000000000000006, 'statistics', [(u'average_q', 229.5786624743921), (u'average_loss', 3.2880449620335512)])\n",
      "('episode: ', 1310, 'R: ', 0.004199999999999998, 'statistics', [(u'average_q', 227.73542036262444), (u'average_loss', 3.1023497615631315)])\n",
      "('episode: ', 1320, 'R: ', 0.0017000000000000006, 'statistics', [(u'average_q', 225.6747850925382), (u'average_loss', 3.1683376510520183)])\n",
      "('episode: ', 1330, 'R: ', 0.0017000000000000006, 'statistics', [(u'average_q', 223.6925344368987), (u'average_loss', 3.1624956884285336)])\n",
      "('episode: ', 1340, 'R: ', 0.0016000000000000005, 'statistics', [(u'average_q', 219.88633599582482), (u'average_loss', 3.0109677943585904)])\n",
      "('episode: ', 1350, 'R: ', 0.002799999999999999, 'statistics', [(u'average_q', 229.25794632502564), (u'average_loss', 3.036209253163007)])\n",
      "('episode: ', 1360, 'R: ', 31.69194619294184, 'statistics', [(u'average_q', 597.2248180573571), (u'average_loss', 2.9617984427221358)])\n",
      "('episode: ', 1370, 'R: ', 171.87219128119082, 'statistics', [(u'average_q', 407.929942227475), (u'average_loss', 2.945663192737167)])\n",
      "('episode: ', 1380, 'R: ', 84.14268799598537, 'statistics', [(u'average_q', 347.70344096955), (u'average_loss', 2.976730062918385)])\n",
      "('episode: ', 1390, 'R: ', 78.05724034880427, 'statistics', [(u'average_q', 307.87671658246336), (u'average_loss', 2.775396509300806)])\n",
      "('episode: ', 1400, 'R: ', 30.286889186590994, 'statistics', [(u'average_q', 445.764148286534), (u'average_loss', 2.5817051571097553)])\n",
      "('episode: ', 1410, 'R: ', 333.16195975682905, 'statistics', [(u'average_q', 383.3112691949219), (u'average_loss', 2.6920724309317166)])\n",
      "('episode: ', 1420, 'R: ', 775.6799891457348, 'statistics', [(u'average_q', 330.4295023755034), (u'average_loss', 2.5143174888311948)])\n",
      "('episode: ', 1430, 'R: ', 58.84370557158454, 'statistics', [(u'average_q', 370.05764721464), (u'average_loss', 2.5211550973458543)])\n",
      "('episode: ', 1440, 'R: ', 14.095627294134955, 'statistics', [(u'average_q', 594.763851915735), (u'average_loss', 2.879168132795375)])\n",
      "('episode: ', 1450, 'R: ', 259.5943002649012, 'statistics', [(u'average_q', 451.90056620200767), (u'average_loss', 2.569265868432465)])\n",
      "('episode: ', 1460, 'R: ', 25.55921927485183, 'statistics', [(u'average_q', 243.625151407588), (u'average_loss', 2.7284304515221334)])\n",
      "('episode: ', 1470, 'R: ', 546.0866695319546, 'statistics', [(u'average_q', 335.5284476444724), (u'average_loss', 2.8863951403650434)])\n",
      "('episode: ', 1480, 'R: ', 203.19526400788519, 'statistics', [(u'average_q', 397.6926729255244), (u'average_loss', 2.529740934237641)])\n",
      "('episode: ', 1490, 'R: ', 92.35501248160115, 'statistics', [(u'average_q', 384.12740660825665), (u'average_loss', 2.7367187446967516)])\n",
      "('episode: ', 1500, 'R: ', 46.20486061363997, 'statistics', [(u'average_q', 421.04908112695756), (u'average_loss', 2.8791059046947933)])\n",
      "('episode: ', 1510, 'R: ', 212.66087871487815, 'statistics', [(u'average_q', 484.27021929634805), (u'average_loss', 2.6925730896424245)])\n",
      "('episode: ', 1520, 'R: ', 23.7902819480763, 'statistics', [(u'average_q', 342.321401223872), (u'average_loss', 2.56507444062734)])\n",
      "('episode: ', 1530, 'R: ', 44.903944185825, 'statistics', [(u'average_q', 374.88106735318166), (u'average_loss', 2.835562181969145)])\n",
      "('episode: ', 1540, 'R: ', 718.2440849648831, 'statistics', [(u'average_q', 601.6824362250763), (u'average_loss', 2.611671210729638)])\n",
      "('episode: ', 1550, 'R: ', 469.3252612482571, 'statistics', [(u'average_q', 528.0458790069862), (u'average_loss', 2.542139011213252)])\n",
      "('episode: ', 1560, 'R: ', 19344.949187390717, 'statistics', [(u'average_q', 650.9807628005041), (u'average_loss', 2.3731750875364375)])\n",
      "('episode: ', 1570, 'R: ', 28.502813794207057, 'statistics', [(u'average_q', 646.6589838680608), (u'average_loss', 3.0066365446837136)])\n",
      "('episode: ', 1580, 'R: ', 46.471162813982566, 'statistics', [(u'average_q', 548.5802095756362), (u'average_loss', 2.84423146389141)])\n",
      "('episode: ', 1590, 'R: ', 30.825907907015555, 'statistics', [(u'average_q', 504.89341171370535), (u'average_loss', 2.5156317892912092)])\n",
      "('episode: ', 1600, 'R: ', 53.0835713399141, 'statistics', [(u'average_q', 504.78483661197714), (u'average_loss', 2.7628241623575787)])\n",
      "('episode: ', 1610, 'R: ', 568.3664755379921, 'statistics', [(u'average_q', 529.7778904841895), (u'average_loss', 2.5770329955621256)])\n",
      "('episode: ', 1620, 'R: ', 174.21396600660074, 'statistics', [(u'average_q', 609.7434193020346), (u'average_loss', 2.54754318530397)])\n",
      "('episode: ', 1630, 'R: ', 73.97588833775916, 'statistics', [(u'average_q', 550.9466197929546), (u'average_loss', 2.8350493291933696)])\n",
      "('episode: ', 1640, 'R: ', 67.17733535206621, 'statistics', [(u'average_q', 509.5600370002401), (u'average_loss', 2.9138773968591622)])\n",
      "('episode: ', 1650, 'R: ', 29.592923343981695, 'statistics', [(u'average_q', 495.14574791820655), (u'average_loss', 2.760166367228268)])\n",
      "('episode: ', 1660, 'R: ', 38.54429951691848, 'statistics', [(u'average_q', 467.19313744549873), (u'average_loss', 2.6442525182923453)])\n",
      "('episode: ', 1670, 'R: ', 734.8963633978882, 'statistics', [(u'average_q', 482.8058036565556), (u'average_loss', 2.6591863414934305)])\n",
      "('episode: ', 1680, 'R: ', 140.91511457181883, 'statistics', [(u'average_q', 529.6259790327372), (u'average_loss', 2.6413623987652954)])\n",
      "('episode: ', 1690, 'R: ', 61.23977768458928, 'statistics', [(u'average_q', 521.7269781905126), (u'average_loss', 2.625478286505)])\n",
      "('episode: ', 1700, 'R: ', 45.63418778145434, 'statistics', [(u'average_q', 669.3100249825484), (u'average_loss', 2.8480029053929425)])\n",
      "('episode: ', 1710, 'R: ', 172.3770018560714, 'statistics', [(u'average_q', 572.3304566453181), (u'average_loss', 2.7132060829427562)])\n",
      "('episode: ', 1720, 'R: ', 190.800961090048, 'statistics', [(u'average_q', 509.14150672698077), (u'average_loss', 2.3820417900285342)])\n",
      "('episode: ', 1730, 'R: ', 113.70073895031446, 'statistics', [(u'average_q', 445.3844934979976), (u'average_loss', 2.3236239598373127)])\n",
      "('episode: ', 1740, 'R: ', 131.41697967256363, 'statistics', [(u'average_q', 440.4338702190874), (u'average_loss', 2.400132569165321)])\n",
      "('episode: ', 1750, 'R: ', 30.876899147595193, 'statistics', [(u'average_q', 479.5437510314464), (u'average_loss', 2.5660577467493972)])\n",
      "('episode: ', 1760, 'R: ', 29.238891845830437, 'statistics', [(u'average_q', 465.13351012984367), (u'average_loss', 2.5567222278202273)])\n"
     ]
    },
    {
     "ename": "KeyboardInterrupt",
     "evalue": "",
     "output_type": "error",
     "traceback": [
      "\u001b[0;31m---------------------------------------------------------------------------\u001b[0m",
      "\u001b[0;31mKeyboardInterrupt\u001b[0m                         Traceback (most recent call last)",
      "\u001b[0;32m<ipython-input-7-fb42901f1ea1>\u001b[0m in \u001b[0;36m<module>\u001b[0;34m()\u001b[0m\n\u001b[1;32m      7\u001b[0m         \u001b[0;32mif\u001b[0m \u001b[0mepisode\u001b[0m\u001b[0;34m%\u001b[0m\u001b[0;36m10\u001b[0m\u001b[0;34m==\u001b[0m\u001b[0;36m0\u001b[0m\u001b[0;34m:\u001b[0m\u001b[0;34m\u001b[0m\u001b[0m\n\u001b[1;32m      8\u001b[0m             \u001b[0menv\u001b[0m\u001b[0;34m.\u001b[0m\u001b[0mrender\u001b[0m\u001b[0;34m(\u001b[0m\u001b[0;34m'human'\u001b[0m\u001b[0;34m)\u001b[0m\u001b[0;34m\u001b[0m\u001b[0m\n\u001b[0;32m----> 9\u001b[0;31m         \u001b[0maction\u001b[0m \u001b[0;34m=\u001b[0m \u001b[0magent\u001b[0m\u001b[0;34m.\u001b[0m\u001b[0mact_and_train\u001b[0m\u001b[0;34m(\u001b[0m\u001b[0mobservation\u001b[0m\u001b[0;34m,\u001b[0m \u001b[0mreward\u001b[0m\u001b[0;34m)\u001b[0m\u001b[0;34m\u001b[0m\u001b[0m\n\u001b[0m\u001b[1;32m     10\u001b[0m         \u001b[0mobservation\u001b[0m\u001b[0;34m,\u001b[0m \u001b[0mreward\u001b[0m\u001b[0;34m,\u001b[0m \u001b[0mdone\u001b[0m\u001b[0;34m,\u001b[0m \u001b[0minfo\u001b[0m \u001b[0;34m=\u001b[0m \u001b[0menv\u001b[0m\u001b[0;34m.\u001b[0m\u001b[0mstep\u001b[0m\u001b[0;34m(\u001b[0m\u001b[0maction\u001b[0m\u001b[0;34m)\u001b[0m\u001b[0;34m\u001b[0m\u001b[0m\n\u001b[1;32m     11\u001b[0m         \u001b[0mR\u001b[0m \u001b[0;34m+=\u001b[0m \u001b[0mreward\u001b[0m\u001b[0;34m\u001b[0m\u001b[0m\n",
      "\u001b[0;32m/home/yashima/anaconda3/envs/py27/lib/python2.7/site-packages/chainerrl/agents/dqn.pyc\u001b[0m in \u001b[0;36mact_and_train\u001b[0;34m(self, state, reward)\u001b[0m\n\u001b[1;32m    424\u001b[0m         \u001b[0mself\u001b[0m\u001b[0;34m.\u001b[0m\u001b[0mlast_action\u001b[0m \u001b[0;34m=\u001b[0m \u001b[0maction\u001b[0m\u001b[0;34m\u001b[0m\u001b[0m\n\u001b[1;32m    425\u001b[0m \u001b[0;34m\u001b[0m\u001b[0m\n\u001b[0;32m--> 426\u001b[0;31m         \u001b[0mself\u001b[0m\u001b[0;34m.\u001b[0m\u001b[0mreplay_updater\u001b[0m\u001b[0;34m.\u001b[0m\u001b[0mupdate_if_necessary\u001b[0m\u001b[0;34m(\u001b[0m\u001b[0mself\u001b[0m\u001b[0;34m.\u001b[0m\u001b[0mt\u001b[0m\u001b[0;34m)\u001b[0m\u001b[0;34m\u001b[0m\u001b[0m\n\u001b[0m\u001b[1;32m    427\u001b[0m \u001b[0;34m\u001b[0m\u001b[0m\n\u001b[1;32m    428\u001b[0m         \u001b[0mself\u001b[0m\u001b[0;34m.\u001b[0m\u001b[0mlogger\u001b[0m\u001b[0;34m.\u001b[0m\u001b[0mdebug\u001b[0m\u001b[0;34m(\u001b[0m\u001b[0;34m't:%s r:%s a:%s'\u001b[0m\u001b[0;34m,\u001b[0m \u001b[0mself\u001b[0m\u001b[0;34m.\u001b[0m\u001b[0mt\u001b[0m\u001b[0;34m,\u001b[0m \u001b[0mreward\u001b[0m\u001b[0;34m,\u001b[0m \u001b[0maction\u001b[0m\u001b[0;34m)\u001b[0m\u001b[0;34m\u001b[0m\u001b[0m\n",
      "\u001b[0;32m/home/yashima/anaconda3/envs/py27/lib/python2.7/site-packages/chainerrl/replay_buffer.pyc\u001b[0m in \u001b[0;36mupdate_if_necessary\u001b[0;34m(self, iteration)\u001b[0m\n\u001b[1;32m    422\u001b[0m             \u001b[0;32melse\u001b[0m\u001b[0;34m:\u001b[0m\u001b[0;34m\u001b[0m\u001b[0m\n\u001b[1;32m    423\u001b[0m                 \u001b[0mtransitions\u001b[0m \u001b[0;34m=\u001b[0m \u001b[0mself\u001b[0m\u001b[0;34m.\u001b[0m\u001b[0mreplay_buffer\u001b[0m\u001b[0;34m.\u001b[0m\u001b[0msample\u001b[0m\u001b[0;34m(\u001b[0m\u001b[0mself\u001b[0m\u001b[0;34m.\u001b[0m\u001b[0mbatchsize\u001b[0m\u001b[0;34m)\u001b[0m\u001b[0;34m\u001b[0m\u001b[0m\n\u001b[0;32m--> 424\u001b[0;31m                 \u001b[0mself\u001b[0m\u001b[0;34m.\u001b[0m\u001b[0mupdate_func\u001b[0m\u001b[0;34m(\u001b[0m\u001b[0mtransitions\u001b[0m\u001b[0;34m)\u001b[0m\u001b[0;34m\u001b[0m\u001b[0m\n\u001b[0m",
      "\u001b[0;32m/home/yashima/anaconda3/envs/py27/lib/python2.7/site-packages/chainerrl/agents/dqn.pyc\u001b[0m in \u001b[0;36mupdate\u001b[0;34m(self, experiences, errors_out)\u001b[0m\n\u001b[1;32m    223\u001b[0m                 \u001b[0merrors_out\u001b[0m \u001b[0;34m=\u001b[0m \u001b[0;34m[\u001b[0m\u001b[0;34m]\u001b[0m\u001b[0;34m\u001b[0m\u001b[0m\n\u001b[1;32m    224\u001b[0m         loss = self._compute_loss(\n\u001b[0;32m--> 225\u001b[0;31m             exp_batch, self.gamma, errors_out=errors_out)\n\u001b[0m\u001b[1;32m    226\u001b[0m         \u001b[0;32mif\u001b[0m \u001b[0mhas_weight\u001b[0m\u001b[0;34m:\u001b[0m\u001b[0;34m\u001b[0m\u001b[0m\n\u001b[1;32m    227\u001b[0m             \u001b[0mself\u001b[0m\u001b[0;34m.\u001b[0m\u001b[0mreplay_buffer\u001b[0m\u001b[0;34m.\u001b[0m\u001b[0mupdate_errors\u001b[0m\u001b[0;34m(\u001b[0m\u001b[0merrors_out\u001b[0m\u001b[0;34m)\u001b[0m\u001b[0;34m\u001b[0m\u001b[0m\n",
      "\u001b[0;32m/home/yashima/anaconda3/envs/py27/lib/python2.7/site-packages/chainerrl/agents/dqn.pyc\u001b[0m in \u001b[0;36m_compute_loss\u001b[0;34m(self, exp_batch, gamma, errors_out)\u001b[0m\n\u001b[1;32m    337\u001b[0m         \"\"\"\n\u001b[1;32m    338\u001b[0m \u001b[0;34m\u001b[0m\u001b[0m\n\u001b[0;32m--> 339\u001b[0;31m         \u001b[0my\u001b[0m\u001b[0;34m,\u001b[0m \u001b[0mt\u001b[0m \u001b[0;34m=\u001b[0m \u001b[0mself\u001b[0m\u001b[0;34m.\u001b[0m\u001b[0m_compute_y_and_t\u001b[0m\u001b[0;34m(\u001b[0m\u001b[0mexp_batch\u001b[0m\u001b[0;34m,\u001b[0m \u001b[0mgamma\u001b[0m\u001b[0;34m)\u001b[0m\u001b[0;34m\u001b[0m\u001b[0m\n\u001b[0m\u001b[1;32m    340\u001b[0m \u001b[0;34m\u001b[0m\u001b[0m\n\u001b[1;32m    341\u001b[0m         \u001b[0;32mif\u001b[0m \u001b[0merrors_out\u001b[0m \u001b[0;32mis\u001b[0m \u001b[0;32mnot\u001b[0m \u001b[0mNone\u001b[0m\u001b[0;34m:\u001b[0m\u001b[0;34m\u001b[0m\u001b[0m\n",
      "\u001b[0;32m/home/yashima/anaconda3/envs/py27/lib/python2.7/site-packages/chainerrl/agents/dqn.pyc\u001b[0m in \u001b[0;36m_compute_y_and_t\u001b[0;34m(self, exp_batch, gamma)\u001b[0m\n\u001b[1;32m    321\u001b[0m         \u001b[0;32mwith\u001b[0m \u001b[0mchainer\u001b[0m\u001b[0;34m.\u001b[0m\u001b[0mno_backprop_mode\u001b[0m\u001b[0;34m(\u001b[0m\u001b[0;34m)\u001b[0m\u001b[0;34m:\u001b[0m\u001b[0;34m\u001b[0m\u001b[0m\n\u001b[1;32m    322\u001b[0m             batch_q_target = F.reshape(\n\u001b[0;32m--> 323\u001b[0;31m                 \u001b[0mself\u001b[0m\u001b[0;34m.\u001b[0m\u001b[0m_compute_target_values\u001b[0m\u001b[0;34m(\u001b[0m\u001b[0mexp_batch\u001b[0m\u001b[0;34m,\u001b[0m \u001b[0mgamma\u001b[0m\u001b[0;34m)\u001b[0m\u001b[0;34m,\u001b[0m\u001b[0;34m\u001b[0m\u001b[0m\n\u001b[0m\u001b[1;32m    324\u001b[0m                 (batch_size, 1))\n\u001b[1;32m    325\u001b[0m \u001b[0;34m\u001b[0m\u001b[0m\n",
      "\u001b[0;32m/home/yashima/anaconda3/envs/py27/lib/python2.7/site-packages/chainerrl/agents/double_dqn.pyc\u001b[0m in \u001b[0;36m_compute_target_values\u001b[0;34m(self, exp_batch, gamma)\u001b[0m\n\u001b[1;32m     26\u001b[0m                 \u001b[0mnext_qout\u001b[0m \u001b[0;34m=\u001b[0m \u001b[0mself\u001b[0m\u001b[0;34m.\u001b[0m\u001b[0mq_function\u001b[0m\u001b[0;34m(\u001b[0m\u001b[0mbatch_next_state\u001b[0m\u001b[0;34m)\u001b[0m\u001b[0;34m\u001b[0m\u001b[0m\n\u001b[1;32m     27\u001b[0m \u001b[0;34m\u001b[0m\u001b[0m\n\u001b[0;32m---> 28\u001b[0;31m         \u001b[0mtarget_next_qout\u001b[0m \u001b[0;34m=\u001b[0m \u001b[0mself\u001b[0m\u001b[0;34m.\u001b[0m\u001b[0mtarget_q_function\u001b[0m\u001b[0;34m(\u001b[0m\u001b[0mbatch_next_state\u001b[0m\u001b[0;34m)\u001b[0m\u001b[0;34m\u001b[0m\u001b[0m\n\u001b[0m\u001b[1;32m     29\u001b[0m \u001b[0;34m\u001b[0m\u001b[0m\n\u001b[1;32m     30\u001b[0m         next_q_max = target_next_qout.evaluate_actions(\n",
      "\u001b[0;32m<ipython-input-2-ba16ccbe7382>\u001b[0m in \u001b[0;36m__call__\u001b[0;34m(self, x, test)\u001b[0m\n\u001b[1;32m      7\u001b[0m             \u001b[0mself\u001b[0m\u001b[0;34m.\u001b[0m\u001b[0ml2\u001b[0m \u001b[0;34m=\u001b[0m \u001b[0mL\u001b[0m\u001b[0;34m.\u001b[0m\u001b[0mLinear\u001b[0m\u001b[0;34m(\u001b[0m\u001b[0mn_hidden_channels\u001b[0m\u001b[0;34m,\u001b[0m \u001b[0mn_actions\u001b[0m\u001b[0;34m)\u001b[0m\u001b[0;34m\u001b[0m\u001b[0m\n\u001b[1;32m      8\u001b[0m     \u001b[0;32mdef\u001b[0m \u001b[0m__call__\u001b[0m\u001b[0;34m(\u001b[0m\u001b[0mself\u001b[0m\u001b[0;34m,\u001b[0m \u001b[0mx\u001b[0m\u001b[0;34m,\u001b[0m \u001b[0mtest\u001b[0m\u001b[0;34m=\u001b[0m\u001b[0mFalse\u001b[0m\u001b[0;34m)\u001b[0m\u001b[0;34m:\u001b[0m\u001b[0;34m\u001b[0m\u001b[0m\n\u001b[0;32m----> 9\u001b[0;31m         \u001b[0mh\u001b[0m \u001b[0;34m=\u001b[0m \u001b[0mF\u001b[0m\u001b[0;34m.\u001b[0m\u001b[0mtanh\u001b[0m\u001b[0;34m(\u001b[0m\u001b[0mself\u001b[0m\u001b[0;34m.\u001b[0m\u001b[0ml0\u001b[0m\u001b[0;34m(\u001b[0m\u001b[0mx\u001b[0m\u001b[0;34m)\u001b[0m\u001b[0;34m)\u001b[0m\u001b[0;34m\u001b[0m\u001b[0m\n\u001b[0m\u001b[1;32m     10\u001b[0m         \u001b[0mh\u001b[0m \u001b[0;34m=\u001b[0m \u001b[0mF\u001b[0m\u001b[0;34m.\u001b[0m\u001b[0mtanh\u001b[0m\u001b[0;34m(\u001b[0m\u001b[0mself\u001b[0m\u001b[0;34m.\u001b[0m\u001b[0ml1\u001b[0m\u001b[0;34m(\u001b[0m\u001b[0mh\u001b[0m\u001b[0;34m)\u001b[0m\u001b[0;34m)\u001b[0m\u001b[0;34m\u001b[0m\u001b[0m\n\u001b[1;32m     11\u001b[0m         \u001b[0;32mreturn\u001b[0m \u001b[0mchainerrl\u001b[0m\u001b[0;34m.\u001b[0m\u001b[0maction_value\u001b[0m\u001b[0;34m.\u001b[0m\u001b[0mDiscreteActionValue\u001b[0m\u001b[0;34m(\u001b[0m\u001b[0mself\u001b[0m\u001b[0;34m.\u001b[0m\u001b[0ml2\u001b[0m\u001b[0;34m(\u001b[0m\u001b[0mh\u001b[0m\u001b[0;34m)\u001b[0m\u001b[0;34m)\u001b[0m\u001b[0;34m\u001b[0m\u001b[0m\n",
      "\u001b[0;32m/home/yashima/anaconda3/envs/py27/lib/python2.7/site-packages/chainer/links/connection/linear.pyc\u001b[0m in \u001b[0;36m__call__\u001b[0;34m(self, x)\u001b[0m\n\u001b[1;32m    127\u001b[0m             \u001b[0min_size\u001b[0m \u001b[0;34m=\u001b[0m \u001b[0mfunctools\u001b[0m\u001b[0;34m.\u001b[0m\u001b[0mreduce\u001b[0m\u001b[0;34m(\u001b[0m\u001b[0moperator\u001b[0m\u001b[0;34m.\u001b[0m\u001b[0mmul\u001b[0m\u001b[0;34m,\u001b[0m \u001b[0mx\u001b[0m\u001b[0;34m.\u001b[0m\u001b[0mshape\u001b[0m\u001b[0;34m[\u001b[0m\u001b[0;36m1\u001b[0m\u001b[0;34m:\u001b[0m\u001b[0;34m]\u001b[0m\u001b[0;34m,\u001b[0m \u001b[0;36m1\u001b[0m\u001b[0;34m)\u001b[0m\u001b[0;34m\u001b[0m\u001b[0m\n\u001b[1;32m    128\u001b[0m             \u001b[0mself\u001b[0m\u001b[0;34m.\u001b[0m\u001b[0m_initialize_params\u001b[0m\u001b[0;34m(\u001b[0m\u001b[0min_size\u001b[0m\u001b[0;34m)\u001b[0m\u001b[0;34m\u001b[0m\u001b[0m\n\u001b[0;32m--> 129\u001b[0;31m         \u001b[0;32mreturn\u001b[0m \u001b[0mlinear\u001b[0m\u001b[0;34m.\u001b[0m\u001b[0mlinear\u001b[0m\u001b[0;34m(\u001b[0m\u001b[0mx\u001b[0m\u001b[0;34m,\u001b[0m \u001b[0mself\u001b[0m\u001b[0;34m.\u001b[0m\u001b[0mW\u001b[0m\u001b[0;34m,\u001b[0m \u001b[0mself\u001b[0m\u001b[0;34m.\u001b[0m\u001b[0mb\u001b[0m\u001b[0;34m)\u001b[0m\u001b[0;34m\u001b[0m\u001b[0m\n\u001b[0m",
      "\u001b[0;32m/home/yashima/anaconda3/envs/py27/lib/python2.7/site-packages/chainer/functions/connection/linear.pyc\u001b[0m in \u001b[0;36mlinear\u001b[0;34m(x, W, b)\u001b[0m\n\u001b[1;32m    232\u001b[0m         \u001b[0margs\u001b[0m \u001b[0;34m=\u001b[0m \u001b[0mx\u001b[0m\u001b[0;34m,\u001b[0m \u001b[0mW\u001b[0m\u001b[0;34m,\u001b[0m \u001b[0mb\u001b[0m\u001b[0;34m\u001b[0m\u001b[0m\n\u001b[1;32m    233\u001b[0m \u001b[0;34m\u001b[0m\u001b[0m\n\u001b[0;32m--> 234\u001b[0;31m     \u001b[0my\u001b[0m\u001b[0;34m,\u001b[0m \u001b[0;34m=\u001b[0m \u001b[0mLinearFunction\u001b[0m\u001b[0;34m(\u001b[0m\u001b[0;34m)\u001b[0m\u001b[0;34m.\u001b[0m\u001b[0mapply\u001b[0m\u001b[0;34m(\u001b[0m\u001b[0margs\u001b[0m\u001b[0;34m)\u001b[0m\u001b[0;34m\u001b[0m\u001b[0m\n\u001b[0m\u001b[1;32m    235\u001b[0m     \u001b[0;32mreturn\u001b[0m \u001b[0my\u001b[0m\u001b[0;34m\u001b[0m\u001b[0m\n",
      "\u001b[0;32m/home/yashima/anaconda3/envs/py27/lib/python2.7/site-packages/chainer/function_node.pyc\u001b[0m in \u001b[0;36mapply\u001b[0;34m(self, inputs)\u001b[0m\n\u001b[1;32m    285\u001b[0m \u001b[0;34m\u001b[0m\u001b[0m\n\u001b[1;32m    286\u001b[0m         ret = tuple([variable.Variable(y, requires_grad=requires_grad)\n\u001b[0;32m--> 287\u001b[0;31m                      for y in outputs])\n\u001b[0m\u001b[1;32m    288\u001b[0m \u001b[0;34m\u001b[0m\u001b[0m\n\u001b[1;32m    289\u001b[0m         \u001b[0;32mif\u001b[0m \u001b[0mconfiguration\u001b[0m\u001b[0;34m.\u001b[0m\u001b[0mconfig\u001b[0m\u001b[0;34m.\u001b[0m\u001b[0menable_backprop\u001b[0m\u001b[0;34m:\u001b[0m\u001b[0;34m\u001b[0m\u001b[0m\n",
      "\u001b[0;31mKeyboardInterrupt\u001b[0m: "
     ]
    }
   ],
   "source": [
    "for episode in range(num_episodes):\n",
    "    observation = env.reset()\n",
    "    done = False\n",
    "    reward = 0\n",
    "    R = 0\n",
    "    for t in range(max_number_of_steps):\n",
    "        if episode%10==0:\n",
    "            env.render('human')\n",
    "        action = agent.act_and_train(observation, reward)\n",
    "        observation, reward, done, info = env.step(action)\n",
    "        R += reward\n",
    "        if done and R < 2000:\n",
    "            break\n",
    "\n",
    "    agent.stop_episode_and_train(observation, reward, done)\n",
    "    if episode % 10 == 0:\n",
    "        agent.save('agent+1/agent_' + str(episode))\n",
    "        print('episode: ', episode, 'R: ', R, 'statistics', agent.get_statistics())\n",
    "    "
   ]
  },
  {
   "cell_type": "code",
   "execution_count": null,
   "metadata": {},
   "outputs": [],
   "source": []
  }
 ],
 "metadata": {
  "accelerator": "GPU",
  "colab": {
   "collapsed_sections": [],
   "name": "cartpole_DQN.ipynb",
   "provenance": [],
   "version": "0.3.2"
  },
  "kernelspec": {
   "display_name": "py27",
   "language": "python",
   "name": "py27"
  },
  "language_info": {
   "codemirror_mode": {
    "name": "ipython",
    "version": 2
   },
   "file_extension": ".py",
   "mimetype": "text/x-python",
   "name": "python",
   "nbconvert_exporter": "python",
   "pygments_lexer": "ipython2",
   "version": "2.7.16"
  },
  "toc": {
   "base_numbering": 1,
   "nav_menu": {},
   "number_sections": true,
   "sideBar": true,
   "skip_h1_title": false,
   "title_cell": "Table of Contents",
   "title_sidebar": "Contents",
   "toc_cell": false,
   "toc_position": {},
   "toc_section_display": true,
   "toc_window_display": false
  },
  "varInspector": {
   "cols": {
    "lenName": 16,
    "lenType": 16,
    "lenVar": 40
   },
   "kernels_config": {
    "python": {
     "delete_cmd_postfix": "",
     "delete_cmd_prefix": "del ",
     "library": "var_list.py",
     "varRefreshCmd": "print(var_dic_list())"
    },
    "r": {
     "delete_cmd_postfix": ") ",
     "delete_cmd_prefix": "rm(",
     "library": "var_list.r",
     "varRefreshCmd": "cat(var_dic_list()) "
    }
   },
   "types_to_exclude": [
    "module",
    "function",
    "builtin_function_or_method",
    "instance",
    "_Feature"
   ],
   "window_display": false
  }
 },
 "nbformat": 4,
 "nbformat_minor": 1
}
