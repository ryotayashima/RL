{
 "cells": [
  {
   "cell_type": "code",
   "execution_count": 1,
   "metadata": {
    "ExecuteTime": {
     "end_time": "2019-08-13T21:15:37.339777Z",
     "start_time": "2019-08-13T21:15:37.332752Z"
    }
   },
   "outputs": [],
   "source": [
    "import numpy as np\n",
    "import chainer\n",
    "import chainer.functions as F\n",
    "import chainer.links as L\n",
    "import chainer.initializers as I\n",
    "from chainer import training\n",
    "from chainer.training import extensions"
   ]
  },
  {
   "cell_type": "code",
   "execution_count": 6,
   "metadata": {
    "ExecuteTime": {
     "end_time": "2019-08-13T21:32:41.873136Z",
     "start_time": "2019-08-13T21:32:41.857073Z"
    }
   },
   "outputs": [],
   "source": [
    "class MyChain(chainer.Chain):\n",
    "    def __init__(self):\n",
    "        super(MyChain, self).__init__()\n",
    "        with self.init_scope():\n",
    "            self.conv1 = L.Convolution2D(1, 4, 3, 1, 1)\n",
    "            self.conv2 = L.Convolution2D(4, 8, 3, 1, 1)\n",
    "            self.l3 = L.Linear(None, 10)\n",
    "    def __call__(self, x):\n",
    "        h1 = F.max_pooling_2d(F.relu(self.conv1(x)), ksize=2, stride=2)\n",
    "        h2 = F.max_pooling_2d(F.relu(self.conv2(h1)), ksize=2, stride=2)\n",
    "        return self.l3(h2)"
   ]
  },
  {
   "cell_type": "code",
   "execution_count": 4,
   "metadata": {
    "ExecuteTime": {
     "end_time": "2019-08-13T21:29:19.596661Z",
     "start_time": "2019-08-13T21:29:19.588248Z"
    }
   },
   "outputs": [],
   "source": [
    "epoch = 20\n",
    "batchsize = 100"
   ]
  },
  {
   "cell_type": "code",
   "execution_count": 5,
   "metadata": {
    "ExecuteTime": {
     "end_time": "2019-08-13T21:32:22.106941Z",
     "start_time": "2019-08-13T21:31:26.557253Z"
    }
   },
   "outputs": [
    {
     "name": "stderr",
     "output_type": "stream",
     "text": [
      "Downloading from http://yann.lecun.com/exdb/mnist/train-images-idx3-ubyte.gz...\n",
      "Downloading from http://yann.lecun.com/exdb/mnist/train-labels-idx1-ubyte.gz...\n",
      "Downloading from http://yann.lecun.com/exdb/mnist/t10k-images-idx3-ubyte.gz...\n",
      "Downloading from http://yann.lecun.com/exdb/mnist/t10k-labels-idx1-ubyte.gz...\n"
     ]
    }
   ],
   "source": [
    "train, test = chainer.datasets.get_mnist(ndim=3)"
   ]
  },
  {
   "cell_type": "code",
   "execution_count": 8,
   "metadata": {
    "ExecuteTime": {
     "end_time": "2019-08-13T21:33:51.709037Z",
     "start_time": "2019-08-13T21:33:51.680416Z"
    }
   },
   "outputs": [
    {
     "data": {
      "text/plain": [
       "<chainer.optimizers.adam.Adam at 0x7f0995613400>"
      ]
     },
     "execution_count": 8,
     "metadata": {},
     "output_type": "execute_result"
    }
   ],
   "source": [
    "model = L.Classifier(MyChain(), lossfun=F.softmax_cross_entropy)\n",
    "optimizer = chainer.optimizers.Adam()\n",
    "optimizer.setup(model)"
   ]
  },
  {
   "cell_type": "code",
   "execution_count": 10,
   "metadata": {
    "ExecuteTime": {
     "end_time": "2019-08-13T21:35:52.882861Z",
     "start_time": "2019-08-13T21:35:52.868849Z"
    }
   },
   "outputs": [],
   "source": [
    "train_iter = chainer.iterators.SerialIterator(train, batchsize)\n",
    "test_iter = chainer.iterators.SerialIterator(test, batchsize, repeat=False, shuffle=False)"
   ]
  },
  {
   "cell_type": "code",
   "execution_count": 11,
   "metadata": {
    "ExecuteTime": {
     "end_time": "2019-08-13T21:36:26.245800Z",
     "start_time": "2019-08-13T21:36:26.236374Z"
    }
   },
   "outputs": [],
   "source": [
    "updater = training.StandardUpdater(train_iter, optimizer)"
   ]
  },
  {
   "cell_type": "code",
   "execution_count": 13,
   "metadata": {
    "ExecuteTime": {
     "end_time": "2019-08-13T21:40:21.154192Z",
     "start_time": "2019-08-13T21:40:21.106511Z"
    }
   },
   "outputs": [],
   "source": [
    "trainer = training.Trainer(updater, (epoch,'epoch'))\n",
    "trainer.extend(extensions.Evaluator(test_iter, model))\n",
    "trainer.extend(extensions.PlotReport(['main/loss', 'validation/main/loss'], 'epoch',file_name='loss.png'))\n",
    "trainer.extend(extensions.PlotReport(['main/accuracy', 'validation/main/accuracy'],'epoch', file_name='accuracy.png'))\n",
    "trainer.extend(extensions.LogReport())\n",
    "trainer.extend(extensions.PrintReport(['epoch', 'main/loss', 'validation/main/loss','main/accuracy', 'validation/main/accuracy', 'elapsed_time'] ))\n",
    "trainer.extend(extensions.snapshot(), trigger=(10, 'epoch'))"
   ]
  },
  {
   "cell_type": "code",
   "execution_count": 14,
   "metadata": {
    "ExecuteTime": {
     "end_time": "2019-08-13T21:46:09.484933Z",
     "start_time": "2019-08-13T21:40:29.738822Z"
    }
   },
   "outputs": [
    {
     "name": "stdout",
     "output_type": "stream",
     "text": [
      "epoch       main/loss   validation/main/loss  main/accuracy  validation/main/accuracy  elapsed_time\n",
      "\u001b[J1           0.568484    0.192333              0.844083       0.9447                    19.6773       \n",
      "\u001b[J2           0.160781    0.121514              0.9528         0.9628                    35.9509       \n",
      "\u001b[J3           0.117761    0.0957774             0.965617       0.9712                    52.357        \n",
      "\u001b[J4           0.0978286   0.0803289             0.970817       0.9751                    70.6344       \n",
      "\u001b[J5           0.0860283   0.0757639             0.973617       0.9763                    87.9045       \n",
      "\u001b[J6           0.0766062   0.0668726             0.976533       0.9793                    106.494       \n",
      "\u001b[J7           0.0709228   0.0640852             0.978233       0.9805                    125.998       \n",
      "\u001b[J8           0.0643853   0.0584628             0.980267       0.981                     142.68        \n",
      "\u001b[J9           0.0606631   0.0553628             0.9814         0.9823                    159.618       \n",
      "\u001b[J10          0.0573837   0.0545257             0.982333       0.9828                    176.081       \n",
      "\u001b[J11          0.0546508   0.0533483             0.983117       0.9832                    192.577       \n",
      "\u001b[J12          0.0512461   0.0533653             0.9839         0.9832                    208.939       \n",
      "\u001b[J13          0.0498667   0.0580769             0.9845         0.9815                    225.349       \n",
      "\u001b[J14          0.0471883   0.052828              0.985483       0.9833                    241.678       \n",
      "\u001b[J15          0.0461642   0.0522261             0.986217       0.9831                    258.033       \n",
      "\u001b[J16          0.0445303   0.0535213             0.985717       0.9836                    274.376       \n",
      "\u001b[J17          0.0427085   0.053258              0.98645        0.9832                    290.667       \n",
      "\u001b[J18          0.0418189   0.0543331             0.986917       0.9829                    307.035       \n",
      "\u001b[J19          0.0408455   0.0532841             0.987583       0.9829                    323.304       \n",
      "\u001b[J20          0.0392727   0.0581945             0.987833       0.9823                    339.666       \n"
     ]
    }
   ],
   "source": [
    "trainer.run()"
   ]
  },
  {
   "cell_type": "code",
   "execution_count": 15,
   "metadata": {
    "ExecuteTime": {
     "end_time": "2019-08-13T22:04:03.491932Z",
     "start_time": "2019-08-13T22:04:03.481926Z"
    }
   },
   "outputs": [],
   "source": [
    "chainer.serializers.save_npz(\"result/mnist.model\", model)"
   ]
  }
 ],
 "metadata": {
  "kernelspec": {
   "display_name": "py37",
   "language": "python",
   "name": "py37"
  },
  "language_info": {
   "codemirror_mode": {
    "name": "ipython",
    "version": 3
   },
   "file_extension": ".py",
   "mimetype": "text/x-python",
   "name": "python",
   "nbconvert_exporter": "python",
   "pygments_lexer": "ipython3",
   "version": "3.7.3"
  },
  "toc": {
   "base_numbering": 1,
   "nav_menu": {},
   "number_sections": true,
   "sideBar": true,
   "skip_h1_title": false,
   "title_cell": "Table of Contents",
   "title_sidebar": "Contents",
   "toc_cell": false,
   "toc_position": {},
   "toc_section_display": true,
   "toc_window_display": false
  },
  "varInspector": {
   "cols": {
    "lenName": 16,
    "lenType": 16,
    "lenVar": 40
   },
   "kernels_config": {
    "python": {
     "delete_cmd_postfix": "",
     "delete_cmd_prefix": "del ",
     "library": "var_list.py",
     "varRefreshCmd": "print(var_dic_list())"
    },
    "r": {
     "delete_cmd_postfix": ") ",
     "delete_cmd_prefix": "rm(",
     "library": "var_list.r",
     "varRefreshCmd": "cat(var_dic_list()) "
    }
   },
   "types_to_exclude": [
    "module",
    "function",
    "builtin_function_or_method",
    "instance",
    "_Feature"
   ],
   "window_display": false
  }
 },
 "nbformat": 4,
 "nbformat_minor": 2
}
