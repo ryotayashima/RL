{
 "cells": [
  {
   "cell_type": "code",
   "execution_count": 7,
   "metadata": {
    "ExecuteTime": {
     "end_time": "2019-08-14T00:43:47.702352Z",
     "start_time": "2019-08-14T00:43:47.693754Z"
    }
   },
   "outputs": [],
   "source": [
    "import numpy as np\n",
    "import chainer\n",
    "import chainer.functions as F\n",
    "import chainer.links as L\n",
    "import chainer.initializers as I\n",
    "from chainer import training\n",
    "from chainer.training import extensions\n",
    "import cv2"
   ]
  },
  {
   "cell_type": "code",
   "execution_count": 12,
   "metadata": {
    "ExecuteTime": {
     "end_time": "2019-08-14T00:47:18.178221Z",
     "start_time": "2019-08-14T00:47:18.159523Z"
    }
   },
   "outputs": [],
   "source": [
    "import sys\n",
    "import time"
   ]
  },
  {
   "cell_type": "code",
   "execution_count": 8,
   "metadata": {
    "ExecuteTime": {
     "end_time": "2019-08-14T00:43:48.119965Z",
     "start_time": "2019-08-14T00:43:48.110750Z"
    }
   },
   "outputs": [],
   "source": [
    "class MyChain(chainer.Chain):\n",
    "    def __init__(self):\n",
    "        super(MyChain, self).__init__()\n",
    "        with self.init_scope():\n",
    "            self.conv1 = L.Convolution2D(1, 4, 3, 1, 1)\n",
    "            self.conv2 = L.Convolution2D(4, 8, 3, 1, 1)\n",
    "            self.l3 = L.Linear(None, 10)\n",
    "    def __call__(self, x):\n",
    "        h1 = F.max_pooling_2d(F.relu(self.conv1(x)), ksize=2, stride=2)\n",
    "        h2 = F.max_pooling_2d(F.relu(self.conv2(h1)), ksize=2, stride=2)\n",
    "        return self.l3(h2)"
   ]
  },
  {
   "cell_type": "code",
   "execution_count": 9,
   "metadata": {
    "ExecuteTime": {
     "end_time": "2019-08-14T00:43:48.904304Z",
     "start_time": "2019-08-14T00:43:48.879435Z"
    }
   },
   "outputs": [],
   "source": [
    "model = L.Classifier(MyChain(), lossfun=F.softmax_cross_entropy)\n",
    "chainer.serializers.load_npz('result/mnist.model', model)"
   ]
  },
  {
   "cell_type": "code",
   "execution_count": 13,
   "metadata": {
    "ExecuteTime": {
     "end_time": "2019-08-14T00:53:18.974455Z",
     "start_time": "2019-08-14T00:48:13.106954Z"
    }
   },
   "outputs": [
    {
     "name": "stdout",
     "output_type": "stream",
     "text": [
      "1"
     ]
    }
   ],
   "source": [
    "cap = cv2.VideoCapture(1)\n",
    "while True:\n",
    "    ret, frame = cap.read()            \n",
    "    gray = cv2.cvtColor(frame, cv2.COLOR_BGR2GRAY)\n",
    "\n",
    "    xp = int(frame.shape[1]/2)\n",
    "    yp = int(frame.shape[0]/2)\n",
    "    d = 28*2\n",
    "    cv2.rectangle(gray, (xp-d, yp-d), (xp+d, yp+d), color=0, thickness=2)\n",
    "    cv2.startWindowThread()\n",
    "    cv2.imshow('gray', gray)\n",
    "    if cv2.waitKey(10) == 27:\n",
    "        cv2.waitKey(1)\n",
    "        cv2.destroyAllWindows()\n",
    "        cv2.waitKey(1)\n",
    "        break\n",
    "    gray = cv2.resize(gray[yp-d:yp + d, xp-d:xp + d],(28, 28))\n",
    "    img = np.zeros((28,28), dtype=np.float32)\n",
    "    img[np.where(gray>64)]=1\n",
    "    img = 1-np.asarray(img,dtype=np.float32)  # 0〜1に正規化してみる\n",
    "    img = img[np.newaxis, np.newaxis, :, :] # 4次元行列に変換（1x1x8x8，バッチ数xチャンネル数x縦x横）\n",
    "    x = chainer.Variable(img)\n",
    "    y = model.predictor(x)\n",
    "    c = F.softmax(y).data.argmax()\n",
    "#     print(c)\n",
    "    sys.stdout.write(\"\\r%d\" % c)\n",
    "    sys.stdout.flush()\n",
    "    time.sleep(0.01)\n",
    "                    \n",
    "cap.release()\n"
   ]
  }
 ],
 "metadata": {
  "kernelspec": {
   "display_name": "py37",
   "language": "python",
   "name": "py37"
  },
  "language_info": {
   "codemirror_mode": {
    "name": "ipython",
    "version": 3
   },
   "file_extension": ".py",
   "mimetype": "text/x-python",
   "name": "python",
   "nbconvert_exporter": "python",
   "pygments_lexer": "ipython3",
   "version": "3.7.3"
  },
  "toc": {
   "base_numbering": 1,
   "nav_menu": {},
   "number_sections": true,
   "sideBar": true,
   "skip_h1_title": false,
   "title_cell": "Table of Contents",
   "title_sidebar": "Contents",
   "toc_cell": false,
   "toc_position": {},
   "toc_section_display": true,
   "toc_window_display": false
  },
  "varInspector": {
   "cols": {
    "lenName": 16,
    "lenType": 16,
    "lenVar": 40
   },
   "kernels_config": {
    "python": {
     "delete_cmd_postfix": "",
     "delete_cmd_prefix": "del ",
     "library": "var_list.py",
     "varRefreshCmd": "print(var_dic_list())"
    },
    "r": {
     "delete_cmd_postfix": ") ",
     "delete_cmd_prefix": "rm(",
     "library": "var_list.r",
     "varRefreshCmd": "cat(var_dic_list()) "
    }
   },
   "types_to_exclude": [
    "module",
    "function",
    "builtin_function_or_method",
    "instance",
    "_Feature"
   ],
   "window_display": false
  }
 },
 "nbformat": 4,
 "nbformat_minor": 2
}
