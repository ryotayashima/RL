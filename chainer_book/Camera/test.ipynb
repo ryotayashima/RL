{
 "cells": [
  {
   "cell_type": "code",
   "execution_count": 1,
   "metadata": {
    "ExecuteTime": {
     "end_time": "2019-08-14T00:16:31.330412Z",
     "start_time": "2019-08-14T00:16:31.293003Z"
    }
   },
   "outputs": [],
   "source": [
    "# coding:utf-8\n",
    "import cv2"
   ]
  },
  {
   "cell_type": "code",
   "execution_count": 3,
   "metadata": {
    "ExecuteTime": {
     "end_time": "2019-08-14T00:17:17.115559Z",
     "start_time": "2019-08-14T00:16:51.616875Z"
    }
   },
   "outputs": [],
   "source": [
    "cap = cv2.VideoCapture(1)\n",
    "# cap.set(cv2.CAP_PROP_FPS, 60)\n",
    "# cap.set(cv2.CAP_PROP_FRAME_WIDTH, 1280)\n",
    "# cap.set(cv2.CAP_PROP_FRAME_HEIGHT, 720)\n",
    "# print(cap.get(cv2.CAP_PROP_FPS))\n",
    "while True:\n",
    "    ret, frame = cap.read()\n",
    "    gray = cv2.cvtColor(frame, cv2.COLOR_BGR2GRAY)\n",
    "    cv2.startWindowThread()\n",
    "    cv2.imshow('gray', gray)\n",
    "    k = cv2.waitKey(1)\n",
    "#     print(cap.get(cv2.CAP_PROP_FPS))\n",
    "    if k == 115:\n",
    "        cv2.imwrite('camera.png', gray)\n",
    "    if k == 27:\n",
    "        cv2.waitKey(1)\n",
    "        cv2.destroyAllWindows()\n",
    "        cv2.waitKey(1)\n",
    "        break\n",
    "cap.release()\n",
    "# print(frame.shape)"
   ]
  }
 ],
 "metadata": {
  "kernelspec": {
   "display_name": "py37",
   "language": "python",
   "name": "py37"
  },
  "language_info": {
   "codemirror_mode": {
    "name": "ipython",
    "version": 3
   },
   "file_extension": ".py",
   "mimetype": "text/x-python",
   "name": "python",
   "nbconvert_exporter": "python",
   "pygments_lexer": "ipython3",
   "version": "3.7.3"
  },
  "toc": {
   "base_numbering": 1,
   "nav_menu": {},
   "number_sections": true,
   "sideBar": true,
   "skip_h1_title": false,
   "title_cell": "Table of Contents",
   "title_sidebar": "Contents",
   "toc_cell": false,
   "toc_position": {},
   "toc_section_display": true,
   "toc_window_display": false
  },
  "varInspector": {
   "cols": {
    "lenName": 16,
    "lenType": 16,
    "lenVar": 40
   },
   "kernels_config": {
    "python": {
     "delete_cmd_postfix": "",
     "delete_cmd_prefix": "del ",
     "library": "var_list.py",
     "varRefreshCmd": "print(var_dic_list())"
    },
    "r": {
     "delete_cmd_postfix": ") ",
     "delete_cmd_prefix": "rm(",
     "library": "var_list.r",
     "varRefreshCmd": "cat(var_dic_list()) "
    }
   },
   "types_to_exclude": [
    "module",
    "function",
    "builtin_function_or_method",
    "instance",
    "_Feature"
   ],
   "window_display": false
  }
 },
 "nbformat": 4,
 "nbformat_minor": 2
}
