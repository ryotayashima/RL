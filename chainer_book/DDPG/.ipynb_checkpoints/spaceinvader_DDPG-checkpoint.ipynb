{
 "cells": [
  {
   "cell_type": "markdown",
   "metadata": {
    "colab_type": "text",
    "id": "zYSgMs37Y-eh"
   },
   "source": [
    "#for colab"
   ]
  },
  {
   "cell_type": "code",
   "execution_count": 0,
   "metadata": {
    "colab": {
     "base_uri": "https://localhost:8080/",
     "height": 34
    },
    "colab_type": "code",
    "executionInfo": {
     "elapsed": 41836,
     "status": "ok",
     "timestamp": 1564282764831,
     "user": {
      "displayName": "八島諒汰",
      "photoUrl": "",
      "userId": "01084465765645554068"
     },
     "user_tz": -540
    },
    "id": "jPdsdwP9Y5tX",
    "outputId": "9e146968-3b8b-4418-cd04-23d9fc53dab6"
   },
   "outputs": [
    {
     "name": "stdout",
     "output_type": "stream",
     "text": [
      "Requirement already up-to-date: setuptools in /usr/local/lib/python3.6/dist-packages (41.0.1)\n"
     ]
    }
   ],
   "source": [
    "!pip install gym pyvirtualdisplay > /dev/null 2>&1\n",
    "!apt-get install -y xvfb python-opengl ffmpeg > /dev/null 2>&1\n",
    "!apt-get update > /dev/null 2>&1\n",
    "!apt-get install cmake > /dev/null 2>&1\n",
    "!pip install --upgrade setuptools 2>&1\n",
    "!pip install ez_setup > /dev/null 2>&1\n",
    "!pip install gym[atari] > /dev/null 2>&1"
   ]
  },
  {
   "cell_type": "code",
   "execution_count": 0,
   "metadata": {
    "colab": {
     "base_uri": "https://localhost:8080/",
     "height": 245
    },
    "colab_type": "code",
    "executionInfo": {
     "elapsed": 56321,
     "status": "ok",
     "timestamp": 1564282779470,
     "user": {
      "displayName": "八島諒汰",
      "photoUrl": "",
      "userId": "01084465765645554068"
     },
     "user_tz": -540
    },
    "id": "56Ns9j85jqo8",
    "outputId": "4e3b5891-20ea-4dbd-ae0c-62b14c878944"
   },
   "outputs": [
    {
     "name": "stdout",
     "output_type": "stream",
     "text": [
      "Uninstalling pyglet-1.4.1:\n",
      "  Would remove:\n",
      "    /usr/local/lib/python3.6/dist-packages/pyglet-1.4.1.dist-info/*\n",
      "    /usr/local/lib/python3.6/dist-packages/pyglet/*\n",
      "Proceed (y/n)? y\n",
      "  Successfully uninstalled pyglet-1.4.1\n",
      "Collecting pyglet==1.3.2\n",
      "\u001b[?25l  Downloading https://files.pythonhosted.org/packages/1c/fc/dad5eaaab68f0c21e2f906a94ddb98175662cc5a654eee404d59554ce0fa/pyglet-1.3.2-py2.py3-none-any.whl (1.0MB)\n",
      "\u001b[K     |████████████████████████████████| 1.0MB 2.8MB/s \n",
      "\u001b[?25hRequirement already satisfied: future in /usr/local/lib/python3.6/dist-packages (from pyglet==1.3.2) (0.16.0)\n",
      "Installing collected packages: pyglet\n",
      "Successfully installed pyglet-1.3.2\n"
     ]
    }
   ],
   "source": [
    "!pip uninstall pyglet\n",
    "!pip install --user pyglet==1.3.2"
   ]
  },
  {
   "cell_type": "code",
   "execution_count": 0,
   "metadata": {
    "colab": {},
    "colab_type": "code",
    "id": "aCGMZBNnZfXZ"
   },
   "outputs": [],
   "source": [
    "import gym\n",
    "from gym import logger as gymlogger\n",
    "from gym.wrappers import Monitor\n",
    "gymlogger.set_level(40) #error only\n",
    "import tensorflow as tf\n",
    "import numpy as np\n",
    "import random\n",
    "import matplotlib\n",
    "import matplotlib.pyplot as plt\n",
    "%matplotlib inline\n",
    "import math\n",
    "import glob\n",
    "import io\n",
    "import base64\n",
    "from IPython.display import HTML\n",
    "\n",
    "from IPython import display as ipythondisplay"
   ]
  },
  {
   "cell_type": "code",
   "execution_count": 0,
   "metadata": {
    "colab": {
     "base_uri": "https://localhost:8080/",
     "height": 89
    },
    "colab_type": "code",
    "executionInfo": {
     "elapsed": 2625,
     "status": "ok",
     "timestamp": 1564282786673,
     "user": {
      "displayName": "八島諒汰",
      "photoUrl": "",
      "userId": "01084465765645554068"
     },
     "user_tz": -540
    },
    "id": "CdjwdoM_Zrr7",
    "outputId": "9390f3f0-189b-4d88-a3d7-3a3c0bd04406"
   },
   "outputs": [
    {
     "name": "stderr",
     "output_type": "stream",
     "text": [
      "WARNING: Logging before flag parsing goes to stderr.\n",
      "W0728 02:59:48.601130 139942794348416 abstractdisplay.py:151] xdpyinfo was not found, X start can not be checked! Please install xdpyinfo!\n"
     ]
    },
    {
     "data": {
      "text/plain": [
       "<Display cmd_param=['Xvfb', '-br', '-nolisten', 'tcp', '-screen', '0', '1400x900x24', ':1001'] cmd=['Xvfb', '-br', '-nolisten', 'tcp', '-screen', '0', '1400x900x24', ':1001'] oserror=None return_code=None stdout=\"None\" stderr=\"None\" timeout_happened=False>"
      ]
     },
     "execution_count": 4,
     "metadata": {
      "tags": []
     },
     "output_type": "execute_result"
    }
   ],
   "source": [
    "from pyvirtualdisplay import Display\n",
    "display = Display(visible=0, size=(1400, 900))\n",
    "display.start()"
   ]
  },
  {
   "cell_type": "code",
   "execution_count": 0,
   "metadata": {
    "colab": {},
    "colab_type": "code",
    "id": "XS7cVyX8Z5ez"
   },
   "outputs": [],
   "source": [
    "def show_video():\n",
    "  mp4list = glob.glob('video/*.mp4')\n",
    "  if len(mp4list) > 0:\n",
    "    mp4 = mp4list[0]\n",
    "    video = io.open(mp4, 'r+b').read()\n",
    "    encoded = base64.b64encode(video)\n",
    "    ipythondisplay.display(HTML(data='''<video alt=\"test\" autoplay \n",
    "                loop controls style=\"height: 400px;\">\n",
    "                <source src=\"data:video/mp4;base64,{0}\" type=\"video/mp4\" />\n",
    "             </video>'''.format(encoded.decode('ascii'))))\n",
    "  else: \n",
    "    print(\"Could not find video\")\n",
    "    \n",
    "\n",
    "def wrap_env(env):\n",
    "  env = Monitor(env, './video', force=True)\n",
    "  return env"
   ]
  },
  {
   "cell_type": "code",
   "execution_count": 0,
   "metadata": {
    "colab": {},
    "colab_type": "code",
    "id": "rGcnzH1PaAa4"
   },
   "outputs": [],
   "source": [
    "# env = wrap_env(gym.make(\"MsPacman-v0\"))\n",
    "# show_video()"
   ]
  },
  {
   "cell_type": "markdown",
   "metadata": {
    "colab_type": "text",
    "id": "mWGo8st77Dn6"
   },
   "source": [
    "#main"
   ]
  },
  {
   "cell_type": "code",
   "execution_count": 1,
   "metadata": {
    "colab": {
     "base_uri": "https://localhost:8080/",
     "height": 541
    },
    "colab_type": "code",
    "executionInfo": {
     "elapsed": 7727,
     "status": "ok",
     "timestamp": 1564807428119,
     "user": {
      "displayName": "八島諒汰",
      "photoUrl": "",
      "userId": "01084465765645554068"
     },
     "user_tz": -540
    },
    "id": "brqTjhIb94TL",
    "outputId": "b9798cef-9432-41d2-f9e9-c113fa5ee73e"
   },
   "outputs": [
    {
     "name": "stdout",
     "output_type": "stream",
     "text": [
      "Collecting chainerrl\n",
      "\u001b[?25l  Downloading https://files.pythonhosted.org/packages/2d/d8/d03b4ecc859c06c757fd0ee40c66414bd64872e8900d292fdebcb6449cd7/chainerrl-0.7.0.tar.gz (109kB)\n",
      "\u001b[K     |████████████████████████████████| 112kB 2.8MB/s \n",
      "\u001b[?25hCollecting cached-property (from chainerrl)\n",
      "  Downloading https://files.pythonhosted.org/packages/3b/86/85c1be2e8db9e13ef9a350aecd6dea292bd612fa288c2f40d035bb750ded/cached_property-1.5.1-py2.py3-none-any.whl\n",
      "Requirement already satisfied: chainer>=2.0.0 in /usr/local/lib/python3.6/dist-packages (from chainerrl) (5.4.0)\n",
      "Requirement already satisfied: future in /usr/local/lib/python3.6/dist-packages (from chainerrl) (0.16.0)\n",
      "Requirement already satisfied: gym>=0.9.7 in /usr/local/lib/python3.6/dist-packages (from chainerrl) (0.10.11)\n",
      "Requirement already satisfied: numpy>=1.10.4 in /usr/local/lib/python3.6/dist-packages (from chainerrl) (1.16.4)\n",
      "Requirement already satisfied: pillow in /usr/local/lib/python3.6/dist-packages (from chainerrl) (4.3.0)\n",
      "Requirement already satisfied: scipy in /usr/local/lib/python3.6/dist-packages (from chainerrl) (1.3.0)\n",
      "Requirement already satisfied: protobuf>=3.0.0 in /usr/local/lib/python3.6/dist-packages (from chainer>=2.0.0->chainerrl) (3.7.1)\n",
      "Requirement already satisfied: six>=1.9.0 in /usr/local/lib/python3.6/dist-packages (from chainer>=2.0.0->chainerrl) (1.12.0)\n",
      "Requirement already satisfied: filelock in /usr/local/lib/python3.6/dist-packages (from chainer>=2.0.0->chainerrl) (3.0.12)\n",
      "Requirement already satisfied: requests>=2.0 in /usr/local/lib/python3.6/dist-packages (from gym>=0.9.7->chainerrl) (2.21.0)\n",
      "Requirement already satisfied: pyglet>=1.2.0 in /usr/local/lib/python3.6/dist-packages (from gym>=0.9.7->chainerrl) (1.4.1)\n",
      "Requirement already satisfied: olefile in /usr/local/lib/python3.6/dist-packages (from pillow->chainerrl) (0.46)\n",
      "Requirement already satisfied: setuptools in /usr/local/lib/python3.6/dist-packages (from protobuf>=3.0.0->chainer>=2.0.0->chainerrl) (41.0.1)\n",
      "Requirement already satisfied: urllib3<1.25,>=1.21.1 in /usr/local/lib/python3.6/dist-packages (from requests>=2.0->gym>=0.9.7->chainerrl) (1.24.3)\n",
      "Requirement already satisfied: idna<2.9,>=2.5 in /usr/local/lib/python3.6/dist-packages (from requests>=2.0->gym>=0.9.7->chainerrl) (2.8)\n",
      "Requirement already satisfied: certifi>=2017.4.17 in /usr/local/lib/python3.6/dist-packages (from requests>=2.0->gym>=0.9.7->chainerrl) (2019.6.16)\n",
      "Requirement already satisfied: chardet<3.1.0,>=3.0.2 in /usr/local/lib/python3.6/dist-packages (from requests>=2.0->gym>=0.9.7->chainerrl) (3.0.4)\n",
      "Building wheels for collected packages: chainerrl\n",
      "  Building wheel for chainerrl (setup.py) ... \u001b[?25l\u001b[?25hdone\n",
      "  Created wheel for chainerrl: filename=chainerrl-0.7.0-cp36-none-any.whl size=166687 sha256=210eba0eee5161322f2844540737cd8c053c31a2da2c6883ad37bd91240b4a6c\n",
      "  Stored in directory: /root/.cache/pip/wheels/f0/b0/48/4b5e8531a7dcf544a5e238fbc60d7543489c93d7b5e230fa0c\n",
      "Successfully built chainerrl\n",
      "Installing collected packages: cached-property, chainerrl\n",
      "Successfully installed cached-property-1.5.1 chainerrl-0.7.0\n"
     ]
    }
   ],
   "source": [
    "!pip install chainerrl"
   ]
  },
  {
   "cell_type": "code",
   "execution_count": 0,
   "metadata": {
    "colab": {},
    "colab_type": "code",
    "id": "q45B4Fpe63OG"
   },
   "outputs": [],
   "source": [
    "from __future__ import print_function\n",
    "import chainer\n",
    "import chainer.functions as F\n",
    "import chainer.links as L\n",
    "import chainerrl\n",
    "from chainerrl.agents.ddpg import DDPG\n",
    "from chainerrl.agents.ddpg import DDPGModel\n",
    "from chainerrl import distribution\n",
    "import numpy as np\n",
    "import gym"
   ]
  },
  {
   "cell_type": "code",
   "execution_count": 0,
   "metadata": {
    "colab": {},
    "colab_type": "code",
    "id": "ofsFQf7b-eZj"
   },
   "outputs": [],
   "source": [
    "from tqdm import tqdm"
   ]
  },
  {
   "cell_type": "code",
   "execution_count": 0,
   "metadata": {
    "colab": {},
    "colab_type": "code",
    "id": "EMhBXMaI-iwV"
   },
   "outputs": [],
   "source": [
    "class PolicyNetwork(chainer.Chain):\n",
    "    def __init__(self):\n",
    "        super(PolicyNetwork, self).__init__()\n",
    "        with self.init_scope():\n",
    "            self.conv1 = L.Convolution2D(3, 16, (11, 9), 1, 0)\n",
    "            self.conv2 = L.Convolution2D(16, 32, (11, 9), 1, 0)\n",
    "            self.conv3 = L.Convolution2D(32, 64, (10, 9), 1, 0)\n",
    "            self.l4 = L.Linear(14976, 6)\n",
    "    def __call__(self, x):\n",
    "        h1 = F.max_pooling_2d(F.relu(self.conv1(x)), ksize=2, stride=2)\n",
    "        h2 = F.max_pooling_2d(F.relu(self.conv2(h1)), ksize=2, stride=2)\n",
    "        h3 = F.max_pooling_2d(F.relu(self.conv3(h2)), ksize=2, stride=2)\n",
    "        h4 = F.tanh(self.l4(h3))\n",
    "        return distribution.ContinuousDeterministicDistribution(h4) # 連続値(6次元のベクトル=action数)を返す"
   ]
  },
  {
   "cell_type": "code",
   "execution_count": 0,
   "metadata": {
    "colab": {},
    "colab_type": "code",
    "id": "DFhFFvd7DBb6"
   },
   "outputs": [],
   "source": [
    "class QFunction(chainer.Chain):\n",
    "    def __init__(self):\n",
    "        super(QFunction, self).__init__()\n",
    "        with self.init_scope():\n",
    "            self.conv1 = L.Convolution2D(3, 16, (11, 9), 1, 0)\n",
    "            self.conv2 = L.Convolution2D(16, 32, (11, 9), 1, 0)\n",
    "            self.conv3 = L.Convolution2D(32, 64, (10, 9), 1, 0)\n",
    "            self.l4 = L.Linear(14976, 1000) # 状態を1000次元に変換\n",
    "            self.l5 = L.Linear(1000+6, 1) # 1000+6 (6は状態次元数)\n",
    "    def __call__(self, s, action):\n",
    "        h1 = F.max_pooling_2d(F.relu(self.conv1(s)), ksize=2, stride=2)\n",
    "        h2 = F.max_pooling_2d(F.relu(self.conv2(h1)), ksize=2, stride=2)\n",
    "        h3 = F.max_pooling_2d(F.relu(self.conv3(h2)), ksize=2, stride=2)\n",
    "        h4 = F.tanh(self.l4(h3))\n",
    "        h5 = F.concat((h4, action), axis=1) # 状態と行動を結合\n",
    "        return self.l5(h5) # 状態と行動からQ値を求める"
   ]
  },
  {
   "cell_type": "code",
   "execution_count": 0,
   "metadata": {
    "colab": {},
    "colab_type": "code",
    "id": "Jmn5kR3jGmDv"
   },
   "outputs": [],
   "source": [
    "gamma = 0.995\n",
    "num_episodes = 100"
   ]
  },
  {
   "cell_type": "code",
   "execution_count": 0,
   "metadata": {
    "colab": {},
    "colab_type": "code",
    "id": "d3jQ69njG-bb"
   },
   "outputs": [],
   "source": [
    "q_func = QFunction()\n",
    "# q_func.to_gpu(0)\n",
    "policy = PolicyNetwork()\n",
    "# policy.to_gpu(0)\n",
    "model = DDPGModel(q_func=q_func, policy= policy)\n",
    "optimizer_p = chainer.optimizers.Adam(1e-4)\n",
    "optimizer_q = chainer.optimizers.Adam(1e-3)\n",
    "optimizer_p.setup(model['policy'])\n",
    "optimizer_q.setup(model['q_function'])\n",
    "explorer = chainerrl.explorers.AdditiveOU(sigma=1.0)\n",
    "replay_buffer = chainerrl.replay_buffer.ReplayBuffer(capacity=10**6)\n",
    "phi = lambda x: x.astype(np.float32, copy=False)"
   ]
  },
  {
   "cell_type": "code",
   "execution_count": 0,
   "metadata": {
    "colab": {},
    "colab_type": "code",
    "id": "9XS5d_i5Juxu"
   },
   "outputs": [],
   "source": [
    "agent = DDPG(\n",
    "    model, optimizer_p, optimizer_q, replay_buffer, \n",
    "    gamma = gamma,\n",
    "    explorer = explorer,\n",
    "    replay_start_size = 1000,\n",
    "    target_update_method = 'soft',\n",
    "    target_update_interval = 1,\n",
    "    update_interval = 4,\n",
    "    soft_update_tau = 0.01,\n",
    "    n_times_update = 1,\n",
    "    phi = phi,\n",
    "    minibatch_size = 1,\n",
    "    gpu = 0\n",
    ")"
   ]
  },
  {
   "cell_type": "code",
   "execution_count": 0,
   "metadata": {
    "colab": {},
    "colab_type": "code",
    "id": "jPFTMSTyN9t3"
   },
   "outputs": [],
   "source": [
    "def reward_filter(r): # 報酬値を小さくする(0~1の範囲になるようにする)\n",
    "    return r*0.01"
   ]
  },
  {
   "cell_type": "code",
   "execution_count": 0,
   "metadata": {
    "colab": {},
    "colab_type": "code",
    "id": "FB4Bdrn5OT09"
   },
   "outputs": [],
   "source": [
    "outdir = 'result'"
   ]
  },
  {
   "cell_type": "code",
   "execution_count": 0,
   "metadata": {
    "colab": {},
    "colab_type": "code",
    "id": "5_Ct6hIVPRZ5"
   },
   "outputs": [],
   "source": [
    "chainerrl.misc.set_random_seed(0)"
   ]
  },
  {
   "cell_type": "code",
   "execution_count": 0,
   "metadata": {
    "colab": {},
    "colab_type": "code",
    "id": "c9RnGuPUPXws"
   },
   "outputs": [],
   "source": [
    "env = gym.make('SpaceInvaders-v0')\n",
    "env = gym.wrappers.Monitor(env, outdir, video_callable=(lambda ep: ep % 10 == 0), force=True)\n",
    "env.seed(0)\n",
    "chainerrl.misc.env_modifiers.make_reward_filtered(env, reward_filter)"
   ]
  },
  {
   "cell_type": "code",
   "execution_count": 0,
   "metadata": {
    "colab": {
     "base_uri": "https://localhost:8080/",
     "height": 72
    },
    "colab_type": "code",
    "id": "vPGZXuCRPsfN",
    "outputId": "571b911b-fa20-45dc-c6a3-89769619ea9a"
   },
   "outputs": [
    {
     "name": "stderr",
     "output_type": "stream",
     "text": [
      "  1%|          | 1/100 [00:08<13:16,  8.04s/it]"
     ]
    },
    {
     "name": "stdout",
     "output_type": "stream",
     "text": [
      "Episode    1: total reward 0.65, n_steps 438, statistics: [('average_q', 0.06752737905878173), ('average_actor_loss', 0.0), ('average_critic_loss', 0.0)]\n"
     ]
    },
    {
     "name": "stderr",
     "output_type": "stream",
     "text": [
      "\r",
      "  2%|▏         | 2/100 [00:20<15:13,  9.32s/it]"
     ]
    },
    {
     "name": "stdout",
     "output_type": "stream",
     "text": [
      "Episode    2: total reward 2.5999999999999996, n_steps 875, statistics: [('average_q', -0.12227878637528108), ('average_actor_loss', 0.5979693129822979), ('average_critic_loss', 0.16960163774087306)]\n"
     ]
    }
   ],
   "source": [
    "for episode in tqdm(range(1, num_episodes+1)):\n",
    "    done = False\n",
    "    reward = 0\n",
    "    n_steps = 0\n",
    "    total_reward = 0\n",
    "    obs = env.reset()\n",
    "    obs = np.asarray(obs.transpose(2, 0, 1), dtype=np.float32)\n",
    "    while not done:\n",
    "        action = agent.act_and_train(obs, reward) # actionは連続値\n",
    "        action = F.argmax(action).data\n",
    "        obs, reward, done, info = env.step(action)\n",
    "        total_reward += reward\n",
    "        n_steps +=1\n",
    "        obs = np.asarray(obs.transpose(2, 0, 1), dtype=np.float32)\n",
    "#         print('{0:4d}: action {1}, reward {2}, done? {3}, {4}'.format(n_steps, action, reward, done, info))\n",
    "    agent.stop_episode_and_train(obs, reward, done)\n",
    "    print('Episode {0:4d}: total reward {1}, n_steps {2}, statistics: {3}'.format(episode, total_reward, n_steps, agent.get_statistics())) \n",
    "    if episode % 10 == 0:\n",
    "        agent.save('agent/agent_DDPG_spaceinvaders_' + str(episode))\n"
   ]
  },
  {
   "cell_type": "code",
   "execution_count": 0,
   "metadata": {
    "colab": {},
    "colab_type": "code",
    "id": "LF4R94QckWNh"
   },
   "outputs": [],
   "source": []
  }
 ],
 "metadata": {
  "accelerator": "GPU",
  "colab": {
   "collapsed_sections": [],
   "name": "spaceinvader_DDPG.ipynb",
   "provenance": [],
   "version": "0.3.2"
  },
  "kernelspec": {
   "display_name": "Python 3",
   "language": "python",
   "name": "python3"
  },
  "language_info": {
   "codemirror_mode": {
    "name": "ipython",
    "version": 3
   },
   "file_extension": ".py",
   "mimetype": "text/x-python",
   "name": "python",
   "nbconvert_exporter": "python",
   "pygments_lexer": "ipython3",
   "version": "3.7.3"
  },
  "toc": {
   "base_numbering": 1,
   "nav_menu": {},
   "number_sections": true,
   "sideBar": true,
   "skip_h1_title": false,
   "title_cell": "Table of Contents",
   "title_sidebar": "Contents",
   "toc_cell": false,
   "toc_position": {},
   "toc_section_display": true,
   "toc_window_display": false
  }
 },
 "nbformat": 4,
 "nbformat_minor": 1
}
